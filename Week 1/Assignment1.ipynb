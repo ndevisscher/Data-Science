{
 "cells": [
  {
   "cell_type": "markdown",
   "metadata": {
    "slideshow": {
     "slide_type": "slide"
    }
   },
   "source": [
    "# Assignment1\n",
    "\n",
    "## Notebook made by  \n",
    "\n",
    "|** Name** | **Student id** | **email**|\n",
    "|:- |:-|:-|\n",
    "|Niek de Visscher | 10667474 | niekdevisscher@hetnet.nl |\n",
    "| Leon Smits | 10500731 | leonmarijnsmits@gmail.com|\n",
    "| Daniël van lier | 10639861 | danielvanlier@gmail.com |\n",
    "\n",
    "### Pledge (taken from [Coursera's Honor Code](https://www.coursera.org/about/terms/honorcode) )\n",
    "\n",
    "\n",
    "\n",
    "Put here a selfie with your photo where you hold a signed paper with the following text: (if this is team work, put two selfies here). The link must be to some place on the web, not to a local file. \n",
    "\n",
    "> My answers to homework, quizzes and exams will be my own work (except for assignments that explicitly permit collaboration).\n",
    "\n",
    ">I will not make solutions to homework, quizzes or exams available to anyone else. This includes both solutions written by me, as well as any official solutions provided by the course staff.\n",
    "\n",
    ">I will not engage in any other activities that will dishonestly improve my results or dishonestly improve/hurt the results of others.\n",
    "\n",
    "<img src='link to your selfie'/>\n",
    "\n",
    "### Note\n",
    "* **Assignments without the selfies or completely filled in information will not be graded and receive 0 points.**\n"
   ]
  },
  {
   "cell_type": "markdown",
   "metadata": {
    "slideshow": {
     "slide_type": "slide"
    }
   },
   "source": [
    "# Q1 (Monty Hall problem)\n",
    "\n",
    "This is the part you hand in from the [warm up notebook](MontyHall.ipynb).\n",
    "\n",
    "##  This counts for your mark\n",
    "\n",
    "Generalize your simulation code to handle the case of `n` doors.\n",
    "\n",
    "\n",
    "This sentence can be read in two ways, giving very different outcomes! You must program both, and understand that it all makes sense.\n",
    "\n",
    "\n",
    "### Your work\n",
    "For both interpretations, give a plot with the number of doors on the x-axis and the win_percentage on the y-axis, and plot that value for the two strategies for numbers of doors between 3 and 20. \n",
    "\n",
    "Describe briefly what is going on here, and why the plots makes sense.\n",
    "\n",
    "\n",
    "### Interpretation  1\n",
    "* There are _n_ doors.\n",
    "* You have chosen one door.\n",
    "* The host opens one door as before (it is not the door you have chosen and not a door with the prize)\n",
    "* Now you switch or not."
   ]
  },
  {
   "cell_type": "code",
   "execution_count": 7,
   "metadata": {
    "collapsed": false,
    "slideshow": {
     "slide_type": "slide"
    }
   },
   "outputs": [
    {
     "data": {
      "text/plain": [
       "<matplotlib.text.Text at 0xc8cc3c8>"
      ]
     },
     "execution_count": 7,
     "metadata": {},
     "output_type": "execute_result"
    },
    {
     "data": {
      "image/png": "[encoded data removed]",
      "text/plain": [
       "<matplotlib.figure.Figure at 0xb4ad668>"
      ]
     },
     "metadata": {},
     "output_type": "display_data"
    }
   ],
   "source": [
    "import IPython\n",
    "import numpy as np\n",
    "import matplotlib\n",
    "from __future__ import division\n",
    "import scipy as sp\n",
    "import pandas as pd\n",
    "import bs4\n",
    "\n",
    "#your code here\n",
    "def simulate_prizedoor(nsim,n):\n",
    "    #compute here\n",
    "    answer = []\n",
    "    for d in range(0,nsim):\n",
    "        answer.append(np.random.randint(n))\n",
    "\n",
    "    return answer\n",
    "\n",
    "def simulate_guess(nsim,n):\n",
    "    guesses = []\n",
    "    for d in range(0,nsim):\n",
    "        guesses.append(np.random.randint(n))\n",
    "    return guesses\n",
    "\n",
    "def goat_door(prize,guess,n):\n",
    "    goat = []\n",
    "    for d in range(0,len(prize)):\n",
    "        n1= prize[d]\n",
    "        n2 = guess[d]\n",
    "        number = np.random.randint(n)\n",
    "        while number == n1 or number == n2:\n",
    "            number = np.random.randint(n)\n",
    "        goat.append(number)\n",
    "    return goat\n",
    "\n",
    "\n",
    "def switch_guess(guesses,goatdoors,n):\n",
    "    newchoice = []\n",
    "    for d in range(0,len(guesses)):\n",
    "        n1= guesses[d]\n",
    "        n2 = goatdoors[d]\n",
    "        number = np.random.randint(n)\n",
    "        while number == n1 or number == n2:\n",
    "            number = np.random.randint(n)\n",
    "        newchoice.append(number)\n",
    "    return newchoice\n",
    "\n",
    "def win_percentage(guesses,prizedoors):\n",
    "    counter = 0\n",
    "    for d in range(0,len(guesses)):\n",
    "        if guesses[d] == prizedoors[d]:\n",
    "            counter+=1\n",
    "    percentage = float(counter/len(guesses))\n",
    "    percentage*=100\n",
    "    return percentage\n",
    "\n",
    "#this line prepares IPython for working with matplotlib\n",
    "%matplotlib inline  \n",
    "\n",
    "# this actually imports matplotlib\n",
    "import matplotlib.pyplot as plt \n",
    "import matplotlib.pyplot as plt2 \n",
    "\n",
    "#Hier interpretation 1\n",
    "nochange = []\n",
    "change = []\n",
    "for n in range(3,21):\n",
    "    prizes = simulate_prizedoor(10000,n)\n",
    "    guess = simulate_guess(10000,n)\n",
    "    goats = goat_door(prizes,guess,n)\n",
    "    newguess = switch_guess(guess,goats,n)\n",
    "    nochange.append(win_percentage(prizes,guess))\n",
    "    change.append(win_percentage(prizes,newguess))\n",
    "\n",
    "y =[3,4,5,6,7,8,9,10,11,12,13,14,15,16,17,18,19,20]\n",
    "plt.figure()\n",
    "plt.title(\"interpretation 1\")\n",
    "plt.plot(y, nochange,  'ro-', label='no change')\n",
    "plt.plot(y, change, 'b-', label='change')\n",
    "plt.legend(loc = 'upper right')\n",
    "plt.xlabel(\"number of doors\")\n",
    "plt.ylabel(\"win percentage\")\n"
   ]
  },
  {
   "cell_type": "markdown",
   "metadata": {
    "slideshow": {
     "slide_type": "slide"
    }
   },
   "source": [
    "### Interpretation 2\n",
    "* There are _n_ doors.\n",
    "* You have chosen one door.\n",
    "* The host opens _all except two doors_, namely your door, and a random other door.  Behind none of the opened doors lies the prize."
   ]
  },
  {
   "cell_type": "code",
   "execution_count": 6,
   "metadata": {
    "collapsed": false,
    "slideshow": {
     "slide_type": "slide"
    }
   },
   "outputs": [
    {
     "data": {
      "text/plain": [
       "<matplotlib.text.Text at 0xad73470>"
      ]
     },
     "execution_count": 6,
     "metadata": {},
     "output_type": "execute_result"
    },
    {
     "data": {
      "image/png": "[encoded data removed]",
      "text/plain": [
       "<matplotlib.figure.Figure at 0x9fdf6a0>"
      ]
     },
     "metadata": {},
     "output_type": "display_data"
    }
   ],
   "source": [
    "# your code here\n",
    "#Hier interpretation 2\n",
    "nochange = []\n",
    "change = []\n",
    "for n in range(3,21):\n",
    "    prizes = simulate_prizedoor(10000,n)\n",
    "    guess = simulate_guess(10000,n)\n",
    "    goats = goat_door(prizes,guess,3)\n",
    "    newguess = switch_guess(guess,goats,3)\n",
    "    nochange.append(win_percentage(prizes,guess))\n",
    "    change.append(win_percentage(prizes,newguess))\n",
    "\n",
    "y =[3,4,5,6,7,8,9,10,11,12,13,14,15,16,17,18,19,20]\n",
    "plt.figure()\n",
    "plt.title(\"interpretation 2\")\n",
    "plt.plot(y, nochange,  'ro-', label='no change')\n",
    "plt.plot(y, change, 'b-', label='change')\n",
    "plt.legend(loc = 'upper right')\n",
    "plt.xlabel(\"number of doors\")\n",
    "plt.ylabel(\"win percentage\")"
   ]
  },
  {
   "cell_type": "markdown",
   "metadata": {
    "slideshow": {
     "slide_type": "slide"
    }
   },
   "source": [
    "# Uitleg \n",
    "\n",
    "* hier komt jullie uitleg"
   ]
  },
  {
   "cell_type": "markdown",
   "metadata": {
    "slideshow": {
     "slide_type": "slide"
    }
   },
   "source": [
    "# Q2 Notebook assignment\n",
    "\n",
    "See [Getting familiar with the notebook](../../LectureNotes/lecture_notes_week1.html#ass)\n",
    "\n",
    "Put your lecture as a slideshow here. "
   ]
  }
 ],
 "metadata": {
  "celltoolbar": "Slideshow",
  "kernelspec": {
   "display_name": "Python 2",
   "language": "python",
   "name": "python2"
  },
  "language_info": {
   "codemirror_mode": {
    "name": "ipython",
    "version": 2
   },
   "file_extension": ".py",
   "mimetype": "text/x-python",
   "name": "python",
   "nbconvert_exporter": "python",
   "pygments_lexer": "ipython2",
   "version": "2.7.11"
  }
 },
 "nbformat": 4,
 "nbformat_minor": 0
}
