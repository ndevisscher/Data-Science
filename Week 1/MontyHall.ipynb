{
 "cells": [
  {
   "cell_type": "markdown",
   "metadata": {},
   "source": [
    "# Homework 0\n",
    "\n",
    " \n",
    "\n",
    "\n",
    "## Programming expectations\n",
    "\n",
    "All the assignments and labs for this class will use the command line and Python and, for the most part, the browser-based IPython notebook format you are currently viewing. Knowledge of Python is  a prerequisite for this course.\n",
    "While we have strived to make the programming component of this course straightforward, we will not devote much time to teaching prorgramming or Python syntax. Basically, you should feel comfortable with:\n",
    "\n",
    "* How to look up Python syntax on Google and StackOverflow.\n",
    "* Basic programming concepts like functions, loops, arrays, dictionaries, strings, and if statements.\n",
    "* How to learn new libraries by reading documentation.\n",
    "* Asking questions on StackOverflow or Piazza.\n",
    "\n",
    " \n",
    "## Getting Python\n",
    "\n",
    "You will be using Python throughout the course, including many popular 3rd party Python libraries for scientific computing. [Anaconda](http://continuum.io/downloads) is an easy-to-install bundle of Python and most of these libraries. We recommend that you use Anaconda for this course.\n",
    " \n",
    "\n",
    "<hline>\n",
    "\n",
    "## Hello, Python\n",
    "\n",
    "The IPython notebook is an application to build interactive computational notebooks. You'll be using them to complete labs and homework. Once you've set up Python, please download this HW0 ipython notebook and open it with IPython by typing\n",
    "\n",
    "```\n",
    "ipython notebook <name_of_downloaded_file>\n",
    "```\n",
    "\n",
    "For the rest of the assignment, use your local copy of this page, running on IPython.\n",
    "\n",
    "Notebooks are composed of many \"cells\", which can contain text (like this one), or code (like the one below). Double click on the cell below, and evaluate it by clicking the \"play\" button above, or by hitting shift + enter"
   ]
  },
  {
   "cell_type": "code",
   "execution_count": null,
   "metadata": {
    "collapsed": false
   },
   "outputs": [],
   "source": [
    "x = [10, 20, 30, 40, 50]\n",
    "for item in x:\n",
    "    print \"Item is \", item"
   ]
  },
  {
   "cell_type": "markdown",
   "metadata": {},
   "source": [
    "## Python Libraries\n",
    "\n",
    "We will be using a several different libraries throughout this course. If you've successfully completed the [installation instructions](https://github.com/cs109/content/wiki/Installing-Python), all of the following statements should run."
   ]
  },
  {
   "cell_type": "code",
   "execution_count": 2,
   "metadata": {
    "collapsed": false
   },
   "outputs": [
    {
     "name": "stdout",
     "output_type": "stream",
     "text": [
      "IPython version:       4.0.3 (need at least 1.0)\n",
      "Numpy version:        1.10.1 (need at least 1.7.1)\n",
      "SciPy version:        0.16.0 (need at least 0.12.0)\n",
      "Pandas version:       0.17.1 (need at least 0.11.0)\n",
      "Mapltolib version:     1.5.0 (need at least 1.2.1)\n",
      "Scikit-Learn version:   0.17 (need at least 0.13.1)\n",
      "requests version:      2.9.1 (need at least 1.2.3)\n",
      "NetworkX version:       1.10 (need at least 1.7)\n",
      "BeautifulSoup version: 4.4.1 (need at least 4.0)\n",
      "Mr Job version:        0.4.6 (need at least 0.4)\n",
      "Pattern version:         2.6 (need at least 2.6)\n",
      "Seaborn version:       0.7.0 (need at least 0.3.1)\n"
     ]
    }
   ],
   "source": [
    "#IPython is what you are using now to run the notebook\n",
    "import IPython\n",
    "print \"IPython version:      %6.6s (need at least 1.0)\" % IPython.__version__\n",
    "\n",
    "# Numpy is a library for working with Arrays\n",
    "import numpy as np\n",
    "print \"Numpy version:        %6.6s (need at least 1.7.1)\" % np.__version__\n",
    "\n",
    "# SciPy implements many different numerical algorithms\n",
    "import scipy as sp\n",
    "print \"SciPy version:        %6.6s (need at least 0.12.0)\" % sp.__version__\n",
    "\n",
    "# Pandas makes working with data tables easier\n",
    "import pandas as pd\n",
    "print \"Pandas version:       %6.6s (need at least 0.11.0)\" % pd.__version__\n",
    "\n",
    "# Module for plotting\n",
    "import matplotlib\n",
    "print \"Mapltolib version:    %6.6s (need at least 1.2.1)\" % matplotlib.__version__\n",
    "\n",
    "# SciKit Learn implements several Machine Learning algorithms\n",
    "import sklearn\n",
    "print \"Scikit-Learn version: %6.6s (need at least 0.13.1)\" % sklearn.__version__\n",
    "\n",
    "# Requests is a library for getting data from the Web\n",
    "import requests\n",
    "print \"requests version:     %6.6s (need at least 1.2.3)\" % requests.__version__\n",
    "\n",
    "# Networkx is a library for working with networks\n",
    "import networkx as nx\n",
    "print \"NetworkX version:     %6.6s (need at least 1.7)\" % nx.__version__\n",
    "\n",
    "#BeautifulSoup is a library to parse HTML and XML documents\n",
    "import bs4\n",
    "print \"BeautifulSoup version:%6.6s (need at least 4.0)\" % bs4.__version__\n",
    "\n",
    "#MrJob is a library to run map reduce jobs on Amazon's computers\n",
    "import mrjob\n",
    "print \"Mr Job version:       %6.6s (need at least 0.4)\" % mrjob.__version__\n",
    "\n",
    "#Pattern has lots of tools for working with data from the internet\n",
    "import pattern\n",
    "print \"Pattern version:      %6.6s (need at least 2.6)\" % pattern.__version__\n",
    "\n",
    "#Seaborn is a nice library for visualizations\n",
    "import seaborn\n",
    "print \"Seaborn version:      %6.6s (need at least 0.3.1)\" % seaborn.__version__"
   ]
  },
  {
   "cell_type": "markdown",
   "metadata": {},
   "source": [
    "If any of these libraries are missing or out of date, you will need to [install them](https://github.com/cs109/content/wiki/Installing-Python#installing-additional-libraries).\n",
    "\n",
    "Below is an example of how to install a missing package, and checking again that we have it. You can see that it worked fine."
   ]
  },
  {
   "cell_type": "code",
   "execution_count": 5,
   "metadata": {
    "collapsed": false
   },
   "outputs": [
    {
     "name": "stdout",
     "output_type": "stream",
     "text": [
      "Requirement already satisfied (use --upgrade to upgrade): mrjob in c:\\users\\lol_l\\anaconda2\\lib\\site-packages\n",
      "Requirement already satisfied (use --upgrade to upgrade): PyYAML>=3.08 in c:\\users\\lol_l\\anaconda2\\lib\\site-packages (from mrjob)\n",
      "Requirement already satisfied (use --upgrade to upgrade): boto>=2.6.0 in c:\\users\\lol_l\\anaconda2\\lib\\site-packages (from mrjob)\n",
      "Requirement already satisfied (use --upgrade to upgrade): simplejson>=2.0.9 in c:\\users\\lol_l\\anaconda2\\lib\\site-packages (from mrjob)\n",
      "Requirement already satisfied (use --upgrade to upgrade): filechunkio in c:\\users\\lol_l\\anaconda2\\lib\\site-packages (from mrjob)\n"
     ]
    }
   ],
   "source": [
    "! pip install mrjob"
   ]
  },
  {
   "cell_type": "code",
   "execution_count": 6,
   "metadata": {
    "collapsed": false
   },
   "outputs": [
    {
     "name": "stdout",
     "output_type": "stream",
     "text": [
      "Mr Job version:        0.4.6 (need at least 0.4)\n"
     ]
    }
   ],
   "source": [
    "#MrJob is a library to run map reduce jobs on Amazon's computers\n",
    "import mrjob\n",
    "print \"Mr Job version:       %6.6s (need at least 0.4)\" % mrjob.__version__"
   ]
  },
  {
   "cell_type": "markdown",
   "metadata": {},
   "source": [
    "## Hello matplotlib"
   ]
  },
  {
   "cell_type": "markdown",
   "metadata": {},
   "source": [
    "The notebook integrates nicely with Matplotlib, the primary plotting package for python. This should embed a figure of a sine wave:"
   ]
  },
  {
   "cell_type": "code",
   "execution_count": 7,
   "metadata": {
    "collapsed": false
   },
   "outputs": [
    {
     "data": {
      "text/plain": [
       "<matplotlib.text.Text at 0x1c519320>"
      ]
     },
     "execution_count": 7,
     "metadata": {},
     "output_type": "execute_result"
    },
    {
     "data": {
      "image/png": "[encoded data removed]",
      "text/plain": [
       "<matplotlib.figure.Figure at 0x1c4b76d8>"
      ]
     },
     "metadata": {},
     "output_type": "display_data"
    }
   ],
   "source": [
    "#this line prepares IPython for working with matplotlib\n",
    "%matplotlib inline  \n",
    "\n",
    "# this actually imports matplotlib\n",
    "import matplotlib.pyplot as plt  \n",
    "\n",
    "x = np.linspace(0, 10, 30)  #array of 30 points from 0 to 10\n",
    "y = np.sin(x)\n",
    "z = y + np.random.normal(size=30) * .2\n",
    "plt.plot(x, y, 'ro-', label='A sine wave')\n",
    "plt.plot(x, z, 'b-', label='Noisy sine')\n",
    "plt.legend(loc = 'lower right')\n",
    "plt.xlabel(\"X axis\")\n",
    "plt.ylabel(\"Y axis\")           "
   ]
  },
  {
   "cell_type": "markdown",
   "metadata": {},
   "source": [
    "If that last cell complained about the `%matplotlib` line, you need to update IPython to v1.0, and restart the notebook. See the [installation page](https://github.com/cs109/content/wiki/Installing-Python)"
   ]
  },
  {
   "cell_type": "markdown",
   "metadata": {},
   "source": [
    "## Hello Numpy\n",
    "\n",
    "The Numpy array processing library is the basis of nearly all numerical computing in Python. Here's a 30 second crash course. For more details, consult Chapter 4 of Python for Data Analysis, or the [Numpy User's Guide](http://docs.scipy.org/doc/numpy-dev/user/index.html)"
   ]
  },
  {
   "cell_type": "code",
   "execution_count": 52,
   "metadata": {
    "collapsed": false
   },
   "outputs": [
    {
     "name": "stdout",
     "output_type": "stream",
     "text": [
      "Make a 3 row x 4 column array of random numbers\n",
      "[[ 0.23605574  0.45125072  0.29223555  0.38883923]\n",
      " [ 0.12931804  0.14823232  0.91852398  0.89280871]\n",
      " [ 0.30859444  0.22563856  0.87492378  0.65684817]]\n",
      "\n",
      "Add 1 to every element\n",
      "[[ 1.23605574  1.45125072  1.29223555  1.38883923]\n",
      " [ 1.12931804  1.14823232  1.91852398  1.89280871]\n",
      " [ 1.30859444  1.22563856  1.87492378  1.65684817]]\n",
      "\n",
      "Get the element at row 1, column 2\n",
      "1.91852397771\n",
      "\n",
      "Get the first row\n",
      "[ 1.23605574  1.45125072  1.29223555  1.38883923]\n",
      "[ 1.23605574  1.45125072  1.29223555  1.38883923] works too\n",
      "\n",
      "Get the first column\n",
      "[ 1.23605574  1.12931804  1.30859444]\n",
      "\n",
      "Get every 2nd element of the first row\n",
      "[ 1.23605574  1.29223555]\n",
      "\n"
     ]
    }
   ],
   "source": [
    "print \"Make a 3 row x 4 column array of random numbers\"\n",
    "x = np.random.random((3, 4))\n",
    "print x\n",
    "print\n",
    "\n",
    "print \"Add 1 to every element\"\n",
    "x = x + 1\n",
    "print x\n",
    "print\n",
    "\n",
    "print \"Get the element at row 1, column 2\"\n",
    "print x[1, 2]\n",
    "print\n",
    "\n",
    "# The colon syntax is called \"slicing\" the array. \n",
    "print \"Get the first row\"\n",
    "print x[0, :]\n",
    "print x[0], \"works too\"\n",
    "print\n",
    "\n",
    "# The colon syntax is called \"slicing\" the array. \n",
    "print \"Get the first column\"\n",
    "print x[:, 0]\n",
    " \n",
    "print\n",
    "\n",
    "print \"Get every 2nd element of the first row\"\n",
    "print x[0, ::2]\n",
    "print"
   ]
  },
  {
   "cell_type": "markdown",
   "metadata": {},
   "source": [
    "Use list comprehension to get the diagonal of the matrix. Your code must work for any 2D matrix."
   ]
  },
  {
   "cell_type": "code",
   "execution_count": 25,
   "metadata": {
    "collapsed": false
   },
   "outputs": [
    {
     "data": {
      "text/plain": [
       "[1.5435567928760983, 1.7154445801319764, 1.8963245178503372]"
      ]
     },
     "execution_count": 25,
     "metadata": {},
     "output_type": "execute_result"
    }
   ],
   "source": [
    "#your code here\n",
    "[x[i,i] for i in range(min(len(x[0]),len(x[:,0]))) ]"
   ]
  },
  {
   "cell_type": "markdown",
   "metadata": {},
   "source": [
    "Print the maximum, minimum, and mean of the array. This does **not** require writing a loop. In the code cell below, type `x.m<TAB>`, to find built-in operations for common array statistics like this"
   ]
  },
  {
   "cell_type": "code",
   "execution_count": 27,
   "metadata": {
    "collapsed": false
   },
   "outputs": [
    {
     "name": "stdout",
     "output_type": "stream",
     "text": [
      "1.98751912837\n",
      "1.11039658588\n",
      "1.53312522098\n"
     ]
    }
   ],
   "source": [
    "#your code here\n",
    "print x.max()\n",
    "print x.min()\n",
    "print x.mean()"
   ]
  },
  {
   "cell_type": "markdown",
   "metadata": {},
   "source": [
    "Call the `x.max` function again, but use the `axis` keyword to print the maximum of each row in x."
   ]
  },
  {
   "cell_type": "code",
   "execution_count": 53,
   "metadata": {
    "collapsed": false
   },
   "outputs": [
    {
     "name": "stdout",
     "output_type": "stream",
     "text": [
      "[ 1.45125072  1.91852398  1.87492378]\n"
     ]
    }
   ],
   "source": [
    "#your code here\n",
    "print x.max(axis=1)"
   ]
  },
  {
   "cell_type": "markdown",
   "metadata": {},
   "source": [
    "Here's a way to quickly simulate 500 coin \"fair\" coin tosses (where the probabily of getting Heads is 50%, or 0.5)"
   ]
  },
  {
   "cell_type": "code",
   "execution_count": 41,
   "metadata": {
    "collapsed": false
   },
   "outputs": [
    {
     "name": "stdout",
     "output_type": "stream",
     "text": [
      "number of heads: 267\n"
     ]
    }
   ],
   "source": [
    "x = np.random.binomial(500, .5)\n",
    "print \"number of heads:\", x"
   ]
  },
  {
   "cell_type": "markdown",
   "metadata": {},
   "source": [
    "Repeat this simulation 500 times, and use the [plt.hist() function](http://matplotlib.org/api/pyplot_api.html#matplotlib.pyplot.hist) to plot a histogram of the number of Heads (1s) in each simulation"
   ]
  },
  {
   "cell_type": "code",
   "execution_count": 50,
   "metadata": {
    "collapsed": false
   },
   "outputs": [
    {
     "data": {
      "text/plain": [
       "(array([  2.,   0.,   0.,   0.,   0.,   0.,   0.,   0.,   0.,   0.,   0.,\n",
       "          0.,   0.,   0.,   0.,   0.,   0.,   0.,   0.,   0.,   0.,   0.,\n",
       "          0.,   0.,   0.,   0.,   0.,   0.,   0.,   0.,   0.,   0.,   0.,\n",
       "          2.,   0.,   0.,   0.,   0.,   0.,   0.,   3.,   0.,   0.,   0.,\n",
       "          0.,   0.,   0.,   3.,   0.,   0.,   0.,   0.,   0.,   0.,   0.,\n",
       "          0.,   0.,   0.,   0.,   0.,   2.,   0.,   0.,   0.,   0.,   0.,\n",
       "          0.,   1.,   0.,   0.,   0.,   0.,   0.,   0.,   5.,   0.,   0.,\n",
       "          0.,   0.,   0.,   0.,   9.,   0.,   0.,   0.,   0.,   0.,   6.,\n",
       "          0.,   0.,   0.,   0.,   0.,   0.,   7.,   0.,   0.,   0.,   0.,\n",
       "          0.,   0.,   4.,   0.,   0.,   0.,   0.,   0.,   0.,   7.,   0.,\n",
       "          0.,   0.,   0.,   0.,  13.,   0.,   0.,   0.,   0.,   0.,   0.,\n",
       "          8.,   0.,   0.,   0.,   0.,   0.,   0.,  10.,   0.,   0.,   0.,\n",
       "          0.,   0.,   0.,  10.,   0.,   0.,   0.,   0.,   0.,  14.,   0.,\n",
       "          0.,   0.,   0.,   0.,   0.,   9.,   0.,   0.,   0.,   0.,   0.,\n",
       "          0.,  15.,   0.,   0.,   0.,   0.,   0.,   0.,   8.,   0.,   0.,\n",
       "          0.,   0.,   0.,  16.,   0.,   0.,   0.,   0.,   0.,   0.,  16.,\n",
       "          0.,   0.,   0.,   0.,   0.,   0.,  24.,   0.,   0.,   0.,   0.,\n",
       "          0.,   0.,  21.,   0.,   0.,   0.,   0.,   0.,  19.,   0.,   0.,\n",
       "          0.,   0.,   0.,   0.,  20.,   0.,   0.,   0.,   0.,   0.,   0.,\n",
       "         19.,   0.,   0.,   0.,   0.,   0.,   0.,  12.,   0.,   0.,   0.,\n",
       "          0.,   0.,  22.,   0.,   0.,   0.,   0.,   0.,   0.,  17.,   0.,\n",
       "          0.,   0.,   0.,   0.,   0.,  17.,   0.,   0.,   0.,   0.,   0.,\n",
       "          0.,  11.,   0.,   0.,   0.,   0.,   0.,   0.,  15.,   0.,   0.,\n",
       "          0.,   0.,   0.,  12.,   0.,   0.,   0.,   0.,   0.,   0.,  15.,\n",
       "          0.,   0.,   0.,   0.,   0.,   0.,  11.,   0.,   0.,   0.,   0.,\n",
       "          0.,   0.,  13.,   0.,   0.,   0.,   0.,   0.,  12.,   0.,   0.,\n",
       "          0.,   0.,   0.,   0.,   6.,   0.,   0.,   0.,   0.,   0.,   0.,\n",
       "          7.,   0.,   0.,   0.,   0.,   0.,   0.,   6.,   0.,   0.,   0.,\n",
       "          0.,   0.,  10.,   0.,   0.,   0.,   0.,   0.,   0.,   3.,   0.,\n",
       "          0.,   0.,   0.,   0.,   0.,   4.,   0.,   0.,   0.,   0.,   0.,\n",
       "          0.,   5.,   0.,   0.,   0.,   0.,   0.,   2.,   0.,   0.,   0.,\n",
       "          0.,   0.,   0.,   6.,   0.,   0.,   0.,   0.,   0.,   0.,   5.,\n",
       "          0.,   0.,   0.,   0.,   0.,   0.,   2.,   0.,   0.,   0.,   0.,\n",
       "          0.,   2.,   0.,   0.,   0.,   0.,   0.,   0.,   1.,   0.,   0.,\n",
       "          0.,   0.,   0.,   0.,   1.,   0.,   0.,   0.,   0.,   0.,   0.,\n",
       "          6.,   0.,   0.,   0.,   0.,   0.,   0.,   0.,   0.,   0.,   0.,\n",
       "          0.,   0.,   1.,   0.,   0.,   0.,   0.,   0.,   0.,   1.,   0.,\n",
       "          0.,   0.,   0.,   0.,   0.,   1.,   0.,   0.,   0.,   0.,   0.,\n",
       "          0.,   0.,   0.,   0.,   0.,   0.,   0.,   0.,   0.,   0.,   0.,\n",
       "          0.,   0.,   0.,   0.,   0.,   0.,   0.,   0.,   0.,   0.,   0.,\n",
       "          0.,   0.,   0.,   0.,   0.,   0.,   0.,   0.,   0.,   0.,   0.,\n",
       "          0.,   0.,   0.,   0.,   0.,   0.,   0.,   0.,   0.,   0.,   0.,\n",
       "          0.,   0.,   0.,   0.,   0.,   0.,   0.,   0.,   0.,   0.,   0.,\n",
       "          0.,   0.,   0.,   0.,   0.,   0.,   0.,   0.,   0.,   0.,   0.,\n",
       "          0.,   0.,   0.,   0.,   0.,   0.,   0.,   0.,   0.,   0.,   0.,\n",
       "          0.,   0.,   0.,   0.,   1.]),\n",
       " array([ 219.   ,  219.148,  219.296,  219.444,  219.592,  219.74 ,\n",
       "         219.888,  220.036,  220.184,  220.332,  220.48 ,  220.628,\n",
       "         220.776,  220.924,  221.072,  221.22 ,  221.368,  221.516,\n",
       "         221.664,  221.812,  221.96 ,  222.108,  222.256,  222.404,\n",
       "         222.552,  222.7  ,  222.848,  222.996,  223.144,  223.292,\n",
       "         223.44 ,  223.588,  223.736,  223.884,  224.032,  224.18 ,\n",
       "         224.328,  224.476,  224.624,  224.772,  224.92 ,  225.068,\n",
       "         225.216,  225.364,  225.512,  225.66 ,  225.808,  225.956,\n",
       "         226.104,  226.252,  226.4  ,  226.548,  226.696,  226.844,\n",
       "         226.992,  227.14 ,  227.288,  227.436,  227.584,  227.732,\n",
       "         227.88 ,  228.028,  228.176,  228.324,  228.472,  228.62 ,\n",
       "         228.768,  228.916,  229.064,  229.212,  229.36 ,  229.508,\n",
       "         229.656,  229.804,  229.952,  230.1  ,  230.248,  230.396,\n",
       "         230.544,  230.692,  230.84 ,  230.988,  231.136,  231.284,\n",
       "         231.432,  231.58 ,  231.728,  231.876,  232.024,  232.172,\n",
       "         232.32 ,  232.468,  232.616,  232.764,  232.912,  233.06 ,\n",
       "         233.208,  233.356,  233.504,  233.652,  233.8  ,  233.948,\n",
       "         234.096,  234.244,  234.392,  234.54 ,  234.688,  234.836,\n",
       "         234.984,  235.132,  235.28 ,  235.428,  235.576,  235.724,\n",
       "         235.872,  236.02 ,  236.168,  236.316,  236.464,  236.612,\n",
       "         236.76 ,  236.908,  237.056,  237.204,  237.352,  237.5  ,\n",
       "         237.648,  237.796,  237.944,  238.092,  238.24 ,  238.388,\n",
       "         238.536,  238.684,  238.832,  238.98 ,  239.128,  239.276,\n",
       "         239.424,  239.572,  239.72 ,  239.868,  240.016,  240.164,\n",
       "         240.312,  240.46 ,  240.608,  240.756,  240.904,  241.052,\n",
       "         241.2  ,  241.348,  241.496,  241.644,  241.792,  241.94 ,\n",
       "         242.088,  242.236,  242.384,  242.532,  242.68 ,  242.828,\n",
       "         242.976,  243.124,  243.272,  243.42 ,  243.568,  243.716,\n",
       "         243.864,  244.012,  244.16 ,  244.308,  244.456,  244.604,\n",
       "         244.752,  244.9  ,  245.048,  245.196,  245.344,  245.492,\n",
       "         245.64 ,  245.788,  245.936,  246.084,  246.232,  246.38 ,\n",
       "         246.528,  246.676,  246.824,  246.972,  247.12 ,  247.268,\n",
       "         247.416,  247.564,  247.712,  247.86 ,  248.008,  248.156,\n",
       "         248.304,  248.452,  248.6  ,  248.748,  248.896,  249.044,\n",
       "         249.192,  249.34 ,  249.488,  249.636,  249.784,  249.932,\n",
       "         250.08 ,  250.228,  250.376,  250.524,  250.672,  250.82 ,\n",
       "         250.968,  251.116,  251.264,  251.412,  251.56 ,  251.708,\n",
       "         251.856,  252.004,  252.152,  252.3  ,  252.448,  252.596,\n",
       "         252.744,  252.892,  253.04 ,  253.188,  253.336,  253.484,\n",
       "         253.632,  253.78 ,  253.928,  254.076,  254.224,  254.372,\n",
       "         254.52 ,  254.668,  254.816,  254.964,  255.112,  255.26 ,\n",
       "         255.408,  255.556,  255.704,  255.852,  256.   ,  256.148,\n",
       "         256.296,  256.444,  256.592,  256.74 ,  256.888,  257.036,\n",
       "         257.184,  257.332,  257.48 ,  257.628,  257.776,  257.924,\n",
       "         258.072,  258.22 ,  258.368,  258.516,  258.664,  258.812,\n",
       "         258.96 ,  259.108,  259.256,  259.404,  259.552,  259.7  ,\n",
       "         259.848,  259.996,  260.144,  260.292,  260.44 ,  260.588,\n",
       "         260.736,  260.884,  261.032,  261.18 ,  261.328,  261.476,\n",
       "         261.624,  261.772,  261.92 ,  262.068,  262.216,  262.364,\n",
       "         262.512,  262.66 ,  262.808,  262.956,  263.104,  263.252,\n",
       "         263.4  ,  263.548,  263.696,  263.844,  263.992,  264.14 ,\n",
       "         264.288,  264.436,  264.584,  264.732,  264.88 ,  265.028,\n",
       "         265.176,  265.324,  265.472,  265.62 ,  265.768,  265.916,\n",
       "         266.064,  266.212,  266.36 ,  266.508,  266.656,  266.804,\n",
       "         266.952,  267.1  ,  267.248,  267.396,  267.544,  267.692,\n",
       "         267.84 ,  267.988,  268.136,  268.284,  268.432,  268.58 ,\n",
       "         268.728,  268.876,  269.024,  269.172,  269.32 ,  269.468,\n",
       "         269.616,  269.764,  269.912,  270.06 ,  270.208,  270.356,\n",
       "         270.504,  270.652,  270.8  ,  270.948,  271.096,  271.244,\n",
       "         271.392,  271.54 ,  271.688,  271.836,  271.984,  272.132,\n",
       "         272.28 ,  272.428,  272.576,  272.724,  272.872,  273.02 ,\n",
       "         273.168,  273.316,  273.464,  273.612,  273.76 ,  273.908,\n",
       "         274.056,  274.204,  274.352,  274.5  ,  274.648,  274.796,\n",
       "         274.944,  275.092,  275.24 ,  275.388,  275.536,  275.684,\n",
       "         275.832,  275.98 ,  276.128,  276.276,  276.424,  276.572,\n",
       "         276.72 ,  276.868,  277.016,  277.164,  277.312,  277.46 ,\n",
       "         277.608,  277.756,  277.904,  278.052,  278.2  ,  278.348,\n",
       "         278.496,  278.644,  278.792,  278.94 ,  279.088,  279.236,\n",
       "         279.384,  279.532,  279.68 ,  279.828,  279.976,  280.124,\n",
       "         280.272,  280.42 ,  280.568,  280.716,  280.864,  281.012,\n",
       "         281.16 ,  281.308,  281.456,  281.604,  281.752,  281.9  ,\n",
       "         282.048,  282.196,  282.344,  282.492,  282.64 ,  282.788,\n",
       "         282.936,  283.084,  283.232,  283.38 ,  283.528,  283.676,\n",
       "         283.824,  283.972,  284.12 ,  284.268,  284.416,  284.564,\n",
       "         284.712,  284.86 ,  285.008,  285.156,  285.304,  285.452,\n",
       "         285.6  ,  285.748,  285.896,  286.044,  286.192,  286.34 ,\n",
       "         286.488,  286.636,  286.784,  286.932,  287.08 ,  287.228,\n",
       "         287.376,  287.524,  287.672,  287.82 ,  287.968,  288.116,\n",
       "         288.264,  288.412,  288.56 ,  288.708,  288.856,  289.004,\n",
       "         289.152,  289.3  ,  289.448,  289.596,  289.744,  289.892,\n",
       "         290.04 ,  290.188,  290.336,  290.484,  290.632,  290.78 ,\n",
       "         290.928,  291.076,  291.224,  291.372,  291.52 ,  291.668,\n",
       "         291.816,  291.964,  292.112,  292.26 ,  292.408,  292.556,\n",
       "         292.704,  292.852,  293.   ]),\n",
       " <a list of 500 Patch objects>)"
      ]
     },
     "execution_count": 50,
     "metadata": {},
     "output_type": "execute_result"
    },
    {
     "data": {
      "image/png": "[encoded data removed]",
      "text/plain": [
       "<matplotlib.figure.Figure at 0x237bcd68>"
      ]
     },
     "metadata": {},
     "output_type": "display_data"
    }
   ],
   "source": [
    "#your code here\n",
    "y = []\n",
    "for n in range(0,500):\n",
    "    y.append(np.random.binomial(500, .5))\n",
    "plt.hist(y, bins=500, range=None, \n",
    "                       normed=False, weights=None, cumulative=False, bottom=None, histtype='bar', \n",
    "                       align='mid', orientation='vertical', rwidth=None, log=False, color=None, label=None, \n",
    "                       stacked=False, hold=None, data=None)\n"
   ]
  },
  {
   "cell_type": "markdown",
   "metadata": {},
   "source": [
    "## The Monty Hall Problem\n",
    "\n",
    "\n",
    "Here's a fun and perhaps surprising statistical riddle, and a good way to get some practice writing python functions\n",
    "\n",
    "In a gameshow, contestants try to guess which of 3 closed doors contain a cash prize (goats are behind the other two doors). Of course, the odds of choosing the correct door are 1 in 3. As a twist, the host of the show occasionally opens a door after a contestant makes his or her choice. This door is always one of the two the contestant did not pick, and is also always one of the goat doors (note that it is always possible to do this, since there are two goat doors). At this point, the contestant has the option of keeping his or her original choice, or swtiching to the other unopened door. The question is: is there any benefit to switching doors? The answer surprises many people who haven't heard the question before.\n",
    "\n",
    "We can answer the problem by running simulations in Python. We'll do it in several parts.\n",
    "\n",
    "First, write a function called `simulate_prizedoor`. This function will simulate the location of the prize in many games -- see the detailed specification below:\n",
    "\n",
    "### Hints \n",
    "* use `numpy.random` and `random` module. Check out all the handy methods they have.\n",
    "* Use sets and set operations like complementation \n",
    "* Use comprehensions instead of loops"
   ]
  },
  {
   "cell_type": "code",
   "execution_count": 5,
   "metadata": {
    "collapsed": false
   },
   "outputs": [
    {
     "data": {
      "text/plain": [
       "[1, 2, 1, 1, 0, 1, 0, 2, 1, 1, 1, 0, 1, 0, 1, 1, 1, 2, 1, 1]"
      ]
     },
     "execution_count": 5,
     "metadata": {},
     "output_type": "execute_result"
    }
   ],
   "source": [
    "\"\"\"\n",
    "Function\n",
    "--------\n",
    "simulate_prizedoor\n",
    "\n",
    "Generate a random array of 0s, 1s, and 2s, representing\n",
    "hiding a prize between door 0, door 1, and door 2\n",
    "\n",
    "Parameters\n",
    "----------\n",
    "nsim : int\n",
    "    The number of simulations to run\n",
    "\n",
    "Returns\n",
    "-------\n",
    "sims : array\n",
    "    Random array of 0s, 1s, and 2s\n",
    "\n",
    "Example\n",
    "-------\n",
    ">>> print simulate_prizedoor(3)\n",
    "array([0, 0, 2])\n",
    "\"\"\"\n",
    "def simulate_prizedoor(nsim):\n",
    "    #compute here\n",
    "    answer = []\n",
    "    for d in range(0,nsim):\n",
    "        answer.append(np.random.randint(3))\n",
    "\n",
    "    return answer\n",
    "#your code here\n",
    "simulate_prizedoor(20)"
   ]
  },
  {
   "cell_type": "markdown",
   "metadata": {},
   "source": [
    "Next, write a function that simulates the contestant's guesses for `nsim` simulations. Call this function `simulate_guess`. The specs:"
   ]
  },
  {
   "cell_type": "code",
   "execution_count": 6,
   "metadata": {
    "collapsed": false
   },
   "outputs": [
    {
     "data": {
      "text/plain": [
       "[2, 2, 0, 0, 1, 0, 0, 2, 1, 1, 1, 0, 1, 2, 1, 2, 1, 0, 0, 0]"
      ]
     },
     "execution_count": 6,
     "metadata": {},
     "output_type": "execute_result"
    }
   ],
   "source": [
    "\"\"\"\n",
    "Function\n",
    "--------\n",
    "simulate_guess\n",
    "\n",
    "Return any strategy for guessing which door a prize is behind. This\n",
    "could be a random strategy, one that always guesses 2, whatever.\n",
    "\n",
    "Parameters\n",
    "----------\n",
    "nsim : int\n",
    "    The number of simulations to generate guesses for\n",
    "\n",
    "Returns\n",
    "-------\n",
    "guesses : array\n",
    "    An array of guesses. Each guess is a 0, 1, or 2\n",
    "\n",
    "Example\n",
    "-------\n",
    ">>> print simulate_guess(5)\n",
    "array([0, 0, 0, 0, 0])\n",
    "\"\"\"\n",
    "#your code here\n",
    "def simulate_guess(nsim):\n",
    "    guesses = []\n",
    "    for d in range(0,nsim):\n",
    "        guesses.append(np.random.randint(3))\n",
    "    return guesses\n",
    "\n",
    "simulate_guess(20)"
   ]
  },
  {
   "cell_type": "markdown",
   "metadata": {},
   "source": [
    "Next, write a function, `goat_door`, to simulate randomly revealing one of the goat doors that a contestant didn't pick."
   ]
  },
  {
   "cell_type": "code",
   "execution_count": 7,
   "metadata": {
    "collapsed": false
   },
   "outputs": [
    {
     "name": "stdout",
     "output_type": "stream",
     "text": [
      "[1, 1, 0, 2, 1]\n",
      "[1, 1, 2, 0, 2]\n"
     ]
    },
    {
     "data": {
      "text/plain": [
       "[0, 0, 1, 1, 0]"
      ]
     },
     "execution_count": 7,
     "metadata": {},
     "output_type": "execute_result"
    }
   ],
   "source": [
    "\"\"\"\n",
    "Function\n",
    "--------\n",
    "goat_door\n",
    "\n",
    "Simulate the opening of a \"goat door\" that doesn't contain the prize,\n",
    "and is different from the contestants guess\n",
    "\n",
    "Parameters\n",
    "----------\n",
    "prizedoors : array\n",
    "    The door that the prize is behind in each simulation\n",
    "guesses : array\n",
    "    THe door that the contestant guessed in each simulation\n",
    "\n",
    "Returns\n",
    "-------\n",
    "goats : array\n",
    "    The goat door that is opened for each simulation. Each item is 0, 1, or 2, and is different\n",
    "    from both prizedoors and guesses\n",
    "\n",
    "Examples\n",
    "--------\n",
    ">>> print goat_door(np.array([0, 1, 2]), np.array([1, 1, 1]))\n",
    ">>> array([2, 2, 0])\n",
    "\"\"\"\n",
    "#your code here\n",
    "def goat_door(prize,guess):\n",
    "    goat = []\n",
    "    for d in range(0,len(prize)):\n",
    "        n1= prize[d]\n",
    "        n2 = guess[d]\n",
    "        number = np.random.randint(3)\n",
    "        while number == n1 or number == n2:\n",
    "            number = np.random.randint(3)\n",
    "        goat.append(number)\n",
    "    return goat\n",
    "test1 = simulate_prizedoor(5)\n",
    "print test1\n",
    "test2 = simulate_guess(5)\n",
    "print test2\n",
    "goat_door(test1,test2)"
   ]
  },
  {
   "cell_type": "markdown",
   "metadata": {},
   "source": [
    "Write a function, `switch_guess`, that represents the strategy of always switching a guess after the goat door is opened."
   ]
  },
  {
   "cell_type": "code",
   "execution_count": 8,
   "metadata": {
    "collapsed": false,
    "scrolled": true
   },
   "outputs": [
    {
     "name": "stdout",
     "output_type": "stream",
     "text": [
      "[0, 2, 0, 1, 0]\n",
      "[1, 2, 0, 1, 2]\n",
      "[2, 0, 2, 0, 1]\n"
     ]
    },
    {
     "data": {
      "text/plain": [
       "[0, 1, 1, 2, 0]"
      ]
     },
     "execution_count": 8,
     "metadata": {},
     "output_type": "execute_result"
    }
   ],
   "source": [
    "\"\"\"\n",
    "Function\n",
    "--------\n",
    "switch_guess\n",
    "\n",
    "The strategy that always switches a guess after the goat door is opened\n",
    "\n",
    "Parameters\n",
    "----------\n",
    "guesses : array\n",
    "     Array of original guesses, for each simulation\n",
    "goatdoors : array\n",
    "     Array of revealed goat doors for each simulation\n",
    "\n",
    "Returns\n",
    "-------\n",
    "The new door after switching. Should be different from both guesses and goatdoors\n",
    "\n",
    "Examples\n",
    "--------\n",
    ">>> print switch_guess(np.array([0, 1, 2]), np.array([1, 2, 1]))\n",
    ">>> array([2, 0, 0])\n",
    "\"\"\"\n",
    "#your code here\n",
    "def switch_guess(guesses,goatdoors):\n",
    "    newchoice = []\n",
    "    for d in range(0,len(guesses)):\n",
    "        n1= guesses[d]\n",
    "        n2 = goatdoors[d]\n",
    "        number = np.random.randint(3)\n",
    "        while number == n1 or number == n2:\n",
    "            number = np.random.randint(3)\n",
    "        newchoice.append(number)\n",
    "    return newchoice\n",
    "\n",
    "test1 = simulate_prizedoor(5)\n",
    "print test1\n",
    "test2 = simulate_guess(5)\n",
    "print test2\n",
    "test3 = goat_door(test1,test2)\n",
    "print test3\n",
    "switch_guess(test2,test3)"
   ]
  },
  {
   "cell_type": "markdown",
   "metadata": {},
   "source": [
    "Last function: write a `win_percentage` function that takes an array of `guesses` and `prizedoors`, and returns the percent of correct guesses"
   ]
  },
  {
   "cell_type": "code",
   "execution_count": 9,
   "metadata": {
    "collapsed": false
   },
   "outputs": [
    {
     "data": {
      "text/plain": [
       "32.4"
      ]
     },
     "execution_count": 9,
     "metadata": {},
     "output_type": "execute_result"
    }
   ],
   "source": [
    "\"\"\"\n",
    "Function\n",
    "--------\n",
    "win_percentage\n",
    "\n",
    "Calculate the percent of times that a simulation of guesses is correct\n",
    "\n",
    "Parameters\n",
    "-----------\n",
    "guesses : array\n",
    "    Guesses for each simulation\n",
    "prizedoors : array\n",
    "    Location of prize for each simulation\n",
    "\n",
    "Returns\n",
    "--------\n",
    "percentage : number between 0 and 100\n",
    "    The win percentage\n",
    "\n",
    "Examples\n",
    "---------\n",
    ">>> print win_percentage(np.array([0, 1, 2]), np.array([0, 0, 0]))\n",
    "33.333\n",
    "\"\"\"\n",
    "from __future__ import division\n",
    "#your code here\n",
    "def win_percentage(guesses,prizedoors):\n",
    "    counter = 0\n",
    "    for d in range(0,len(guesses)):\n",
    "        if guesses[d] == prizedoors[d]:\n",
    "            counter+=1\n",
    "    percentage = float(counter/len(guesses))\n",
    "    percentage*=100\n",
    "    return percentage\n",
    "\n",
    "test1 = simulate_prizedoor(500)\n",
    "test2 = simulate_guess(500)\n",
    "win_percentage(test1,test2)"
   ]
  },
  {
   "cell_type": "markdown",
   "metadata": {},
   "source": [
    "Now, put it together. Simulate 10000 games where contestant keeps his original guess, and 10000 games where the contestant switches his door after a  goat door is revealed. Compute the percentage of time the contestant wins under either strategy. Is one strategy better than the other?"
   ]
  },
  {
   "cell_type": "code",
   "execution_count": 10,
   "metadata": {
    "collapsed": false
   },
   "outputs": [
    {
     "name": "stdout",
     "output_type": "stream",
     "text": [
      "hier 10000 games zonder te wisselen\n",
      "33.64\n",
      "hier 10000 games met wisselen\n",
      "66.36\n"
     ]
    }
   ],
   "source": [
    "#your code here\n",
    "prizes = simulate_prizedoor(10000)\n",
    "guess = simulate_guess(10000)\n",
    "goats = goat_door(prizes,guess)\n",
    "newguess = switch_guess(guess,goats)\n",
    "print \"hier 10000 games zonder te wisselen\"\n",
    "print win_percentage(prizes,guess)\n",
    "print \"hier 10000 games met wisselen\"\n",
    "print win_percentage(prizes,newguess)"
   ]
  },
  {
   "cell_type": "markdown",
   "metadata": {},
   "source": [
    "Many people find this answer counter-intuitive (famously, PhD mathematicians have incorrectly claimed the result must be wrong. Clearly, none of them knew Python). \n",
    "\n",
    "One of the best ways to build intuition about why opening a Goat door affects the odds is to re-run the experiment with 100 doors and one prize. If the game show host opens 98 goat doors after you make your initial selection, would you want to keep your first pick or switch? "
   ]
  },
  {
   "cell_type": "markdown",
   "metadata": {},
   "source": [
    "## Most important part of the exercise. This counts for your mark\n",
    "\n",
    "Generalize your simulation code to handle the case of `n` doors.\n",
    "\n",
    "This sentence can be read in two ways, giving very different outcomes! You must program both, and understand that it all makes sense.\n",
    "\n",
    "### Interpretation  1\n",
    "* There are _n_ doors.\n",
    "* You have chosen one door.\n",
    "* The host opens one door as before (it is not the door you have chosen and not a door with the prize)\n",
    "* Now you switch or not.\n",
    "\n",
    "### Interpretation 2\n",
    "* There are _n_ doors.\n",
    "* You have chosen one door.\n",
    "* The host opens _all except two doors_, namely your door, and a random other door.  Behind none of the opened doors lies the prize.\n",
    "\n",
    "\n",
    "### Your work\n",
    "For both interpretations, give a plot with the number of doors on the x-axis and the win_percentage on the y-axis, and plot that value for the two strategies for numbers of doors between 3 and 20. \n",
    "\n",
    "Describe briefly what is going on here, and why the plot makes sense."
   ]
  },
  {
   "cell_type": "code",
   "execution_count": 12,
   "metadata": {
    "collapsed": false
   },
   "outputs": [
    {
     "data": {
      "text/plain": [
       "<matplotlib.text.Text at 0x20a32160>"
      ]
     },
     "execution_count": 12,
     "metadata": {},
     "output_type": "execute_result"
    },
    {
     "data": {
      "image/png": "[encoded data removed]",
      "text/plain": [
       "<matplotlib.figure.Figure at 0x20844470>"
      ]
     },
     "metadata": {},
     "output_type": "display_data"
    },
    {
     "data": {
      "image/png": "[encoded data removed]",
      "text/plain": [
       "<matplotlib.figure.Figure at 0x20db2940>"
      ]
     },
     "metadata": {},
     "output_type": "display_data"
    }
   ],
   "source": [
    "#your code here\n",
    "def simulate_prizedoor(nsim,n):\n",
    "    #compute here\n",
    "    answer = []\n",
    "    for d in range(0,nsim):\n",
    "        answer.append(np.random.randint(n))\n",
    "\n",
    "    return answer\n",
    "\n",
    "def simulate_guess(nsim,n):\n",
    "    guesses = []\n",
    "    for d in range(0,nsim):\n",
    "        guesses.append(np.random.randint(n))\n",
    "    return guesses\n",
    "\n",
    "def goat_door(prize,guess,n):\n",
    "    goat = []\n",
    "    for d in range(0,len(prize)):\n",
    "        n1= prize[d]\n",
    "        n2 = guess[d]\n",
    "        number = np.random.randint(n)\n",
    "        while number == n1 or number == n2:\n",
    "            number = np.random.randint(n)\n",
    "        goat.append(number)\n",
    "    return goat\n",
    "\n",
    "\n",
    "def switch_guess(guesses,goatdoors,n):\n",
    "    newchoice = []\n",
    "    for d in range(0,len(guesses)):\n",
    "        n1= guesses[d]\n",
    "        n2 = goatdoors[d]\n",
    "        number = np.random.randint(n)\n",
    "        while number == n1 or number == n2:\n",
    "            number = np.random.randint(n)\n",
    "        newchoice.append(number)\n",
    "    return newchoice\n",
    "\n",
    "def win_percentage(guesses,prizedoors):\n",
    "    counter = 0\n",
    "    for d in range(0,len(guesses)):\n",
    "        if guesses[d] == prizedoors[d]:\n",
    "            counter+=1\n",
    "    percentage = float(counter/len(guesses))\n",
    "    percentage*=100\n",
    "    return percentage\n",
    "\n",
    "#this line prepares IPython for working with matplotlib\n",
    "%matplotlib inline  \n",
    "\n",
    "# this actually imports matplotlib\n",
    "import matplotlib.pyplot as plt \n",
    "import matplotlib.pyplot as plt2 \n",
    "\n",
    "#Hier interpretation 1\n",
    "nochange = []\n",
    "change = []\n",
    "for n in range(3,21):\n",
    "    prizes = simulate_prizedoor(10000,n)\n",
    "    guess = simulate_guess(10000,n)\n",
    "    goats = goat_door(prizes,guess,n)\n",
    "    newguess = switch_guess(guess,goats,n)\n",
    "    nochange.append(win_percentage(prizes,guess))\n",
    "    change.append(win_percentage(prizes,newguess))\n",
    "\n",
    "y =[3,4,5,6,7,8,9,10,11,12,13,14,15,16,17,18,19,20]\n",
    "plt.figure()\n",
    "plt.title(\"interpretation 1\")\n",
    "plt.plot(y, nochange,  'ro-', label='no change')\n",
    "plt.plot(y, change, 'b-', label='change')\n",
    "plt.legend(loc = 'upper right')\n",
    "plt.xlabel(\"number of doors\")\n",
    "plt.ylabel(\"win percentage\")\n",
    "\n",
    "#Hier interpretation 2\n",
    "nochange = []\n",
    "change = []\n",
    "for n in range(3,21):\n",
    "    prizes = simulate_prizedoor(10000,n)\n",
    "    guess = simulate_guess(10000,n)\n",
    "    openguess= simulate_guess(10000,3)\n",
    "    openprizes = simulate_prizedoor(10000,3)\n",
    "    goats = goat_door(openprizes,openguess,3)\n",
    "    newguess = switch_guess(openguess,goats,3)\n",
    "    nochange.append(win_percentage(prizes,guess))\n",
    "    change.append(win_percentage(openprizes,newguess))\n",
    "\n",
    "y =[3,4,5,6,7,8,9,10,11,12,13,14,15,16,17,18,19,20]\n",
    "plt.figure()\n",
    "plt.title(\"interpretation 2\")\n",
    "plt.plot(y, nochange,  'ro-', label='no change')\n",
    "plt.plot(y, change, 'b-', label='change')\n",
    "plt.legend(loc = 'right')\n",
    "plt.xlabel(\"number of doors\")\n",
    "plt.ylabel(\"win percentage\")\n",
    "# Hint: redefine all functions using an extra parameter n, which equals the number of doors\n",
    "# Then create two arrays in which you store the winning-percentages for all numbers of doors between 3 and 20\n",
    "# then plots those"
   ]
  },
  {
   "cell_type": "code",
   "execution_count": null,
   "metadata": {
    "collapsed": false
   },
   "outputs": [],
   "source": []
  }
 ],
 "metadata": {
  "kernelspec": {
   "display_name": "Python 2",
   "language": "python",
   "name": "python2"
  },
  "language_info": {
   "codemirror_mode": {
    "name": "ipython",
    "version": 2
   },
   "file_extension": ".py",
   "mimetype": "text/x-python",
   "name": "python",
   "nbconvert_exporter": "python",
   "pygments_lexer": "ipython2",
   "version": "2.7.11"
  }
 },
 "nbformat": 4,
 "nbformat_minor": 0
}
