{
 "cells": [
  {
   "cell_type": "markdown",
   "metadata": {
    "slideshow": {
     "slide_type": "slide"
    }
   },
   "source": [
    "#  Assignment 3\n",
    "\n",
    "## Notebook made by  \n",
    "\n",
    "|** Name** | **Student id** | **email**|\n",
    "|:- |:-|:-|\n",
    "|Niek de Visscher | 10667474 | niekdevisscher@hetnet.nl |\n",
    "| Leon Smits | 10500731 | leonmarijnsmits@gmail.com|\n",
    "| Daniël van lier | 10639861 | danielvanlier@gmail.com |\n",
    "\n",
    "### Pledge (taken from [Coursera's Honor Code](https://www.coursera.org/about/terms/honorcode) )\n",
    "\n",
    "\n",
    "\n",
    "Put here a selfie with your photo where you hold a signed paper with the following text: (if this is team work, put two selfies here). The link must be to some place on the web, not to a local file. \n",
    "\n",
    "> My answers to homework, quizzes and exams will be my own work (except for assignments that explicitly permit collaboration).\n",
    "\n",
    ">I will not make solutions to homework, quizzes or exams available to anyone else. This includes both solutions written by me, as well as any official solutions provided by the course staff.\n",
    "\n",
    ">I will not engage in any other activities that will dishonestly improve my results or dishonestly improve/hurt the results of others.\n",
    "\n",
    "<img src='http://i.imgur.com/hConduu.jpg'/>\n",
    "<img src='http://i.imgur.com/r4tIPrA.jpg?1'/>\n",
    "<img src='http://i.imgur.com/KbRwRFz.jpg'/>\n",
    "\n",
    "### Note\n",
    "* **Assignments without the selfies or completely filled in information will not be graded and receive 0 points.**\n"
   ]
  },
  {
   "cell_type": "markdown",
   "metadata": {
    "slideshow": {
     "slide_type": "slide"
    }
   },
   "source": [
    "# Pandas assignment\n",
    "\n",
    "## [Part one](http://nbviewer.jupyter.org/url/maartenmarx.nl/teaching/ISatWork/Assignments/ASSIGNMENTS/baseball.ipynb)\n",
    "\n",
    "Copy and paste the exrcises from this file into this notebook, and put your answers behind each question.\n",
    "\n",
    "## Part two: American baby names\n",
    "\n",
    "We continue the analysis of American baby names started in <http://maartenmarx.nl/teaching/ISatWork/Slides/Week1_slides.ipynb#Chapter-2:-analyse-baby-names>\n",
    "\n",
    "You must copy some of the pandas commands from the slides to get started. Do that here too. "
   ]
  },
  {
   "cell_type": "code",
   "execution_count": 2,
   "metadata": {
    "collapsed": true
   },
   "outputs": [],
   "source": [
    "# special IPython command to prepare the notebook for matplotlib\n",
    "%matplotlib inline \n",
    "\n",
    "import numpy as np\n",
    "import pandas as pd\n",
    "import matplotlib.pyplot as plt\n",
    "plt.rcParams['figure.figsize'] = (20,5)"
   ]
  },
  {
   "cell_type": "markdown",
   "metadata": {},
   "source": [
    "### Problem 1\n",
    "In 2002 and 2003 Oakland A's, a team that used data science, had a competitive advantage. Since, others teams have started using data science as well. Use exploratory data analysis to determine if the competitive advantage has since disappeared.\n",
    "\n",
    "#### Problem 1(a)\n",
    "Load in these CSV files from the Sean Lahman's Baseball Database. For this assignment, we will use the 'Salaries.csv' and 'Teams.csv' tables. Read these tables into a pandas DataFrame and show the head of each table.\n",
    "\n",
    "Hint Use the requests, StringIO and zipfile modules to get from the web.\n",
    "\n",
    "Hint 2 A local copy is available in the Data folder of our course."
   ]
  },
  {
   "cell_type": "code",
   "execution_count": 2,
   "metadata": {
    "collapsed": false
   },
   "outputs": [
    {
     "data": {
      "text/html": [
       "<div>\n",
       "<table border=\"1\" class=\"dataframe\">\n",
       "  <thead>\n",
       "    <tr style=\"text-align: right;\">\n",
       "      <th></th>\n",
       "      <th>yearID</th>\n",
       "      <th>teamID</th>\n",
       "      <th>lgID</th>\n",
       "      <th>playerID</th>\n",
       "      <th>salary</th>\n",
       "    </tr>\n",
       "  </thead>\n",
       "  <tbody>\n",
       "    <tr>\n",
       "      <th>0</th>\n",
       "      <td>1985</td>\n",
       "      <td>BAL</td>\n",
       "      <td>AL</td>\n",
       "      <td>murraed02</td>\n",
       "      <td>1472819</td>\n",
       "    </tr>\n",
       "    <tr>\n",
       "      <th>1</th>\n",
       "      <td>1985</td>\n",
       "      <td>BAL</td>\n",
       "      <td>AL</td>\n",
       "      <td>lynnfr01</td>\n",
       "      <td>1090000</td>\n",
       "    </tr>\n",
       "    <tr>\n",
       "      <th>2</th>\n",
       "      <td>1985</td>\n",
       "      <td>BAL</td>\n",
       "      <td>AL</td>\n",
       "      <td>ripkeca01</td>\n",
       "      <td>800000</td>\n",
       "    </tr>\n",
       "    <tr>\n",
       "      <th>3</th>\n",
       "      <td>1985</td>\n",
       "      <td>BAL</td>\n",
       "      <td>AL</td>\n",
       "      <td>lacyle01</td>\n",
       "      <td>725000</td>\n",
       "    </tr>\n",
       "    <tr>\n",
       "      <th>4</th>\n",
       "      <td>1985</td>\n",
       "      <td>BAL</td>\n",
       "      <td>AL</td>\n",
       "      <td>flanami01</td>\n",
       "      <td>641667</td>\n",
       "    </tr>\n",
       "  </tbody>\n",
       "</table>\n",
       "</div>"
      ],
      "text/plain": [
       "   yearID teamID lgID   playerID   salary\n",
       "0    1985    BAL   AL  murraed02  1472819\n",
       "1    1985    BAL   AL   lynnfr01  1090000\n",
       "2    1985    BAL   AL  ripkeca01   800000\n",
       "3    1985    BAL   AL   lacyle01   725000\n",
       "4    1985    BAL   AL  flanami01   641667"
      ]
     },
     "execution_count": 2,
     "metadata": {},
     "output_type": "execute_result"
    }
   ],
   "source": [
    "#Part 1:\n",
    "import StringIO\n",
    "import requests\n",
    "#Problem 1a:\n",
    "url = \"https://github.com/ndevisscher/Data-Science/blob/master/Week%203/Salaries.csv\"\n",
    "r = requests.get(url).content\n",
    "s = pd.read_csv('Salaries.csv')\n",
    "s.head()"
   ]
  },
  {
   "cell_type": "code",
   "execution_count": 3,
   "metadata": {
    "collapsed": false
   },
   "outputs": [
    {
     "data": {
      "text/html": [
       "<div>\n",
       "<table border=\"1\" class=\"dataframe\">\n",
       "  <thead>\n",
       "    <tr style=\"text-align: right;\">\n",
       "      <th></th>\n",
       "      <th>yearID</th>\n",
       "      <th>lgID</th>\n",
       "      <th>teamID</th>\n",
       "      <th>franchID</th>\n",
       "      <th>divID</th>\n",
       "      <th>Rank</th>\n",
       "      <th>G</th>\n",
       "      <th>Ghome</th>\n",
       "      <th>W</th>\n",
       "      <th>L</th>\n",
       "      <th>...</th>\n",
       "      <th>DP</th>\n",
       "      <th>FP</th>\n",
       "      <th>name</th>\n",
       "      <th>park</th>\n",
       "      <th>attendance</th>\n",
       "      <th>BPF</th>\n",
       "      <th>PPF</th>\n",
       "      <th>teamIDBR</th>\n",
       "      <th>teamIDlahman45</th>\n",
       "      <th>teamIDretro</th>\n",
       "    </tr>\n",
       "  </thead>\n",
       "  <tbody>\n",
       "    <tr>\n",
       "      <th>0</th>\n",
       "      <td>1871</td>\n",
       "      <td>NaN</td>\n",
       "      <td>PH1</td>\n",
       "      <td>PNA</td>\n",
       "      <td>NaN</td>\n",
       "      <td>1</td>\n",
       "      <td>28</td>\n",
       "      <td>NaN</td>\n",
       "      <td>21</td>\n",
       "      <td>7</td>\n",
       "      <td>...</td>\n",
       "      <td>NaN</td>\n",
       "      <td>0.84</td>\n",
       "      <td>Philadelphia Athletics</td>\n",
       "      <td>Jefferson Street Grounds</td>\n",
       "      <td>NaN</td>\n",
       "      <td>102</td>\n",
       "      <td>98</td>\n",
       "      <td>ATH</td>\n",
       "      <td>PH1</td>\n",
       "      <td>PH1</td>\n",
       "    </tr>\n",
       "    <tr>\n",
       "      <th>1</th>\n",
       "      <td>1871</td>\n",
       "      <td>NaN</td>\n",
       "      <td>CH1</td>\n",
       "      <td>CNA</td>\n",
       "      <td>NaN</td>\n",
       "      <td>2</td>\n",
       "      <td>28</td>\n",
       "      <td>NaN</td>\n",
       "      <td>19</td>\n",
       "      <td>9</td>\n",
       "      <td>...</td>\n",
       "      <td>NaN</td>\n",
       "      <td>0.82</td>\n",
       "      <td>Chicago White Stockings</td>\n",
       "      <td>Union Base-Ball Grounds</td>\n",
       "      <td>NaN</td>\n",
       "      <td>104</td>\n",
       "      <td>102</td>\n",
       "      <td>CHI</td>\n",
       "      <td>CH1</td>\n",
       "      <td>CH1</td>\n",
       "    </tr>\n",
       "    <tr>\n",
       "      <th>2</th>\n",
       "      <td>1871</td>\n",
       "      <td>NaN</td>\n",
       "      <td>BS1</td>\n",
       "      <td>BNA</td>\n",
       "      <td>NaN</td>\n",
       "      <td>3</td>\n",
       "      <td>31</td>\n",
       "      <td>NaN</td>\n",
       "      <td>20</td>\n",
       "      <td>10</td>\n",
       "      <td>...</td>\n",
       "      <td>NaN</td>\n",
       "      <td>0.83</td>\n",
       "      <td>Boston Red Stockings</td>\n",
       "      <td>South End Grounds I</td>\n",
       "      <td>NaN</td>\n",
       "      <td>103</td>\n",
       "      <td>98</td>\n",
       "      <td>BOS</td>\n",
       "      <td>BS1</td>\n",
       "      <td>BS1</td>\n",
       "    </tr>\n",
       "    <tr>\n",
       "      <th>3</th>\n",
       "      <td>1871</td>\n",
       "      <td>NaN</td>\n",
       "      <td>WS3</td>\n",
       "      <td>OLY</td>\n",
       "      <td>NaN</td>\n",
       "      <td>4</td>\n",
       "      <td>32</td>\n",
       "      <td>NaN</td>\n",
       "      <td>15</td>\n",
       "      <td>15</td>\n",
       "      <td>...</td>\n",
       "      <td>NaN</td>\n",
       "      <td>0.85</td>\n",
       "      <td>Washington Olympics</td>\n",
       "      <td>Olympics Grounds</td>\n",
       "      <td>NaN</td>\n",
       "      <td>94</td>\n",
       "      <td>98</td>\n",
       "      <td>OLY</td>\n",
       "      <td>WS3</td>\n",
       "      <td>WS3</td>\n",
       "    </tr>\n",
       "    <tr>\n",
       "      <th>4</th>\n",
       "      <td>1871</td>\n",
       "      <td>NaN</td>\n",
       "      <td>NY2</td>\n",
       "      <td>NNA</td>\n",
       "      <td>NaN</td>\n",
       "      <td>5</td>\n",
       "      <td>33</td>\n",
       "      <td>NaN</td>\n",
       "      <td>16</td>\n",
       "      <td>17</td>\n",
       "      <td>...</td>\n",
       "      <td>NaN</td>\n",
       "      <td>0.83</td>\n",
       "      <td>New York Mutuals</td>\n",
       "      <td>Union Grounds (Brooklyn)</td>\n",
       "      <td>NaN</td>\n",
       "      <td>90</td>\n",
       "      <td>88</td>\n",
       "      <td>NYU</td>\n",
       "      <td>NY2</td>\n",
       "      <td>NY2</td>\n",
       "    </tr>\n",
       "  </tbody>\n",
       "</table>\n",
       "<p>5 rows × 48 columns</p>\n",
       "</div>"
      ],
      "text/plain": [
       "   yearID lgID teamID franchID divID  Rank   G  Ghome   W   L     ...       \\\n",
       "0    1871  NaN    PH1      PNA   NaN     1  28    NaN  21   7     ...        \n",
       "1    1871  NaN    CH1      CNA   NaN     2  28    NaN  19   9     ...        \n",
       "2    1871  NaN    BS1      BNA   NaN     3  31    NaN  20  10     ...        \n",
       "3    1871  NaN    WS3      OLY   NaN     4  32    NaN  15  15     ...        \n",
       "4    1871  NaN    NY2      NNA   NaN     5  33    NaN  16  17     ...        \n",
       "\n",
       "   DP    FP                     name                      park  attendance  \\\n",
       "0 NaN  0.84   Philadelphia Athletics  Jefferson Street Grounds         NaN   \n",
       "1 NaN  0.82  Chicago White Stockings   Union Base-Ball Grounds         NaN   \n",
       "2 NaN  0.83     Boston Red Stockings       South End Grounds I         NaN   \n",
       "3 NaN  0.85      Washington Olympics          Olympics Grounds         NaN   \n",
       "4 NaN  0.83         New York Mutuals  Union Grounds (Brooklyn)         NaN   \n",
       "\n",
       "   BPF  PPF  teamIDBR  teamIDlahman45  teamIDretro  \n",
       "0  102   98       ATH             PH1          PH1  \n",
       "1  104  102       CHI             CH1          CH1  \n",
       "2  103   98       BOS             BS1          BS1  \n",
       "3   94   98       OLY             WS3          WS3  \n",
       "4   90   88       NYU             NY2          NY2  \n",
       "\n",
       "[5 rows x 48 columns]"
      ]
     },
     "execution_count": 3,
     "metadata": {},
     "output_type": "execute_result"
    }
   ],
   "source": [
    "t = pd.read_csv('Teams.csv')\n",
    "t.head()"
   ]
  },
  {
   "cell_type": "markdown",
   "metadata": {},
   "source": [
    "### Problem 1(b)\n",
    "\n",
    "Summarize the Salaries DataFrame to show the total salaries for each team for each year. Show the head of the new summarized DataFrame."
   ]
  },
  {
   "cell_type": "code",
   "execution_count": 4,
   "metadata": {
    "collapsed": false
   },
   "outputs": [
    {
     "data": {
      "text/html": [
       "<div>\n",
       "<table border=\"1\" class=\"dataframe\">\n",
       "  <thead>\n",
       "    <tr style=\"text-align: right;\">\n",
       "      <th></th>\n",
       "      <th></th>\n",
       "      <th>salary</th>\n",
       "    </tr>\n",
       "    <tr>\n",
       "      <th>teamID</th>\n",
       "      <th>yearID</th>\n",
       "      <th></th>\n",
       "    </tr>\n",
       "  </thead>\n",
       "  <tbody>\n",
       "    <tr>\n",
       "      <th rowspan=\"5\" valign=\"top\">ANA</th>\n",
       "      <th>1997</th>\n",
       "      <td>31135472</td>\n",
       "    </tr>\n",
       "    <tr>\n",
       "      <th>1998</th>\n",
       "      <td>41281000</td>\n",
       "    </tr>\n",
       "    <tr>\n",
       "      <th>1999</th>\n",
       "      <td>55388166</td>\n",
       "    </tr>\n",
       "    <tr>\n",
       "      <th>2000</th>\n",
       "      <td>51464167</td>\n",
       "    </tr>\n",
       "    <tr>\n",
       "      <th>2001</th>\n",
       "      <td>47535167</td>\n",
       "    </tr>\n",
       "  </tbody>\n",
       "</table>\n",
       "</div>"
      ],
      "text/plain": [
       "                 salary\n",
       "teamID yearID          \n",
       "ANA    1997    31135472\n",
       "       1998    41281000\n",
       "       1999    55388166\n",
       "       2000    51464167\n",
       "       2001    47535167"
      ]
     },
     "execution_count": 4,
     "metadata": {},
     "output_type": "execute_result"
    }
   ],
   "source": [
    "#Question 1b:\n",
    "summary = s.groupby(['teamID', 'yearID']).sum()\n",
    "summary.head()"
   ]
  },
  {
   "cell_type": "markdown",
   "metadata": {},
   "source": [
    "### Problem 1(c)\n",
    "Merge the new summarized Salaries DataFrame and Teams DataFrame together to create a new DataFrame showing wins and total salaries for each team for each year year. Show the head of the new merged DataFrame.\n",
    "\n",
    "Hint: Merge the DataFrames using teamID and yearID."
   ]
  },
  {
   "cell_type": "code",
   "execution_count": 6,
   "metadata": {
    "collapsed": false
   },
   "outputs": [
    {
     "data": {
      "text/html": [
       "<div>\n",
       "<table border=\"1\" class=\"dataframe\">\n",
       "  <thead>\n",
       "    <tr style=\"text-align: right;\">\n",
       "      <th></th>\n",
       "      <th></th>\n",
       "      <th>W</th>\n",
       "      <th>salary</th>\n",
       "    </tr>\n",
       "    <tr>\n",
       "      <th>teamID</th>\n",
       "      <th>yearID</th>\n",
       "      <th></th>\n",
       "      <th></th>\n",
       "    </tr>\n",
       "  </thead>\n",
       "  <tbody>\n",
       "    <tr>\n",
       "      <th rowspan=\"5\" valign=\"top\">ANA</th>\n",
       "      <th>1997</th>\n",
       "      <td>84</td>\n",
       "      <td>31135472</td>\n",
       "    </tr>\n",
       "    <tr>\n",
       "      <th>1998</th>\n",
       "      <td>85</td>\n",
       "      <td>41281000</td>\n",
       "    </tr>\n",
       "    <tr>\n",
       "      <th>1999</th>\n",
       "      <td>70</td>\n",
       "      <td>55388166</td>\n",
       "    </tr>\n",
       "    <tr>\n",
       "      <th>2000</th>\n",
       "      <td>82</td>\n",
       "      <td>51464167</td>\n",
       "    </tr>\n",
       "    <tr>\n",
       "      <th>2001</th>\n",
       "      <td>75</td>\n",
       "      <td>47535167</td>\n",
       "    </tr>\n",
       "  </tbody>\n",
       "</table>\n",
       "</div>"
      ],
      "text/plain": [
       "                W    salary\n",
       "teamID yearID              \n",
       "ANA    1997    84  31135472\n",
       "       1998    85  41281000\n",
       "       1999    70  55388166\n",
       "       2000    82  51464167\n",
       "       2001    75  47535167"
      ]
     },
     "execution_count": 6,
     "metadata": {},
     "output_type": "execute_result"
    }
   ],
   "source": [
    "#Question 1c:\n",
    "#The wins per team per year\n",
    "teams = t.loc[:,['yearID', 'teamID', 'W']]\n",
    "#The salary per player per year\n",
    "salaries = s.loc[:,['yearID', 'teamID', 'salary']]\n",
    "#Sum of the salary per team per year\n",
    "sumsalary = salaries.groupby(['teamID', 'yearID']).sum().reset_index()\n",
    "#Joining the teamwins and salary\n",
    "merge = pd.merge(teams, sumsalary, on=['yearID', 'teamID'], how='inner')\n",
    "#Grouping by teamID and showing statistics per year\n",
    "organized = merge.groupby(['teamID', 'yearID']).sum()\n",
    "organized.head()"
   ]
  },
  {
   "cell_type": "markdown",
   "metadata": {},
   "source": [
    "### Problem 1(d)\n",
    "How would you graphically display the relationship between total wins and total salaries for a given year? What kind of plot would be best? Choose a plot to show this relationship and specifically annotate the Oakland baseball team on the on the plot. Show this plot across multiple years. In which years can you detect a competitive advantage from the Oakland baseball team of using data science? When did this end?\n",
    "\n",
    "Hints: Use a for loop to consider multiple years. Use the teamID (three letter representation of the team name) to save space on the plot."
   ]
  },
  {
   "cell_type": "code",
   "execution_count": 7,
   "metadata": {
    "collapsed": false
   },
   "outputs": [
    {
     "data": {
      "image/png": "[encoded data removed]",
      "text/plain": [
       "<matplotlib.figure.Figure at 0xce2a978>"
      ]
     },
     "metadata": {},
     "output_type": "display_data"
    },
    {
     "data": {
      "image/png": "[encoded data removed]",
      "text/plain": [
       "<matplotlib.figure.Figure at 0xd064eb8>"
      ]
     },
     "metadata": {},
     "output_type": "display_data"
    },
    {
     "data": {
      "image/png": "[encoded data removed]",
      "text/plain": [
       "<matplotlib.figure.Figure at 0xd19d278>"
      ]
     },
     "metadata": {},
     "output_type": "display_data"
    },
    {
     "data": {
      "image/png": "[encoded data removed]",
      "text/plain": [
       "<matplotlib.figure.Figure at 0xd1fa5f8>"
      ]
     },
     "metadata": {},
     "output_type": "display_data"
    },
    {
     "data": {
      "text/plain": [
       "<matplotlib.figure.Figure at 0xd35aa90>"
      ]
     },
     "metadata": {},
     "output_type": "display_data"
    }
   ],
   "source": [
    "#Question 1d:\n",
    "#Make the data usable for the plots\n",
    "data = organized.reset_index()\n",
    "#Get the data for a given year\n",
    "for year in range(1999,2003):\n",
    "    year_data = data[data.yearID==year]\n",
    "    win_data = year_data['W']\n",
    "    salary_data = year_data['salary']\n",
    "    team_data = year_data['teamID']\n",
    "    #Make a plot for the year\n",
    "    Xaxis = np.divide(salary_data.values, 1000000)\n",
    "    Yaxis = win_data.values\n",
    "    different_color = ['red' if team=='OAK' else 'black' for team in team_data.values]\n",
    "\n",
    "    plt.scatter(Xaxis,Yaxis, c=different_color, s=100, alpha=0.5, edgecolors='none')\n",
    "    plt.title(str(year) + ' wins against salary (oakland is red)')    \n",
    "    plt.xlabel('salary in millions')\n",
    "    plt.ylabel('number of wins')\n",
    "    plt.figure()\n",
    "\n",
    "\n",
    "plt.show()"
   ]
  },
  {
   "cell_type": "code",
   "execution_count": 8,
   "metadata": {
    "collapsed": false
   },
   "outputs": [
    {
     "data": {
      "image/png": "[encoded data removed]",
      "text/plain": [
       "<matplotlib.figure.Figure at 0xce2a7f0>"
      ]
     },
     "metadata": {},
     "output_type": "display_data"
    }
   ],
   "source": [
    "#Question 1d:\n",
    "#Make the data usable for the plots\n",
    "data = organized.reset_index()\n",
    "#Get the data for a given year\n",
    "for year in range(1997,2014):\n",
    "    year_data = data[data.yearID==year]\n",
    "    for item in year_data.values:\n",
    "        team = item[0]\n",
    "        oak = year_data[year_data.teamID==team]\n",
    "        win_data = oak['W']\n",
    "        salary_data = oak['salary']\n",
    "        salary_per_win = np.divide(salary_data,win_data)\n",
    "        team_data = year_data['teamID']\n",
    "        Xaxis = year\n",
    "        Yaxis = salary_per_win\n",
    "        if team=='OAK':\n",
    "            plt.scatter(Xaxis,Yaxis, c='red', edgecolors='none')\n",
    "        else:\n",
    "            plt.scatter(Xaxis,Yaxis, c='black', edgecolors='none')\n",
    "\n",
    "plt.title('salary per win per year (Oakland is red)')    \n",
    "plt.xlabel('year')\n",
    "plt.ylabel('salary per win')\n",
    "plt.show()"
   ]
  },
  {
   "cell_type": "code",
   "execution_count": 20,
   "metadata": {
    "collapsed": false
   },
   "outputs": [
    {
     "data": {
      "image/png": "[encoded data removed]",
      "text/plain": [
       "<matplotlib.figure.Figure at 0x1153f240>"
      ]
     },
     "metadata": {},
     "output_type": "display_data"
    }
   ],
   "source": [
    "first = 1997\n",
    "last = 2007\n",
    "\n",
    "oak_data = data[(data.yearID>=first) & (data.yearID<=last)]\n",
    "oak_wins = oak_data[oak_data.teamID=='OAK']\n",
    "years = oak_wins.loc[:,[ 'yearID']].values\n",
    "wins = oak_wins.loc[:,[ 'W']].values\n",
    "plt.plot(years, wins)   \n",
    "plt.title('Oklahoma wins over the years')\n",
    "plt.ylabel('wins')\n",
    "plt.xlabel('years')\n",
    "plt.grid(True)\n",
    "plt.show()"
   ]
  },
  {
   "cell_type": "markdown",
   "metadata": {},
   "source": [
    "### Discusion for problem 1:\n",
    "\n",
    "Uit de data wordt nu zichtbaar wat het verband is tussen het salaris van spelers in een team en de hoeveelheid wins die ze in een jaar halen. Het wordt duidelijk dat vooral in 2001 het beste jaar was voor Oakland, omdat hier de verhouding tussen salaris en wins het beste was, ze haalden namelijk heel veel wins, voor een laag teamsalaris."
   ]
  },
  {
   "cell_type": "markdown",
   "metadata": {
    "slideshow": {
     "slide_type": "slide"
    }
   },
   "source": [
    "## N1\n",
    "\n",
    "* Vind voor elke naam het totaal aantal jongens en het totaal aantal meisjes met die naam (totalen dus genomen over alle jaren)\n",
    "* Dit is natuurlijk weer een pivot table\n",
    "* We willen ook de totalen erbij\n",
    "* Orden de namen omgekeerd op het aantal keer dat ze voorkomen\n",
    "\n",
    "Je tabel moet er zo uitzien:\n",
    "* kolommen: sex\tF\tM\tAll\n",
    "* Rijen: ALL, gevolgd door de namen, \n",
    "\n",
    "```\n",
    "sex\tF\tM\tAll\n",
    "name\t\t\t\n",
    "All\t159990140\t162412587\t322402727\n",
    "James\t23044\t5049727\t5072771\n",
    "John\t21578\t5040319\t5061897\n",
    "Robert\t20055\t4767995\t4788050\n",
    "Michael\t21470\t4243903\t4265373\n",
    "```\n"
   ]
  },
  {
   "cell_type": "code",
   "execution_count": 23,
   "metadata": {
    "collapsed": false
   },
   "outputs": [],
   "source": [
    "years = range(1880,  2011)\n",
    "\n",
    "pieces = []\n",
    "columns = ['name', 'sex', 'births']\n",
    "\n",
    "for year in years:\n",
    "    path = 'names/yob%d.txt' %year\n",
    "    frame = pd.read_csv(path, names=columns, engine='python')\n",
    "\n",
    "    frame['year'] = year\n",
    "    pieces.append(frame)\n",
    "\n",
    "# Concatenate everything into a single DataFrame\n",
    "names = pd.concat(pieces, ignore_index=True)\n",
    "total = names.loc[:,['name', 'sex', 'births']]"
   ]
  },
  {
   "cell_type": "code",
   "execution_count": 26,
   "metadata": {
    "collapsed": false
   },
   "outputs": [
    {
     "data": {
      "text/html": [
       "<div>\n",
       "<table border=\"1\" class=\"dataframe\">\n",
       "  <thead>\n",
       "    <tr style=\"text-align: right;\">\n",
       "      <th>sex</th>\n",
       "      <th>F</th>\n",
       "      <th>M</th>\n",
       "      <th>all</th>\n",
       "    </tr>\n",
       "    <tr>\n",
       "      <th>name</th>\n",
       "      <th></th>\n",
       "      <th></th>\n",
       "      <th></th>\n",
       "    </tr>\n",
       "  </thead>\n",
       "  <tbody>\n",
       "    <tr>\n",
       "      <th>All</th>\n",
       "      <td>159990140</td>\n",
       "      <td>162412587</td>\n",
       "      <td>322402727</td>\n",
       "    </tr>\n",
       "    <tr>\n",
       "      <th>James</th>\n",
       "      <td>23044</td>\n",
       "      <td>5049727</td>\n",
       "      <td>5072771</td>\n",
       "    </tr>\n",
       "    <tr>\n",
       "      <th>John</th>\n",
       "      <td>21578</td>\n",
       "      <td>5040319</td>\n",
       "      <td>5061897</td>\n",
       "    </tr>\n",
       "    <tr>\n",
       "      <th>Robert</th>\n",
       "      <td>20055</td>\n",
       "      <td>4767995</td>\n",
       "      <td>4788050</td>\n",
       "    </tr>\n",
       "    <tr>\n",
       "      <th>Michael</th>\n",
       "      <td>21470</td>\n",
       "      <td>4243903</td>\n",
       "      <td>4265373</td>\n",
       "    </tr>\n",
       "  </tbody>\n",
       "</table>\n",
       "</div>"
      ],
      "text/plain": [
       "sex              F          M        all\n",
       "name                                    \n",
       "All      159990140  162412587  322402727\n",
       "James        23044    5049727    5072771\n",
       "John         21578    5040319    5061897\n",
       "Robert       20055    4767995    4788050\n",
       "Michael      21470    4243903    4265373"
      ]
     },
     "execution_count": 26,
     "metadata": {},
     "output_type": "execute_result"
    }
   ],
   "source": [
    "table = pd.pivot_table(names, values='births', index=['name'],columns=['sex'], aggfunc=np.sum).sort_values('M',ascending=False)\n",
    "total_each_name = total.groupby('name').sum().sort_values('births',ascending=False )\n",
    "table = table.join(total_each_name)\n",
    "count_per_sex = total.groupby('sex').sum().sort_values('births',ascending=False )\n",
    "male = count_per_sex.iloc[0]['births']\n",
    "female = count_per_sex.iloc[1]['births']\n",
    "first = pd.DataFrame([[female, male,count_per_sex.sum()['births']]], columns=['F', 'M', 'births'])\n",
    "first.index.name = 'name'\n",
    "table = table.append(first).rename(index={0: 'All'}).sort_values('births',ascending=False)\n",
    "table = table.rename(columns = {'births':'all'})\n",
    "table.head()"
   ]
  },
  {
   "cell_type": "markdown",
   "metadata": {
    "slideshow": {
     "slide_type": "slide"
    }
   },
   "source": [
    "# N2\n",
    "\n",
    "* Now we want to find the most gender ambiguous names.\n",
    "* How can we do that? An intuitive measure is to take the logarithm of the number of males divided by the number of females. \n",
    "    * If it is close to 0, the name is very ambiguous\n",
    "    * if it is negative, it is a more femalish name\n",
    "    * if it is positive it is a more malish name\n",
    "    * if we take logarithm with base 2, then a value of $+n$, for a name $N$, means that $N$ is used $2^n$ more often for males than for females. E.g., for $n=4$, this means 16 times. \n",
    "   \n",
    "### Your task\n",
    "* Add a column `ratio` to your just created dataframe in which you divide the male by the female totals\n",
    "* Using `np.log` and pandas `apply` method (and possibly $\\lambda$ abstraction), compute the log measure.\n",
    "* Print out the top 20 most ambiguous names. Take those names with a \"log-value\" between $-0.1$ and $0.1$ and sort them reversely on the total number of babies with that name.\n",
    "\n"
   ]
  },
  {
   "cell_type": "code",
   "execution_count": 52,
   "metadata": {
    "collapsed": false
   },
   "outputs": [
    {
     "data": {
      "text/html": [
       "<div>\n",
       "<table border=\"1\" class=\"dataframe\">\n",
       "  <thead>\n",
       "    <tr style=\"text-align: right;\">\n",
       "      <th>sex</th>\n",
       "      <th>F</th>\n",
       "      <th>M</th>\n",
       "      <th>all</th>\n",
       "      <th>ratio</th>\n",
       "    </tr>\n",
       "    <tr>\n",
       "      <th>name</th>\n",
       "      <th></th>\n",
       "      <th></th>\n",
       "      <th></th>\n",
       "      <th></th>\n",
       "    </tr>\n",
       "  </thead>\n",
       "  <tbody>\n",
       "    <tr>\n",
       "      <th>All</th>\n",
       "      <td>159990140</td>\n",
       "      <td>162412587</td>\n",
       "      <td>322402727</td>\n",
       "      <td>0.015028</td>\n",
       "    </tr>\n",
       "    <tr>\n",
       "      <th>Kerry</th>\n",
       "      <td>48303</td>\n",
       "      <td>49163</td>\n",
       "      <td>97466</td>\n",
       "      <td>0.017648</td>\n",
       "    </tr>\n",
       "    <tr>\n",
       "      <th>Robbie</th>\n",
       "      <td>22161</td>\n",
       "      <td>20394</td>\n",
       "      <td>42555</td>\n",
       "      <td>-0.083093</td>\n",
       "    </tr>\n",
       "    <tr>\n",
       "      <th>Kris</th>\n",
       "      <td>13372</td>\n",
       "      <td>13536</td>\n",
       "      <td>26908</td>\n",
       "      <td>0.012190</td>\n",
       "    </tr>\n",
       "    <tr>\n",
       "      <th>Unknown</th>\n",
       "      <td>8983</td>\n",
       "      <td>8771</td>\n",
       "      <td>17754</td>\n",
       "      <td>-0.023883</td>\n",
       "    </tr>\n",
       "    <tr>\n",
       "      <th>Amari</th>\n",
       "      <td>9101</td>\n",
       "      <td>8505</td>\n",
       "      <td>17606</td>\n",
       "      <td>-0.067730</td>\n",
       "    </tr>\n",
       "    <tr>\n",
       "      <th>Ivory</th>\n",
       "      <td>7348</td>\n",
       "      <td>8057</td>\n",
       "      <td>15405</td>\n",
       "      <td>0.092113</td>\n",
       "    </tr>\n",
       "    <tr>\n",
       "      <th>Baby</th>\n",
       "      <td>5738</td>\n",
       "      <td>5966</td>\n",
       "      <td>11704</td>\n",
       "      <td>0.038966</td>\n",
       "    </tr>\n",
       "    <tr>\n",
       "      <th>Infant</th>\n",
       "      <td>3753</td>\n",
       "      <td>4052</td>\n",
       "      <td>7805</td>\n",
       "      <td>0.076655</td>\n",
       "    </tr>\n",
       "    <tr>\n",
       "      <th>Campbell</th>\n",
       "      <td>3570</td>\n",
       "      <td>3404</td>\n",
       "      <td>6974</td>\n",
       "      <td>-0.047614</td>\n",
       "    </tr>\n",
       "    <tr>\n",
       "      <th>Michal</th>\n",
       "      <td>3384</td>\n",
       "      <td>3500</td>\n",
       "      <td>6884</td>\n",
       "      <td>0.033705</td>\n",
       "    </tr>\n",
       "    <tr>\n",
       "      <th>Ardell</th>\n",
       "      <td>2635</td>\n",
       "      <td>2387</td>\n",
       "      <td>5022</td>\n",
       "      <td>-0.098846</td>\n",
       "    </tr>\n",
       "    <tr>\n",
       "      <th>Kodi</th>\n",
       "      <td>2030</td>\n",
       "      <td>2072</td>\n",
       "      <td>4102</td>\n",
       "      <td>0.020479</td>\n",
       "    </tr>\n",
       "    <tr>\n",
       "      <th>Natividad</th>\n",
       "      <td>1868</td>\n",
       "      <td>1708</td>\n",
       "      <td>3576</td>\n",
       "      <td>-0.089545</td>\n",
       "    </tr>\n",
       "    <tr>\n",
       "      <th>Ellison</th>\n",
       "      <td>1653</td>\n",
       "      <td>1748</td>\n",
       "      <td>3401</td>\n",
       "      <td>0.055880</td>\n",
       "    </tr>\n",
       "    <tr>\n",
       "      <th>Kiran</th>\n",
       "      <td>1511</td>\n",
       "      <td>1482</td>\n",
       "      <td>2993</td>\n",
       "      <td>-0.019379</td>\n",
       "    </tr>\n",
       "    <tr>\n",
       "      <th>Kalin</th>\n",
       "      <td>1377</td>\n",
       "      <td>1518</td>\n",
       "      <td>2895</td>\n",
       "      <td>0.097486</td>\n",
       "    </tr>\n",
       "    <tr>\n",
       "      <th>Christan</th>\n",
       "      <td>1361</td>\n",
       "      <td>1269</td>\n",
       "      <td>2630</td>\n",
       "      <td>-0.069991</td>\n",
       "    </tr>\n",
       "    <tr>\n",
       "      <th>Dann</th>\n",
       "      <td>1145</td>\n",
       "      <td>1090</td>\n",
       "      <td>2235</td>\n",
       "      <td>-0.049227</td>\n",
       "    </tr>\n",
       "    <tr>\n",
       "      <th>Karsen</th>\n",
       "      <td>1077</td>\n",
       "      <td>1135</td>\n",
       "      <td>2212</td>\n",
       "      <td>0.052453</td>\n",
       "    </tr>\n",
       "  </tbody>\n",
       "</table>\n",
       "</div>"
      ],
      "text/plain": [
       "sex                F          M        all     ratio\n",
       "name                                                \n",
       "All        159990140  162412587  322402727  0.015028\n",
       "Kerry          48303      49163      97466  0.017648\n",
       "Robbie         22161      20394      42555 -0.083093\n",
       "Kris           13372      13536      26908  0.012190\n",
       "Unknown         8983       8771      17754 -0.023883\n",
       "Amari           9101       8505      17606 -0.067730\n",
       "Ivory           7348       8057      15405  0.092113\n",
       "Baby            5738       5966      11704  0.038966\n",
       "Infant          3753       4052       7805  0.076655\n",
       "Campbell        3570       3404       6974 -0.047614\n",
       "Michal          3384       3500       6884  0.033705\n",
       "Ardell          2635       2387       5022 -0.098846\n",
       "Kodi            2030       2072       4102  0.020479\n",
       "Natividad       1868       1708       3576 -0.089545\n",
       "Ellison         1653       1748       3401  0.055880\n",
       "Kiran           1511       1482       2993 -0.019379\n",
       "Kalin           1377       1518       2895  0.097486\n",
       "Christan        1361       1269       2630 -0.069991\n",
       "Dann            1145       1090       2235 -0.049227\n",
       "Karsen          1077       1135       2212  0.052453"
      ]
     },
     "execution_count": 52,
     "metadata": {},
     "output_type": "execute_result"
    }
   ],
   "source": [
    "def funct(x):\n",
    "    return np.log(x[1]/x[0])\n",
    "table[\"ratio\"] = table.apply(funct,axis=1)\n",
    "table.sort_values('ratio',ascending=False)\n",
    "table[(table['ratio'] >= -0.1) & (table['ratio'] <= 0.1)].sort_values('all',ascending=False)[:20]"
   ]
  },
  {
   "cell_type": "markdown",
   "metadata": {
    "slideshow": {
     "slide_type": "slide"
    }
   },
   "source": [
    "# N3\n",
    "\n",
    "* We now want a dataframe containing non-ambiguous names.\n",
    "* Do two things.\n",
    "\n",
    "1. Add a column `gender` to your dataframe in which you store the winning gender.\n",
    "2. Restrict the dataframe to those names which occur at least 10.000 times and are used at least 16 times more for one gender than for the other.\n",
    "    * How many names are left?\n",
    "    * How many males and how many females?\n",
    "3. Store this as a csv file.\n",
    "3. Suppose we classify all children with the names from this csv file according to the gender column. Clearly we make some mistakes then (that is, for example  a boy named Sue is classified as a girl). Calculate the expected maximum percentage of mistakes, and also calculated the actual percentage of mistakes.\n",
    "\n"
   ]
  },
  {
   "cell_type": "code",
   "execution_count": 84,
   "metadata": {
    "collapsed": false
   },
   "outputs": [
    {
     "name": "stdout",
     "output_type": "stream",
     "text": [
      "Er zijn: 2065 namen overgebleven\n",
      "Er zijn: 1154 vrouwen namen en: 911 mannen namen\n"
     ]
    },
    {
     "name": "stderr",
     "output_type": "stream",
     "text": [
      "C:\\Users\\niek\\Anaconda2\\lib\\site-packages\\ipykernel\\__main__.py:2: SettingWithCopyWarning: \n",
      "A value is trying to be set on a copy of a slice from a DataFrame.\n",
      "Try using .loc[row_indexer,col_indexer] = value instead\n",
      "\n",
      "See the caveats in the documentation: http://pandas.pydata.org/pandas-docs/stable/indexing.html#indexing-view-versus-copy\n",
      "  from ipykernel import kernelapp as app\n"
     ]
    }
   ],
   "source": [
    "new = table[(table['all'] >= 10000) & ((table['F']-table['M'] >= 16) | (table['M']-table['F'] >= 16))]\n",
    "new['gender'] = new.loc[:,['F', 'M']].idxmax(axis=1)\n",
    "\n",
    "print 'Er zijn:',len(new),'namen overgebleven'\n",
    "females = pd.value_counts(new['gender'].values)[0]\n",
    "males = pd.value_counts(new['gender'].values)[1]\n",
    "print 'Er zijn:', females,'vrouwen namen en:',males,'mannen namen'\n",
    "new.to_csv('classification.csv', sep=',')"
   ]
  },
  {
   "cell_type": "code",
   "execution_count": 97,
   "metadata": {
    "collapsed": false
   },
   "outputs": [
    {
     "data": {
      "text/html": [
       "<div>\n",
       "<table border=\"1\" class=\"dataframe\">\n",
       "  <thead>\n",
       "    <tr style=\"text-align: right;\">\n",
       "      <th>sex</th>\n",
       "      <th>F</th>\n",
       "      <th>M</th>\n",
       "      <th>all</th>\n",
       "      <th>ratio</th>\n",
       "      <th>gender</th>\n",
       "      <th>actual percentage</th>\n",
       "    </tr>\n",
       "    <tr>\n",
       "      <th>name</th>\n",
       "      <th></th>\n",
       "      <th></th>\n",
       "      <th></th>\n",
       "      <th></th>\n",
       "      <th></th>\n",
       "      <th></th>\n",
       "    </tr>\n",
       "  </thead>\n",
       "  <tbody>\n",
       "    <tr>\n",
       "      <th>All</th>\n",
       "      <td>159990140</td>\n",
       "      <td>162412587</td>\n",
       "      <td>322402727</td>\n",
       "      <td>0.015028</td>\n",
       "      <td>M</td>\n",
       "      <td>49.624314</td>\n",
       "    </tr>\n",
       "    <tr>\n",
       "      <th>James</th>\n",
       "      <td>23044</td>\n",
       "      <td>5049727</td>\n",
       "      <td>5072771</td>\n",
       "      <td>5.389684</td>\n",
       "      <td>M</td>\n",
       "      <td>0.454268</td>\n",
       "    </tr>\n",
       "    <tr>\n",
       "      <th>John</th>\n",
       "      <td>21578</td>\n",
       "      <td>5040319</td>\n",
       "      <td>5061897</td>\n",
       "      <td>5.453550</td>\n",
       "      <td>M</td>\n",
       "      <td>0.426283</td>\n",
       "    </tr>\n",
       "    <tr>\n",
       "      <th>Robert</th>\n",
       "      <td>20055</td>\n",
       "      <td>4767995</td>\n",
       "      <td>4788050</td>\n",
       "      <td>5.471203</td>\n",
       "      <td>M</td>\n",
       "      <td>0.418855</td>\n",
       "    </tr>\n",
       "    <tr>\n",
       "      <th>Michael</th>\n",
       "      <td>21470</td>\n",
       "      <td>4243903</td>\n",
       "      <td>4265373</td>\n",
       "      <td>5.286582</td>\n",
       "      <td>M</td>\n",
       "      <td>0.503356</td>\n",
       "    </tr>\n",
       "  </tbody>\n",
       "</table>\n",
       "</div>"
      ],
      "text/plain": [
       "sex              F          M        all     ratio gender  actual percentage\n",
       "name                                                                        \n",
       "All      159990140  162412587  322402727  0.015028      M          49.624314\n",
       "James        23044    5049727    5072771  5.389684      M           0.454268\n",
       "John         21578    5040319    5061897  5.453550      M           0.426283\n",
       "Robert       20055    4767995    4788050  5.471203      M           0.418855\n",
       "Michael      21470    4243903    4265373  5.286582      M           0.503356"
      ]
     },
     "execution_count": 97,
     "metadata": {},
     "output_type": "execute_result"
    }
   ],
   "source": [
    "#Actual percentage is hier hoeveel procent van de namen fout zijn ingedeeld, bij zeer ambigue namen zal het dus dichter bij\n",
    "#de 100% liggen\n",
    "def actual(x):\n",
    "    if x[4] == 'F':\n",
    "        return (x[1]/x[2])*100\n",
    "    if x[4] == 'M':\n",
    "        return (x[0]/x[2])*100\n",
    "new['actual percentage'] = new.apply(actual,axis=1)\n",
    "new.head()"
   ]
  }
 ],
 "metadata": {
  "celltoolbar": "Slideshow",
  "kernelspec": {
   "display_name": "Python 2",
   "language": "python",
   "name": "python2"
  },
  "language_info": {
   "codemirror_mode": {
    "name": "ipython",
    "version": 2
   },
   "file_extension": ".py",
   "mimetype": "text/x-python",
   "name": "python",
   "nbconvert_exporter": "python",
   "pygments_lexer": "ipython2",
   "version": "2.7.11"
  }
 },
 "nbformat": 4,
 "nbformat_minor": 0
}
