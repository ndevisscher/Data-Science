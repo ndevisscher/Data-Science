{
 "cells": [
  {
   "cell_type": "markdown",
   "metadata": {
    "slideshow": {
     "slide_type": "slide"
    }
   },
   "source": [
    "#  Assignment 3\n",
    "\n",
    "## Notebook made by  \n",
    "\n",
    "|** Name** | **Student id** | **email**|\n",
    "|:- |:-|:-|\n",
    "|. | | |\n",
    "|  | |. |\n",
    "\n",
    "### Pledge (taken from [Coursera's Honor Code](https://www.coursera.org/about/terms/honorcode) )\n",
    "\n",
    "\n",
    "\n",
    "Put here a selfie with your photo where you hold a signed paper with the following text: (if this is team work, put two selfies here). The link must be to some place on the web, not to a local file. \n",
    "\n",
    "> My answers to homework, quizzes and exams will be my own work (except for assignments that explicitly permit collaboration).\n",
    "\n",
    ">I will not make solutions to homework, quizzes or exams available to anyone else. This includes both solutions written by me, as well as any official solutions provided by the course staff.\n",
    "\n",
    ">I will not engage in any other activities that will dishonestly improve my results or dishonestly improve/hurt the results of others.\n",
    "\n",
    "<img src='link to your selfie'/>\n",
    "\n",
    "### Note\n",
    "* **Assignments without the selfies or completely filled in information will not be graded and receive 0 points.**\n"
   ]
  },
  {
   "cell_type": "markdown",
   "metadata": {
    "slideshow": {
     "slide_type": "slide"
    }
   },
   "source": [
    "# Pandas assignment\n",
    "\n",
    "## [Part one](http://nbviewer.jupyter.org/url/maartenmarx.nl/teaching/ISatWork/Assignments/ASSIGNMENTS/baseball.ipynb)\n",
    "\n",
    "Copy and paste the exrcises from this file into this notebook, and put your answers behind each question.\n",
    "\n",
    "## Part two: American baby names\n",
    "\n",
    "We continue the analysis of American baby names started in <http://maartenmarx.nl/teaching/ISatWork/Slides/Week1_slides.ipynb#Chapter-2:-analyse-baby-names>\n",
    "\n",
    "You must copy some of the pandas commands from the slides to get started. Do that here too. "
   ]
  },
  {
   "cell_type": "code",
   "execution_count": 1,
   "metadata": {
    "collapsed": true
   },
   "outputs": [],
   "source": [
    "# special IPython command to prepare the notebook for matplotlib\n",
    "%matplotlib inline \n",
    "\n",
    "import numpy as np\n",
    "import pandas as pd\n",
    "import matplotlib.pyplot as plt"
   ]
  },
  {
   "cell_type": "markdown",
   "metadata": {},
   "source": [
    "### Problem 1\n",
    "In 2002 and 2003 Oakland A's, a team that used data science, had a competitive advantage. Since, others teams have started using data science as well. Use exploratory data analysis to determine if the competitive advantage has since disappeared.\n",
    "\n",
    "#### Problem 1(a)\n",
    "Load in these CSV files from the Sean Lahman's Baseball Database. For this assignment, we will use the 'Salaries.csv' and 'Teams.csv' tables. Read these tables into a pandas DataFrame and show the head of each table.\n",
    "\n",
    "Hint Use the requests, StringIO and zipfile modules to get from the web.\n",
    "\n",
    "Hint 2 A local copy is available in the Data folder of our course."
   ]
  },
  {
   "cell_type": "code",
   "execution_count": 40,
   "metadata": {
    "collapsed": false
   },
   "outputs": [
    {
     "data": {
      "text/html": [
       "<div>\n",
       "<table border=\"1\" class=\"dataframe\">\n",
       "  <thead>\n",
       "    <tr style=\"text-align: right;\">\n",
       "      <th></th>\n",
       "      <th>yearID</th>\n",
       "      <th>teamID</th>\n",
       "      <th>lgID</th>\n",
       "      <th>playerID</th>\n",
       "      <th>salary</th>\n",
       "    </tr>\n",
       "  </thead>\n",
       "  <tbody>\n",
       "    <tr>\n",
       "      <th>0</th>\n",
       "      <td>1985</td>\n",
       "      <td>BAL</td>\n",
       "      <td>AL</td>\n",
       "      <td>murraed02</td>\n",
       "      <td>1472819</td>\n",
       "    </tr>\n",
       "    <tr>\n",
       "      <th>1</th>\n",
       "      <td>1985</td>\n",
       "      <td>BAL</td>\n",
       "      <td>AL</td>\n",
       "      <td>lynnfr01</td>\n",
       "      <td>1090000</td>\n",
       "    </tr>\n",
       "    <tr>\n",
       "      <th>2</th>\n",
       "      <td>1985</td>\n",
       "      <td>BAL</td>\n",
       "      <td>AL</td>\n",
       "      <td>ripkeca01</td>\n",
       "      <td>800000</td>\n",
       "    </tr>\n",
       "    <tr>\n",
       "      <th>3</th>\n",
       "      <td>1985</td>\n",
       "      <td>BAL</td>\n",
       "      <td>AL</td>\n",
       "      <td>lacyle01</td>\n",
       "      <td>725000</td>\n",
       "    </tr>\n",
       "    <tr>\n",
       "      <th>4</th>\n",
       "      <td>1985</td>\n",
       "      <td>BAL</td>\n",
       "      <td>AL</td>\n",
       "      <td>flanami01</td>\n",
       "      <td>641667</td>\n",
       "    </tr>\n",
       "  </tbody>\n",
       "</table>\n",
       "</div>"
      ],
      "text/plain": [
       "   yearID teamID lgID   playerID   salary\n",
       "0    1985    BAL   AL  murraed02  1472819\n",
       "1    1985    BAL   AL   lynnfr01  1090000\n",
       "2    1985    BAL   AL  ripkeca01   800000\n",
       "3    1985    BAL   AL   lacyle01   725000\n",
       "4    1985    BAL   AL  flanami01   641667"
      ]
     },
     "execution_count": 40,
     "metadata": {},
     "output_type": "execute_result"
    }
   ],
   "source": [
    "#Part 1:\n",
    "import StringIO\n",
    "import requests\n",
    "#Problem 1a:\n",
    "url = \"https://github.com/ndevisscher/Data-Science/blob/master/Week%203/Salaries.csv\"\n",
    "r = requests.get(url).content\n",
    "#s = pd.read_csv(StringIO.StringIO(r))\n",
    "s = pd.read_csv('Salaries.csv')\n",
    "s.head()"
   ]
  },
  {
   "cell_type": "code",
   "execution_count": 41,
   "metadata": {
    "collapsed": false
   },
   "outputs": [
    {
     "data": {
      "text/html": [
       "<div>\n",
       "<table border=\"1\" class=\"dataframe\">\n",
       "  <thead>\n",
       "    <tr style=\"text-align: right;\">\n",
       "      <th></th>\n",
       "      <th>yearID</th>\n",
       "      <th>lgID</th>\n",
       "      <th>teamID</th>\n",
       "      <th>franchID</th>\n",
       "      <th>divID</th>\n",
       "      <th>Rank</th>\n",
       "      <th>G</th>\n",
       "      <th>Ghome</th>\n",
       "      <th>W</th>\n",
       "      <th>L</th>\n",
       "      <th>...</th>\n",
       "      <th>DP</th>\n",
       "      <th>FP</th>\n",
       "      <th>name</th>\n",
       "      <th>park</th>\n",
       "      <th>attendance</th>\n",
       "      <th>BPF</th>\n",
       "      <th>PPF</th>\n",
       "      <th>teamIDBR</th>\n",
       "      <th>teamIDlahman45</th>\n",
       "      <th>teamIDretro</th>\n",
       "    </tr>\n",
       "  </thead>\n",
       "  <tbody>\n",
       "    <tr>\n",
       "      <th>0</th>\n",
       "      <td>1871</td>\n",
       "      <td>NaN</td>\n",
       "      <td>PH1</td>\n",
       "      <td>PNA</td>\n",
       "      <td>NaN</td>\n",
       "      <td>1</td>\n",
       "      <td>28</td>\n",
       "      <td>NaN</td>\n",
       "      <td>21</td>\n",
       "      <td>7</td>\n",
       "      <td>...</td>\n",
       "      <td>NaN</td>\n",
       "      <td>0.84</td>\n",
       "      <td>Philadelphia Athletics</td>\n",
       "      <td>Jefferson Street Grounds</td>\n",
       "      <td>NaN</td>\n",
       "      <td>102</td>\n",
       "      <td>98</td>\n",
       "      <td>ATH</td>\n",
       "      <td>PH1</td>\n",
       "      <td>PH1</td>\n",
       "    </tr>\n",
       "    <tr>\n",
       "      <th>1</th>\n",
       "      <td>1871</td>\n",
       "      <td>NaN</td>\n",
       "      <td>CH1</td>\n",
       "      <td>CNA</td>\n",
       "      <td>NaN</td>\n",
       "      <td>2</td>\n",
       "      <td>28</td>\n",
       "      <td>NaN</td>\n",
       "      <td>19</td>\n",
       "      <td>9</td>\n",
       "      <td>...</td>\n",
       "      <td>NaN</td>\n",
       "      <td>0.82</td>\n",
       "      <td>Chicago White Stockings</td>\n",
       "      <td>Union Base-Ball Grounds</td>\n",
       "      <td>NaN</td>\n",
       "      <td>104</td>\n",
       "      <td>102</td>\n",
       "      <td>CHI</td>\n",
       "      <td>CH1</td>\n",
       "      <td>CH1</td>\n",
       "    </tr>\n",
       "    <tr>\n",
       "      <th>2</th>\n",
       "      <td>1871</td>\n",
       "      <td>NaN</td>\n",
       "      <td>BS1</td>\n",
       "      <td>BNA</td>\n",
       "      <td>NaN</td>\n",
       "      <td>3</td>\n",
       "      <td>31</td>\n",
       "      <td>NaN</td>\n",
       "      <td>20</td>\n",
       "      <td>10</td>\n",
       "      <td>...</td>\n",
       "      <td>NaN</td>\n",
       "      <td>0.83</td>\n",
       "      <td>Boston Red Stockings</td>\n",
       "      <td>South End Grounds I</td>\n",
       "      <td>NaN</td>\n",
       "      <td>103</td>\n",
       "      <td>98</td>\n",
       "      <td>BOS</td>\n",
       "      <td>BS1</td>\n",
       "      <td>BS1</td>\n",
       "    </tr>\n",
       "    <tr>\n",
       "      <th>3</th>\n",
       "      <td>1871</td>\n",
       "      <td>NaN</td>\n",
       "      <td>WS3</td>\n",
       "      <td>OLY</td>\n",
       "      <td>NaN</td>\n",
       "      <td>4</td>\n",
       "      <td>32</td>\n",
       "      <td>NaN</td>\n",
       "      <td>15</td>\n",
       "      <td>15</td>\n",
       "      <td>...</td>\n",
       "      <td>NaN</td>\n",
       "      <td>0.85</td>\n",
       "      <td>Washington Olympics</td>\n",
       "      <td>Olympics Grounds</td>\n",
       "      <td>NaN</td>\n",
       "      <td>94</td>\n",
       "      <td>98</td>\n",
       "      <td>OLY</td>\n",
       "      <td>WS3</td>\n",
       "      <td>WS3</td>\n",
       "    </tr>\n",
       "    <tr>\n",
       "      <th>4</th>\n",
       "      <td>1871</td>\n",
       "      <td>NaN</td>\n",
       "      <td>NY2</td>\n",
       "      <td>NNA</td>\n",
       "      <td>NaN</td>\n",
       "      <td>5</td>\n",
       "      <td>33</td>\n",
       "      <td>NaN</td>\n",
       "      <td>16</td>\n",
       "      <td>17</td>\n",
       "      <td>...</td>\n",
       "      <td>NaN</td>\n",
       "      <td>0.83</td>\n",
       "      <td>New York Mutuals</td>\n",
       "      <td>Union Grounds (Brooklyn)</td>\n",
       "      <td>NaN</td>\n",
       "      <td>90</td>\n",
       "      <td>88</td>\n",
       "      <td>NYU</td>\n",
       "      <td>NY2</td>\n",
       "      <td>NY2</td>\n",
       "    </tr>\n",
       "  </tbody>\n",
       "</table>\n",
       "<p>5 rows × 48 columns</p>\n",
       "</div>"
      ],
      "text/plain": [
       "   yearID lgID teamID franchID divID  Rank   G  Ghome   W   L     ...       \\\n",
       "0    1871  NaN    PH1      PNA   NaN     1  28    NaN  21   7     ...        \n",
       "1    1871  NaN    CH1      CNA   NaN     2  28    NaN  19   9     ...        \n",
       "2    1871  NaN    BS1      BNA   NaN     3  31    NaN  20  10     ...        \n",
       "3    1871  NaN    WS3      OLY   NaN     4  32    NaN  15  15     ...        \n",
       "4    1871  NaN    NY2      NNA   NaN     5  33    NaN  16  17     ...        \n",
       "\n",
       "   DP    FP                     name                      park  attendance  \\\n",
       "0 NaN  0.84   Philadelphia Athletics  Jefferson Street Grounds         NaN   \n",
       "1 NaN  0.82  Chicago White Stockings   Union Base-Ball Grounds         NaN   \n",
       "2 NaN  0.83     Boston Red Stockings       South End Grounds I         NaN   \n",
       "3 NaN  0.85      Washington Olympics          Olympics Grounds         NaN   \n",
       "4 NaN  0.83         New York Mutuals  Union Grounds (Brooklyn)         NaN   \n",
       "\n",
       "   BPF  PPF  teamIDBR  teamIDlahman45  teamIDretro  \n",
       "0  102   98       ATH             PH1          PH1  \n",
       "1  104  102       CHI             CH1          CH1  \n",
       "2  103   98       BOS             BS1          BS1  \n",
       "3   94   98       OLY             WS3          WS3  \n",
       "4   90   88       NYU             NY2          NY2  \n",
       "\n",
       "[5 rows x 48 columns]"
      ]
     },
     "execution_count": 41,
     "metadata": {},
     "output_type": "execute_result"
    }
   ],
   "source": [
    "t = pd.read_csv('Teams.csv')\n",
    "t.head()"
   ]
  },
  {
   "cell_type": "markdown",
   "metadata": {},
   "source": [
    "### Problem 1(b)\n",
    "\n",
    "Summarize the Salaries DataFrame to show the total salaries for each team for each year. Show the head of the new summarized DataFrame."
   ]
  },
  {
   "cell_type": "code",
   "execution_count": 39,
   "metadata": {
    "collapsed": false
   },
   "outputs": [
    {
     "data": {
      "text/html": [
       "<div>\n",
       "<table border=\"1\" class=\"dataframe\">\n",
       "  <thead>\n",
       "    <tr style=\"text-align: right;\">\n",
       "      <th></th>\n",
       "      <th></th>\n",
       "      <th>salary</th>\n",
       "    </tr>\n",
       "    <tr>\n",
       "      <th>teamID</th>\n",
       "      <th>yearID</th>\n",
       "      <th></th>\n",
       "    </tr>\n",
       "  </thead>\n",
       "  <tbody>\n",
       "    <tr>\n",
       "      <th rowspan=\"5\" valign=\"top\">ANA</th>\n",
       "      <th>1997</th>\n",
       "      <td>31135472</td>\n",
       "    </tr>\n",
       "    <tr>\n",
       "      <th>1998</th>\n",
       "      <td>41281000</td>\n",
       "    </tr>\n",
       "    <tr>\n",
       "      <th>1999</th>\n",
       "      <td>55388166</td>\n",
       "    </tr>\n",
       "    <tr>\n",
       "      <th>2000</th>\n",
       "      <td>51464167</td>\n",
       "    </tr>\n",
       "    <tr>\n",
       "      <th>2001</th>\n",
       "      <td>47535167</td>\n",
       "    </tr>\n",
       "  </tbody>\n",
       "</table>\n",
       "</div>"
      ],
      "text/plain": [
       "                 salary\n",
       "teamID yearID          \n",
       "ANA    1997    31135472\n",
       "       1998    41281000\n",
       "       1999    55388166\n",
       "       2000    51464167\n",
       "       2001    47535167"
      ]
     },
     "execution_count": 39,
     "metadata": {},
     "output_type": "execute_result"
    }
   ],
   "source": [
    "#Question 1b:\n",
    "summary = s.groupby(['teamID', 'yearID']).sum()\n",
    "summary.head()"
   ]
  },
  {
   "cell_type": "markdown",
   "metadata": {},
   "source": [
    "### Problem 1(c)\n",
    "Merge the new summarized Salaries DataFrame and Teams DataFrame together to create a new DataFrame showing wins and total salaries for each team for each year year. Show the head of the new merged DataFrame.\n",
    "\n",
    "Hint: Merge the DataFrames using teamID and yearID."
   ]
  },
  {
   "cell_type": "code",
   "execution_count": 67,
   "metadata": {
    "collapsed": false
   },
   "outputs": [
    {
     "data": {
      "text/html": [
       "<div>\n",
       "<table border=\"1\" class=\"dataframe\">\n",
       "  <thead>\n",
       "    <tr style=\"text-align: right;\">\n",
       "      <th></th>\n",
       "      <th></th>\n",
       "      <th>W</th>\n",
       "      <th>salary</th>\n",
       "    </tr>\n",
       "    <tr>\n",
       "      <th>teamID</th>\n",
       "      <th>yearID</th>\n",
       "      <th></th>\n",
       "      <th></th>\n",
       "    </tr>\n",
       "  </thead>\n",
       "  <tbody>\n",
       "    <tr>\n",
       "      <th rowspan=\"5\" valign=\"top\">ANA</th>\n",
       "      <th>1997</th>\n",
       "      <td>84</td>\n",
       "      <td>31135472</td>\n",
       "    </tr>\n",
       "    <tr>\n",
       "      <th>1998</th>\n",
       "      <td>85</td>\n",
       "      <td>41281000</td>\n",
       "    </tr>\n",
       "    <tr>\n",
       "      <th>1999</th>\n",
       "      <td>70</td>\n",
       "      <td>55388166</td>\n",
       "    </tr>\n",
       "    <tr>\n",
       "      <th>2000</th>\n",
       "      <td>82</td>\n",
       "      <td>51464167</td>\n",
       "    </tr>\n",
       "    <tr>\n",
       "      <th>2001</th>\n",
       "      <td>75</td>\n",
       "      <td>47535167</td>\n",
       "    </tr>\n",
       "  </tbody>\n",
       "</table>\n",
       "</div>"
      ],
      "text/plain": [
       "                W    salary\n",
       "teamID yearID              \n",
       "ANA    1997    84  31135472\n",
       "       1998    85  41281000\n",
       "       1999    70  55388166\n",
       "       2000    82  51464167\n",
       "       2001    75  47535167"
      ]
     },
     "execution_count": 67,
     "metadata": {},
     "output_type": "execute_result"
    }
   ],
   "source": [
    "#Question 1c:\n",
    "#The wins per team per year\n",
    "teams = t.loc[:,['yearID', 'teamID', 'W']]\n",
    "#The salary per player per year\n",
    "salaries = s.loc[:,['yearID', 'teamID', 'salary']]\n",
    "#Sum of the salary per team per year\n",
    "sumsalary = salaries.groupby(['teamID', 'yearID']).sum().reset_index()\n",
    "#Joining the teamwins and salary\n",
    "merge = pd.merge(teams, sumsalary, on=['yearID', 'teamID'], how='inner')\n",
    "#Grouping by teamID and showing statistics per year\n",
    "organized = join.groupby(['teamID', 'yearID']).sum()\n",
    "organized.head()"
   ]
  },
  {
   "cell_type": "markdown",
   "metadata": {},
   "source": [
    "### Problem 1(d)\n",
    "How would you graphically display the relationship between total wins and total salaries for a given year? What kind of plot would be best? Choose a plot to show this relationship and specifically annotate the Oakland baseball team on the on the plot. Show this plot across multiple years. In which years can you detect a competitive advantage from the Oakland baseball team of using data science? When did this end?\n",
    "\n",
    "Hints: Use a for loop to consider multiple years. Use the teamID (three letter representation of the team name) to save space on the plot."
   ]
  },
  {
   "cell_type": "code",
   "execution_count": 146,
   "metadata": {
    "collapsed": false
   },
   "outputs": [
    {
     "data": {
      "image/png": "[encoded data removed]",
      "text/plain": [
       "<matplotlib.figure.Figure at 0x1369ed68>"
      ]
     },
     "metadata": {},
     "output_type": "display_data"
    },
    {
     "data": {
      "image/png": "[encoded data removed]",
      "text/plain": [
       "<matplotlib.figure.Figure at 0x109f1b38>"
      ]
     },
     "metadata": {},
     "output_type": "display_data"
    },
    {
     "data": {
      "image/png": "[encoded data removed]",
      "text/plain": [
       "<matplotlib.figure.Figure at 0x10c22be0>"
      ]
     },
     "metadata": {},
     "output_type": "display_data"
    },
    {
     "data": {
      "image/png": "[encoded data removed]",
      "text/plain": [
       "<matplotlib.figure.Figure at 0x12ce0d30>"
      ]
     },
     "metadata": {},
     "output_type": "display_data"
    },
    {
     "data": {
      "text/plain": [
       "<matplotlib.figure.Figure at 0x1045f710>"
      ]
     },
     "metadata": {},
     "output_type": "display_data"
    }
   ],
   "source": [
    "#Question 1d:\n",
    "#Make the data usable for the plots\n",
    "data = organized.reset_index()\n",
    "#Get the data for a given year\n",
    "for year in range(1999,2003):\n",
    "    year_data = data[data.yearID==year]\n",
    "    win_data = year_data['W']\n",
    "    salary_data = year_data['salary']\n",
    "    team_data = year_data['teamID']\n",
    "    #Make a plot for the year\n",
    "    Xaxis = np.divide(salary_data.values, 1000000)\n",
    "    Yaxis = win_data.values\n",
    "    different_color = ['red' if team=='OAK' else 'black' for team in team_data.values]\n",
    "\n",
    "    plt.scatter(Xaxis,Yaxis, c=different_color, s=100, alpha=0.5, edgecolors='none')\n",
    "    plt.title(str(year) + ' wins against salary (oakland is red)')    \n",
    "    plt.xlabel('salary in millions')\n",
    "    plt.ylabel('number of wins')\n",
    "    plt.figure()\n",
    "\n",
    "\n",
    "plt.show()"
   ]
  },
  {
   "cell_type": "code",
   "execution_count": 122,
   "metadata": {
    "collapsed": false
   },
   "outputs": [
    {
     "data": {
      "image/png": "[encoded data removed]",
      "text/plain": [
       "<matplotlib.figure.Figure at 0x10c86b70>"
      ]
     },
     "metadata": {},
     "output_type": "display_data"
    }
   ],
   "source": [
    "#Question 1d:\n",
    "#Make the data usable for the plots\n",
    "data = organized.reset_index()\n",
    "#Get the data for a given year\n",
    "for year in range(1997,2014):\n",
    "    year_data = data[data.yearID==year]\n",
    "    for item in year_data.values:\n",
    "        team = item[0]\n",
    "        oak = year_data[year_data.teamID==team]\n",
    "        win_data = oak['W']\n",
    "        salary_data = oak['salary']\n",
    "        salary_per_win = np.divide(salary_data,win_data)\n",
    "        team_data = year_data['teamID']\n",
    "        Xaxis = year\n",
    "        Yaxis = salary_per_win\n",
    "        if team=='OAK':\n",
    "            plt.scatter(Xaxis,Yaxis, c='red', edgecolors='none')\n",
    "        else:\n",
    "            plt.scatter(Xaxis,Yaxis, c='black', edgecolors='none')\n",
    "\n",
    "plt.title('salary per win per year (Oakland is red)')    \n",
    "plt.xlabel('year')\n",
    "plt.ylabel('salary per win')\n",
    "plt.show()"
   ]
  },
  {
   "cell_type": "markdown",
   "metadata": {
    "slideshow": {
     "slide_type": "slide"
    }
   },
   "source": [
    "## N1\n",
    "\n",
    "* Vind voor elke naam het totaal aantal jongens en het totaal aantal meisjes met die naam (totalen dus genomen over alle jaren)\n",
    "* Dit is natuurlijk weer een pivot table\n",
    "* We willen ook de totalen erbij\n",
    "* Orden de namen omgekeerd op het aantal keer dat ze voorkomen\n",
    "\n",
    "Je tabel moet er zo uitzien:\n",
    "* kolommen: sex\tF\tM\tAll\n",
    "* Rijen: ALL, gevolgd door de namen, \n",
    "\n",
    "```\n",
    "sex\tF\tM\tAll\n",
    "name\t\t\t\n",
    "All\t159990140\t162412587\t322402727\n",
    "James\t23044\t5049727\t5072771\n",
    "John\t21578\t5040319\t5061897\n",
    "Robert\t20055\t4767995\t4788050\n",
    "Michael\t21470\t4243903\t4265373\n",
    "```\n"
   ]
  },
  {
   "cell_type": "markdown",
   "metadata": {
    "slideshow": {
     "slide_type": "slide"
    }
   },
   "source": [
    "# N2\n",
    "\n",
    "* Now we want to find the most gender ambiguous names.\n",
    "* How can we do that? An intuitive measure is to take the logarithm of the number of males divided by the number of females. \n",
    "    * If it is close to 0, the name is very ambiguous\n",
    "    * if it is negative, it is a more femalish name\n",
    "    * if it is positive it is a more malish name\n",
    "    * if we take logarithm with base 2, then a value of $+n$, for a name $N$, means that $N$ is used $2^n$ more often for males than for females. E.g., for $n=4$, this means 16 times. \n",
    "   \n",
    "### Your task\n",
    "* Add a column `ratio` to your just created dataframe in which you divide the male by the female totals\n",
    "* Using `np.log` and pandas `apply` method (and possibly $\\lambda$ abstraction), compute the log measure.\n",
    "* Print out the top 20 most ambiguous names. Take those names with a \"log-value\" between $-0.1$ and $0.1$ and sort them reversely on the total number of babies with that name.\n",
    "\n"
   ]
  },
  {
   "cell_type": "markdown",
   "metadata": {
    "slideshow": {
     "slide_type": "slide"
    }
   },
   "source": [
    "# N3\n",
    "\n",
    "* We now want a dataframe containing non-ambiguous names.\n",
    "* Do two things.\n",
    "\n",
    "1. Add a column `gender` to your dataframe in which you store the winning gender.\n",
    "2. Restrict the dataframe to those names which occur at least 10.000 times and are used at least 16 times more for one gender than for the other.\n",
    "    * How many names are left?\n",
    "    * How many males and how many females?\n",
    "3. Store this as a csv file.\n",
    "3. Suppose we classify all children with the names from this csv file according to the gender column. Clearly we make some mistakes then (that is, for example  a boy named Sue is classified as a girl). Calculate the expected maximum percentage of mistakes, and also calculated the actual percentage of mistakes.\n",
    "\n"
   ]
  },
  {
   "cell_type": "code",
   "execution_count": null,
   "metadata": {
    "collapsed": true
   },
   "outputs": [],
   "source": []
  }
 ],
 "metadata": {
  "celltoolbar": "Slideshow",
  "kernelspec": {
   "display_name": "Python 2",
   "language": "python",
   "name": "python2"
  },
  "language_info": {
   "codemirror_mode": {
    "name": "ipython",
    "version": 2
   },
   "file_extension": ".py",
   "mimetype": "text/x-python",
   "name": "python",
   "nbconvert_exporter": "python",
   "pygments_lexer": "ipython2",
   "version": "2.7.11"
  }
 },
 "nbformat": 4,
 "nbformat_minor": 0
}
