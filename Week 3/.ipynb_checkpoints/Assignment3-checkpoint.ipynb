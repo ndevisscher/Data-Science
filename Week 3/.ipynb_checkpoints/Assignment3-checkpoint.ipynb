{
 "cells": [
  {
   "cell_type": "markdown",
   "metadata": {
    "slideshow": {
     "slide_type": "slide"
    }
   },
   "source": [
    "#  Assignment 3\n",
    "\n",
    "## Notebook made by  \n",
    "\n",
    "|** Name** | **Student id** | **email**|\n",
    "|:- |:-|:-|\n",
    "|. | | |\n",
    "|  | |. |\n",
    "\n",
    "### Pledge (taken from [Coursera's Honor Code](https://www.coursera.org/about/terms/honorcode) )\n",
    "\n",
    "\n",
    "\n",
    "Put here a selfie with your photo where you hold a signed paper with the following text: (if this is team work, put two selfies here). The link must be to some place on the web, not to a local file. \n",
    "\n",
    "> My answers to homework, quizzes and exams will be my own work (except for assignments that explicitly permit collaboration).\n",
    "\n",
    ">I will not make solutions to homework, quizzes or exams available to anyone else. This includes both solutions written by me, as well as any official solutions provided by the course staff.\n",
    "\n",
    ">I will not engage in any other activities that will dishonestly improve my results or dishonestly improve/hurt the results of others.\n",
    "\n",
    "<img src='link to your selfie'/>\n",
    "\n",
    "### Note\n",
    "* **Assignments without the selfies or completely filled in information will not be graded and receive 0 points.**\n"
   ]
  },
  {
   "cell_type": "markdown",
   "metadata": {
    "slideshow": {
     "slide_type": "slide"
    }
   },
   "source": [
    "# Pandas assignment\n",
    "\n",
    "## [Part one](http://nbviewer.jupyter.org/url/maartenmarx.nl/teaching/ISatWork/Assignments/ASSIGNMENTS/baseball.ipynb)\n",
    "\n",
    "Copy and paste the exrcises from this file into this notebook, and put your answers behind each question.\n",
    "\n",
    "## Part two: American baby names\n",
    "\n",
    "We continue the analysis of American baby names started in <http://maartenmarx.nl/teaching/ISatWork/Slides/Week1_slides.ipynb#Chapter-2:-analyse-baby-names>\n",
    "\n",
    "You must copy some of the pandas commands from the slides to get started. Do that here too. "
   ]
  },
  {
   "cell_type": "code",
   "execution_count": 1,
   "metadata": {
    "collapsed": true
   },
   "outputs": [],
   "source": [
    "# special IPython command to prepare the notebook for matplotlib\n",
    "%matplotlib inline \n",
    "\n",
    "import numpy as np\n",
    "import pandas as pd\n",
    "import matplotlib.pyplot as plt"
   ]
  },
  {
   "cell_type": "markdown",
   "metadata": {},
   "source": [
    "### Problem 1\n",
    "In 2002 and 2003 Oakland A's, a team that used data science, had a competitive advantage. Since, others teams have started using data science as well. Use exploratory data analysis to determine if the competitive advantage has since disappeared.\n",
    "\n",
    "#### Problem 1(a)\n",
    "Load in these CSV files from the Sean Lahman's Baseball Database. For this assignment, we will use the 'Salaries.csv' and 'Teams.csv' tables. Read these tables into a pandas DataFrame and show the head of each table.\n",
    "\n",
    "Hint Use the requests, StringIO and zipfile modules to get from the web.\n",
    "\n",
    "Hint 2 A local copy is available in the Data folder of our course."
   ]
  },
  {
   "cell_type": "code",
   "execution_count": null,
   "metadata": {
    "collapsed": true
   },
   "outputs": [],
   "source": [
    "#Part 1:\n",
    "#Problem 1a:\n"
   ]
  },
  {
   "cell_type": "markdown",
   "metadata": {
    "slideshow": {
     "slide_type": "slide"
    }
   },
   "source": [
    "## N1\n",
    "\n",
    "* Vind voor elke naam het totaal aantal jongens en het totaal aantal meisjes met die naam (totalen dus genomen over alle jaren)\n",
    "* Dit is natuurlijk weer een pivot table\n",
    "* We willen ook de totalen erbij\n",
    "* Orden de namen omgekeerd op het aantal keer dat ze voorkomen\n",
    "\n",
    "Je tabel moet er zo uitzien:\n",
    "* kolommen: sex\tF\tM\tAll\n",
    "* Rijen: ALL, gevolgd door de namen, \n",
    "\n",
    "```\n",
    "sex\tF\tM\tAll\n",
    "name\t\t\t\n",
    "All\t159990140\t162412587\t322402727\n",
    "James\t23044\t5049727\t5072771\n",
    "John\t21578\t5040319\t5061897\n",
    "Robert\t20055\t4767995\t4788050\n",
    "Michael\t21470\t4243903\t4265373\n",
    "```\n"
   ]
  },
  {
   "cell_type": "markdown",
   "metadata": {
    "slideshow": {
     "slide_type": "slide"
    }
   },
   "source": [
    "# N2\n",
    "\n",
    "* Now we want to find the most gender ambiguous names.\n",
    "* How can we do that? An intuitive measure is to take the logarithm of the number of males divided by the number of females. \n",
    "    * If it is close to 0, the name is very ambiguous\n",
    "    * if it is negative, it is a more femalish name\n",
    "    * if it is positive it is a more malish name\n",
    "    * if we take logarithm with base 2, then a value of $+n$, for a name $N$, means that $N$ is used $2^n$ more often for males than for females. E.g., for $n=4$, this means 16 times. \n",
    "   \n",
    "### Your task\n",
    "* Add a column `ratio` to your just created dataframe in which you divide the male by the female totals\n",
    "* Using `np.log` and pandas `apply` method (and possibly $\\lambda$ abstraction), compute the log measure.\n",
    "* Print out the top 20 most ambiguous names. Take those names with a \"log-value\" between $-0.1$ and $0.1$ and sort them reversely on the total number of babies with that name.\n",
    "\n"
   ]
  },
  {
   "cell_type": "markdown",
   "metadata": {
    "slideshow": {
     "slide_type": "slide"
    }
   },
   "source": [
    "# N3\n",
    "\n",
    "* We now want a dataframe containing non-ambiguous names.\n",
    "* Do two things.\n",
    "\n",
    "1. Add a column `gender` to your dataframe in which you store the winning gender.\n",
    "2. Restrict the dataframe to those names which occur at least 10.000 times and are used at least 16 times more for one gender than for the other.\n",
    "    * How many names are left?\n",
    "    * How many males and how many females?\n",
    "3. Store this as a csv file.\n",
    "3. Suppose we classify all children with the names from this csv file according to the gender column. Clearly we make some mistakes then (that is, for example  a boy named Sue is classified as a girl). Calculate the expected maximum percentage of mistakes, and also calculated the actual percentage of mistakes.\n",
    "\n"
   ]
  },
  {
   "cell_type": "code",
   "execution_count": null,
   "metadata": {
    "collapsed": true
   },
   "outputs": [],
   "source": []
  }
 ],
 "metadata": {
  "celltoolbar": "Slideshow",
  "kernelspec": {
   "display_name": "Python 2",
   "language": "python",
   "name": "python2"
  },
  "language_info": {
   "codemirror_mode": {
    "name": "ipython",
    "version": 2
   },
   "file_extension": ".py",
   "mimetype": "text/x-python",
   "name": "python",
   "nbconvert_exporter": "python",
   "pygments_lexer": "ipython2",
   "version": "2.7.11"
  }
 },
 "nbformat": 4,
 "nbformat_minor": 0
}
