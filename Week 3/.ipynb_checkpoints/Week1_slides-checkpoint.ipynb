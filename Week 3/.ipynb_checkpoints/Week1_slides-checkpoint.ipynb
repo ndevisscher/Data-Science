{
 "cells": [
  {
   "cell_type": "markdown",
   "metadata": {
    "slideshow": {
     "slide_type": "slide"
    }
   },
   "source": [
    "# Introduction Data Science\n",
    "\n",
    "* **literature**: Wes McKenney: Python for Data Analysis Chapter 2\n",
    "    * In the literature folder\n",
    "* Accompanying notebook: <https://github.com/pydata/pydata-book> (also locally in our Notebook folder)"
   ]
  },
  {
   "cell_type": "markdown",
   "metadata": {
    "slideshow": {
     "slide_type": "slide"
    }
   },
   "source": [
    "## Data Science \"steps\"\n",
    "\n",
    "* “Interacting with the outside world\n",
    "    * Reading and writing with a variety of file formats and databases.\n",
    "* Preparation\n",
    "    * Cleaning, munging, combining, normalizing, reshaping, slicing and dicing, and transforming data for analysis.\n",
    "* Transformation\n",
    "    * Applying mathematical and statistical operations to groups of data sets to derive new data sets. \n",
    "    * For example, aggregating a large table by group variables.\n",
    "* Modeling and computation\n",
    "    * Connecting your data to statistical models, machine learning algorithms, or other computational tools\n",
    "* Presentation\n",
    "    * Creating interactive or static graphical visualizations or textual summaries”\n",
    "\n",
    "Excerpt From: Wes McKinney. “Python for Data Analysis.”\n",
    "\n",
    "### Python\n",
    "* Python is great for data science, as it let you do all these steps inside one programming framework.\n",
    "* Using notebooks, you can in fact do all these steps inside one notebook for a small project. "
   ]
  },
  {
   "cell_type": "code",
   "execution_count": 35,
   "metadata": {
    "collapsed": false
   },
   "outputs": [
    {
     "name": "stdout",
     "output_type": "stream",
     "text": [
      "total 20040\r\n",
      "-rw-r--r--@ 1 admin  staff  5583511 Mar 11  2015 LDA_Topic_Modeling.pdf\r\n",
      "-rw-r--r--  1 admin  staff   346107 Mar 13  2015 SimilarityMeasures.slides.html\r\n",
      "-rw-r--r--  1 admin  staff    60424 Feb  4 15:53 Week1_slides.ipynb\r\n",
      "-rw-r--r--  1 admin  staff     7669 Feb  2 16:36 Week2-slides.ipynb\r\n",
      "-rw-r--r--  1 admin  staff     3208 Feb  1 12:54 WorkingWithBigFiles.ipynb\r\n",
      "-rw-r--r--  1 admin  staff     2063 Jan 28 11:52 femalejohns.csv\r\n",
      "-rw-r--r--  1 admin  staff   197665 Feb 13  2015 lecture_notes_week_3.slides.html\r\n",
      "-rw-r--r--  1 admin  staff  3841532 Feb  4 17:12 razorback.mp3\r\n",
      "-rw-r--r--  1 admin  staff   203149 Feb  2 09:58 week2-slides.slides.html\r\n"
     ]
    },
    {
     "data": {
      "text/plain": [
       "'razorback.mp3'"
      ]
     },
     "execution_count": 35,
     "metadata": {},
     "output_type": "execute_result"
    }
   ],
   "source": [
    "import wget\n",
    "url = 'http://www.futurecrew.com/skaven/song_files/mp3/razorback.mp3'\n",
    "filename = wget.download(url)\n",
    "!ls -l \n",
    "filename\n",
    "'razorback.mp3'"
   ]
  },
  {
   "cell_type": "code",
   "execution_count": 36,
   "metadata": {
    "collapsed": false
   },
   "outputs": [],
   "source": [
    "wget.download?"
   ]
  },
  {
   "cell_type": "markdown",
   "metadata": {
    "slideshow": {
     "slide_type": "slide"
    }
   },
   "source": [
    "# 3 examples\n",
    "\n",
    "* We go through 3 examples from Chapter 2, highlighting what can be done in pandas.\n",
    "\n",
    "### Examples\n",
    "\n",
    "1. usa.gov data\n",
    "    * reading JSON format\n",
    "    * data cleaning\n",
    "    * \"Who looks at .gov sites?\" : counting time zones\n",
    "3. Movielens\n",
    "    * SQL join\n",
    "    * pivot tables\n",
    "2. Baby names\n",
    "    * concatenating data files\n",
    "    * more pivots"
   ]
  },
  {
   "cell_type": "markdown",
   "metadata": {
    "slideshow": {
     "slide_type": "slide"
    }
   },
   "source": [
    "# usa.gov data\n",
    "\n",
    "* More information: <https://github.com/usagov/1.USA.gov-Data>\n",
    "* Follow the code in the notebook\n",
    "\n",
    "## Schema (i.e. json data dictionary):\n",
    "```\n",
    "{\n",
    "        \"a\": USER_AGENT, \n",
    "        \"c\": COUNTRY_CODE, # 2-character iso code\n",
    "        \"nk\": KNOWN_USER,  # 1 or 0\\. 0=this is the first time we've seen this browser\n",
    "        \"g\": GLOBAL_BITLY_HASH, \n",
    "        \"h\": ENCODING_USER_BITLY_HASH,\n",
    "        \"l\": ENCODING_USER_LOGIN,\n",
    "        \"hh\": SHORT_URL_CNAME,\n",
    "        \"r\": REFERRING_URL,\n",
    "        \"u\": LONG_URL,\n",
    "        \"t\": TIMESTAMP,\n",
    "        \"gr\": GEO_REGION,\n",
    "        \"ll\": [LATITUDE, LONGITUDE],\n",
    "        \"cy\": GEO_CITY_NAME,\n",
    "        \"tz\": TIMEZONE # in http://en.wikipedia.org/wiki/Zoneinfo format\n",
    "        \"hc\": TIMESTAMP OF TIME HASH WAS CREATED, \n",
    "        \"al\": ACCEPT_LANGUAGE http://www.w3.org/Protocols/rfc2616/rfc2616-sec14.html#sec14.4 \n",
    "    }\n",
    "```"
   ]
  },
  {
   "cell_type": "code",
   "execution_count": 9,
   "metadata": {
    "collapsed": true,
    "slideshow": {
     "slide_type": "slide"
    }
   },
   "outputs": [],
   "source": [
    "import json\n",
    "path = '/Users/admin/Documents/work/onderwijs/teaching/ISatWork/NoteBooks/pydata-book/ch02/usagov_bitly_data2012-03-16-1331923249.txt'\n",
    "records = [json.loads(line) for line in open(path)]  # list comprehension!"
   ]
  },
  {
   "cell_type": "markdown",
   "metadata": {
    "slideshow": {
     "slide_type": "slide"
    }
   },
   "source": [
    "# Exercise\n",
    "\n",
    "```\n",
    "records = [json.loads(line) for line in open(path)]  # list comprehension!\n",
    "```\n",
    "\n",
    "1. What kind of object is `records`?\n",
    "    * Describe it as clearly as possible\n",
    "2. Give code for the following:\n",
    "    1. How many records are there?\n",
    "    2. Make a list of  the  different cities are mentioned in the data?\n",
    "        1. How often is each city mentioned (histogram)?\n",
    "    3. Remove all fields in the records except \"c\" and \"tz\", and rename these to `COUNTRY_CODE` and `TIMEZONE`."
   ]
  },
  {
   "cell_type": "markdown",
   "metadata": {
    "slideshow": {
     "slide_type": "slide"
    }
   },
   "source": [
    "# Answers"
   ]
  },
  {
   "cell_type": "code",
   "execution_count": 10,
   "metadata": {
    "collapsed": false,
    "slideshow": {
     "slide_type": "slide"
    }
   },
   "outputs": [
    {
     "name": "stdout",
     "output_type": "stream",
     "text": [
      "3560\n"
     ]
    }
   ],
   "source": [
    "print len(records)"
   ]
  },
  {
   "cell_type": "code",
   "execution_count": 16,
   "metadata": {
    "collapsed": false,
    "slideshow": {
     "slide_type": "slide"
    }
   },
   "outputs": [
    {
     "data": {
      "text/plain": [
       "u'Danvers'"
      ]
     },
     "execution_count": 16,
     "metadata": {},
     "output_type": "execute_result"
    }
   ],
   "source": [
    "# The first item in records: He' this looks like a row in a spreadsheet!\n",
    "a= records[0]\n",
    "a['cy']"
   ]
  },
  {
   "cell_type": "code",
   "execution_count": 17,
   "metadata": {
    "collapsed": false,
    "slideshow": {
     "slide_type": "slide"
    }
   },
   "outputs": [
    {
     "data": {
      "text/plain": [
       "([u'Danvers', u'Provo', u'Washington'], 2919, 1014)"
      ]
     },
     "execution_count": 17,
     "metadata": {},
     "output_type": "execute_result"
    }
   ],
   "source": [
    "cities= [r['cy'] for r in records if 'cy' in r] # note the test whether the field exists. This is JSON= semi structured data\n",
    "#test\n",
    "cities[:3], len(cities), len(set(cities))"
   ]
  },
  {
   "cell_type": "code",
   "execution_count": 18,
   "metadata": {
    "collapsed": false,
    "slideshow": {
     "slide_type": "slide"
    }
   },
   "outputs": [
    {
     "data": {
      "text/plain": [
       "[(u'Provo', 121),\n",
       " (u'White Plains', 104),\n",
       " (u'Washington', 98),\n",
       " (u'Palo Alto', 68),\n",
       " (u'Shrewsbury', 46),\n",
       " (u'Acworth', 38),\n",
       " (u'Dallas', 33),\n",
       " (u'Paramus', 32),\n",
       " (u'Nogata', 29),\n",
       " (u'Los Angeles', 28)]"
      ]
     },
     "execution_count": 18,
     "metadata": {},
     "output_type": "execute_result"
    }
   ],
   "source": [
    "from collections import Counter\n",
    "\n",
    "cities= Counter(cities)\n",
    "cities.most_common(10)"
   ]
  },
  {
   "cell_type": "code",
   "execution_count": 19,
   "metadata": {
    "collapsed": false,
    "slideshow": {
     "slide_type": "slide"
    }
   },
   "outputs": [
    {
     "data": {
      "text/html": [
       "<div>\n",
       "<table border=\"1\" class=\"dataframe\">\n",
       "  <thead>\n",
       "    <tr style=\"text-align: right;\">\n",
       "      <th></th>\n",
       "      <th>aantal</th>\n",
       "    </tr>\n",
       "  </thead>\n",
       "  <tbody>\n",
       "    <tr>\n",
       "      <th>Provo</th>\n",
       "      <td>121</td>\n",
       "    </tr>\n",
       "    <tr>\n",
       "      <th>White Plains</th>\n",
       "      <td>104</td>\n",
       "    </tr>\n",
       "    <tr>\n",
       "      <th>Washington</th>\n",
       "      <td>98</td>\n",
       "    </tr>\n",
       "    <tr>\n",
       "      <th>Palo Alto</th>\n",
       "      <td>68</td>\n",
       "    </tr>\n",
       "    <tr>\n",
       "      <th>Shrewsbury</th>\n",
       "      <td>46</td>\n",
       "    </tr>\n",
       "  </tbody>\n",
       "</table>\n",
       "</div>"
      ],
      "text/plain": [
       "              aantal\n",
       "Provo            121\n",
       "White Plains     104\n",
       "Washington        98\n",
       "Palo Alto         68\n",
       "Shrewsbury        46"
      ]
     },
     "execution_count": 19,
     "metadata": {},
     "output_type": "execute_result"
    }
   ],
   "source": [
    "import pandas as pd\n",
    "%matplotlib inline\n",
    "\n",
    "cit= pd.DataFrame.from_dict(cities, orient='index')  # maak er een spreadsheet van\n",
    "cit.columns=['aantal']  # geef de kolom een naam\n",
    "cit.sort_values('aantal',ascending=False, inplace=True)  # sorteer\n",
    "cit.head() # laat de top van het spreadsheet zien"
   ]
  },
  {
   "cell_type": "code",
   "execution_count": 20,
   "metadata": {
    "collapsed": false,
    "slideshow": {
     "slide_type": "slide"
    }
   },
   "outputs": [
    {
     "data": {
      "image/png": "[encoded data removed]",
      "text/plain": [
       "<matplotlib.figure.Figure at 0x106b7fbd0>"
      ]
     },
     "metadata": {},
     "output_type": "display_data"
    }
   ],
   "source": [
    "cit.head(10).plot(kind='barh');"
   ]
  },
  {
   "cell_type": "code",
   "execution_count": null,
   "metadata": {
    "collapsed": false,
    "slideshow": {
     "slide_type": "slide"
    }
   },
   "outputs": [],
   "source": [
    "# Remove all fields in the records except \"c\" and \"tz\", and rename these to COUNTRY_CODE and TIMEZONE.\n",
    "short_records= [ {'COUNTRY_CODE': r['c'], 'TIMEZONE': r['tz']} for r in records if 'tz' in r and 'c' in r]\n",
    "short_records[:4]"
   ]
  },
  {
   "cell_type": "markdown",
   "metadata": {
    "collapsed": true,
    "slideshow": {
     "slide_type": "slide"
    }
   },
   "source": [
    "# Exercise\n",
    "\n",
    "* From the book. \n",
    "* The book has several solutions.\n",
    "* Count how often each time zone occurs in the data."
   ]
  },
  {
   "cell_type": "code",
   "execution_count": null,
   "metadata": {
    "collapsed": false,
    "slideshow": {
     "slide_type": "slide"
    }
   },
   "outputs": [],
   "source": [
    "time_zones= Counter([r['tz'] for r in records if 'tz' in r])\n",
    "time_zones.most_common(10)"
   ]
  },
  {
   "cell_type": "markdown",
   "metadata": {
    "slideshow": {
     "slide_type": "slide"
    }
   },
   "source": [
    "# Same question solved in pandas"
   ]
  },
  {
   "cell_type": "code",
   "execution_count": null,
   "metadata": {
    "collapsed": false,
    "slideshow": {
     "slide_type": "slide"
    }
   },
   "outputs": [],
   "source": [
    "%matplotlib inline\n",
    "import pandas as pd\n",
    "\n",
    "# load the records as a dataframe, and show the first 10 \"lines\"\n",
    "frame = pd.DataFrame(records)\n",
    "frame.head()"
   ]
  },
  {
   "cell_type": "code",
   "execution_count": null,
   "metadata": {
    "collapsed": false,
    "slideshow": {
     "slide_type": "slide"
    }
   },
   "outputs": [],
   "source": [
    "tz_counts = frame.tz.value_counts()\n",
    "tz_counts[:10]"
   ]
  },
  {
   "cell_type": "code",
   "execution_count": null,
   "metadata": {
    "collapsed": false,
    "slideshow": {
     "slide_type": "slide"
    }
   },
   "outputs": [],
   "source": [
    "tz_counts[:10].plot(kind='bar'); # or try barh"
   ]
  },
  {
   "cell_type": "markdown",
   "metadata": {
    "slideshow": {
     "slide_type": "slide"
    }
   },
   "source": [
    " # Almost the same exercise....\n",
    " \n",
    " * Make the same histogram, but now for the browsers used in the data.\n",
    " \n",
    " ### steps\n",
    " 1. Inspect the data\n",
    " 2. Clean it up, using Python's string manipulation.\n",
    " 3. remove missing values\n",
    " 4. turm into a dataframe (now actually series) pandas object and act as before"
   ]
  },
  {
   "cell_type": "code",
   "execution_count": null,
   "metadata": {
    "collapsed": false,
    "slideshow": {
     "slide_type": "slide"
    }
   },
   "outputs": [],
   "source": [
    "# Ispect the data\n",
    "frame.a.head()\n",
    " "
   ]
  },
  {
   "cell_type": "markdown",
   "metadata": {
    "slideshow": {
     "slide_type": "slide"
    }
   },
   "source": [
    "# Remove missing values\n"
   ]
  },
  {
   "cell_type": "code",
   "execution_count": null,
   "metadata": {
    "collapsed": false,
    "slideshow": {
     "slide_type": "fragment"
    }
   },
   "outputs": [],
   "source": [
    "len(frame.a), len(frame.a.dropna()), len(frame.a)"
   ]
  },
  {
   "cell_type": "markdown",
   "metadata": {
    "collapsed": true,
    "slideshow": {
     "slide_type": "slide"
    }
   },
   "source": [
    "# Only keep the operating system\n",
    "* Python can split strings easily! "
   ]
  },
  {
   "cell_type": "code",
   "execution_count": null,
   "metadata": {
    "collapsed": false,
    "slideshow": {
     "slide_type": "fragment"
    }
   },
   "outputs": [],
   "source": [
    "opssys= [r.split()[0] for r in frame.a.dropna() ]\n",
    "opssys[:5]"
   ]
  },
  {
   "cell_type": "markdown",
   "metadata": {
    "slideshow": {
     "slide_type": "slide"
    }
   },
   "source": [
    "# Back to pandas"
   ]
  },
  {
   "cell_type": "code",
   "execution_count": null,
   "metadata": {
    "collapsed": false,
    "slideshow": {
     "slide_type": "fragment"
    }
   },
   "outputs": [],
   "source": [
    "opssys_series = pd.Series(opssys)\n",
    "opssys_series.value_counts()[:10] # .plot(type='barh')"
   ]
  },
  {
   "cell_type": "markdown",
   "metadata": {
    "slideshow": {
     "slide_type": "slide"
    }
   },
   "source": [
    "# Movielens data\n",
    "\n",
    "1. Merging/joining/fusing csv files\n",
    "2. Favorite movies grouped by gender"
   ]
  },
  {
   "cell_type": "markdown",
   "metadata": {
    "slideshow": {
     "slide_type": "slide"
    }
   },
   "source": [
    "# Step 1\n",
    "\n",
    "* inspect your data files using command line tools"
   ]
  },
  {
   "cell_type": "code",
   "execution_count": 21,
   "metadata": {
    "collapsed": false,
    "slideshow": {
     "slide_type": "slide"
    }
   },
   "outputs": [
    {
     "name": "stdout",
     "output_type": "stream",
     "text": [
      "total 196136\r\n",
      "-rw-r--r--  1 admin  staff   5.1K Jan 14  2015 README\r\n",
      "-rw-r--r--  1 admin  staff    72M Feb  1 20:22 mergeddata.csv\r\n",
      "-rw-r--r--  1 admin  staff   167K Jan 14  2015 movies.dat\r\n",
      "-rw-r--r--  1 admin  staff    23M Jan 14  2015 ratings.dat\r\n",
      "-rw-r--r--  1 admin  staff   131K Jan 14  2015 users.dat\r\n"
     ]
    }
   ],
   "source": [
    "# How big?   \n",
    "# only works for mac and linux\n",
    "!ls -lh ../NoteBooks/pydata-book/ch02/movielens/"
   ]
  },
  {
   "cell_type": "code",
   "execution_count": 22,
   "metadata": {
    "collapsed": false,
    "slideshow": {
     "slide_type": "fragment"
    }
   },
   "outputs": [
    {
     "name": "stdout",
     "output_type": "stream",
     "text": [
      "total 196136\n",
      "-rw-r--r--  1 admin  staff   5.1K Jan 14  2015 README\n",
      "-rw-r--r--  1 admin  staff    72M Feb  1 20:22 mergeddata.csv\n",
      "-rw-r--r--  1 admin  staff   167K Jan 14  2015 movies.dat\n",
      "-rw-r--r--  1 admin  staff    23M Jan 14  2015 ratings.dat\n",
      "-rw-r--r--  1 admin  staff   131K Jan 14  2015 users.dat\n"
     ]
    }
   ],
   "source": [
    "# also works for windows. \n",
    "# Can you spot the difference?\n",
    "# only works for mac and linux\n",
    "%ls -lh ../NoteBooks/pydata-book/ch02/movielens/"
   ]
  },
  {
   "cell_type": "code",
   "execution_count": 23,
   "metadata": {
    "collapsed": false,
    "slideshow": {
     "slide_type": "slide"
    }
   },
   "outputs": [
    {
     "name": "stdout",
     "output_type": "stream",
     "text": [
      "    3883 ../NoteBooks/pydata-book/ch02/movielens/movies.dat\n",
      " 1000209 ../NoteBooks/pydata-book/ch02/movielens/ratings.dat\n",
      "    6040 ../NoteBooks/pydata-book/ch02/movielens/users.dat\n",
      " 1010132 total\n"
     ]
    }
   ],
   "source": [
    "# How many lines?\n",
    "!wc -l ../NoteBooks/pydata-book/ch02/movielens/*.dat"
   ]
  },
  {
   "cell_type": "code",
   "execution_count": 24,
   "metadata": {
    "collapsed": false,
    "slideshow": {
     "slide_type": "slide"
    }
   },
   "outputs": [
    {
     "name": "stdout",
     "output_type": "stream",
     "text": [
      "==> ../NoteBooks/pydata-book/ch02/movielens/movies.dat <==\r\n",
      "1::Toy Story (1995)::Animation|Children's|Comedy\r\n",
      "2::Jumanji (1995)::Adventure|Children's|Fantasy\r\n",
      "3::Grumpier Old Men (1995)::Comedy|Romance\r\n",
      "4::Waiting to Exhale (1995)::Comedy|Drama\r\n",
      "5::Father of the Bride Part II (1995)::Comedy\r\n",
      "\r\n",
      "==> ../NoteBooks/pydata-book/ch02/movielens/ratings.dat <==\r\n",
      "1::1193::5::978300760\r\n",
      "1::661::3::978302109\r\n",
      "1::914::3::978301968\r\n",
      "1::3408::4::978300275\r\n",
      "1::2355::5::978824291\r\n",
      "\r\n",
      "==> ../NoteBooks/pydata-book/ch02/movielens/users.dat <==\r\n",
      "1::F::1::10::48067\r\n",
      "2::M::56::16::70072\r\n",
      "3::M::25::15::55117\r\n",
      "4::M::45::7::02460\r\n",
      "5::M::25::20::55455\r\n"
     ]
    }
   ],
   "source": [
    "# Show the top 5 lines \n",
    "\n",
    "!head -5 ../NoteBooks/pydata-book/ch02/movielens/*.dat"
   ]
  },
  {
   "cell_type": "markdown",
   "metadata": {
    "slideshow": {
     "slide_type": "slide"
    }
   },
   "source": [
    "# Step 2\n",
    "\n",
    "* Understand technical format\n",
    "    * csv files separated by '::' in `latin1` encoding\n",
    "* Understand semantics\n",
    "    * What do the values in the columns mean?\n",
    "    * Here hard, as there are no headers.\n",
    "    \n",
    "## Then import into pandas\n",
    "* use `pd.read_csv`"
   ]
  },
  {
   "cell_type": "code",
   "execution_count": 25,
   "metadata": {
    "collapsed": false,
    "slideshow": {
     "slide_type": "slide"
    }
   },
   "outputs": [
    {
     "name": "stderr",
     "output_type": "stream",
     "text": [
      "/Users/admin/anaconda/lib/python2.7/site-packages/ipykernel/__main__.py:14: ParserWarning: Falling back to the 'python' engine because the 'c' engine does not support regex separators; you can avoid this warning by specifying engine='python'.\n",
      "/Users/admin/anaconda/lib/python2.7/site-packages/ipykernel/__main__.py:15: ParserWarning: Falling back to the 'python' engine because the 'c' engine does not support regex separators; you can avoid this warning by specifying engine='python'.\n"
     ]
    }
   ],
   "source": [
    "import os\n",
    "# import pandas as pd\n",
    "encoding = 'latin1'\n",
    "\n",
    " \n",
    "upath = os.path.expanduser('../NoteBooks/pydata-book/ch02/movielens/users.dat')\n",
    "rpath = os.path.expanduser('../NoteBooks/pydata-book/ch02/movielens/ratings.dat')\n",
    "mpath = os.path.expanduser('../NoteBooks/pydata-book/ch02/movielens/movies.dat')\n",
    "\n",
    "unames = ['user_id', 'gender', 'age', 'occupation', 'zip']\n",
    "rnames = ['user_id', 'movie_id', 'rating', 'timestamp']\n",
    "mnames = ['movie_id', 'title', 'genres']\n",
    "\n",
    "users = pd.read_csv(upath, sep='::', header=None, names=unames, encoding=encoding)\n",
    "ratings = pd.read_csv(rpath, sep='::', header=None, names=rnames, encoding=encoding)\n",
    "movies = pd.read_csv(mpath, sep='::', header=None, names=mnames, encoding=encoding, engine='python')"
   ]
  },
  {
   "cell_type": "markdown",
   "metadata": {
    "slideshow": {
     "slide_type": "slide"
    }
   },
   "source": [
    "# Inspect your data"
   ]
  },
  {
   "cell_type": "code",
   "execution_count": 26,
   "metadata": {
    "collapsed": false,
    "slideshow": {
     "slide_type": "slide"
    }
   },
   "outputs": [
    {
     "data": {
      "text/html": [
       "<div>\n",
       "<table border=\"1\" class=\"dataframe\">\n",
       "  <thead>\n",
       "    <tr style=\"text-align: right;\">\n",
       "      <th></th>\n",
       "      <th>user_id</th>\n",
       "      <th>gender</th>\n",
       "      <th>age</th>\n",
       "      <th>occupation</th>\n",
       "      <th>zip</th>\n",
       "    </tr>\n",
       "  </thead>\n",
       "  <tbody>\n",
       "    <tr>\n",
       "      <th>0</th>\n",
       "      <td>1</td>\n",
       "      <td>F</td>\n",
       "      <td>1</td>\n",
       "      <td>10</td>\n",
       "      <td>48067</td>\n",
       "    </tr>\n",
       "    <tr>\n",
       "      <th>1</th>\n",
       "      <td>2</td>\n",
       "      <td>M</td>\n",
       "      <td>56</td>\n",
       "      <td>16</td>\n",
       "      <td>70072</td>\n",
       "    </tr>\n",
       "    <tr>\n",
       "      <th>2</th>\n",
       "      <td>3</td>\n",
       "      <td>M</td>\n",
       "      <td>25</td>\n",
       "      <td>15</td>\n",
       "      <td>55117</td>\n",
       "    </tr>\n",
       "    <tr>\n",
       "      <th>3</th>\n",
       "      <td>4</td>\n",
       "      <td>M</td>\n",
       "      <td>45</td>\n",
       "      <td>7</td>\n",
       "      <td>02460</td>\n",
       "    </tr>\n",
       "    <tr>\n",
       "      <th>4</th>\n",
       "      <td>5</td>\n",
       "      <td>M</td>\n",
       "      <td>25</td>\n",
       "      <td>20</td>\n",
       "      <td>55455</td>\n",
       "    </tr>\n",
       "  </tbody>\n",
       "</table>\n",
       "</div>"
      ],
      "text/plain": [
       "   user_id gender  age  occupation    zip\n",
       "0        1      F    1          10  48067\n",
       "1        2      M   56          16  70072\n",
       "2        3      M   25          15  55117\n",
       "3        4      M   45           7  02460\n",
       "4        5      M   25          20  55455"
      ]
     },
     "execution_count": 26,
     "metadata": {},
     "output_type": "execute_result"
    }
   ],
   "source": [
    "users.head()"
   ]
  },
  {
   "cell_type": "code",
   "execution_count": 27,
   "metadata": {
    "collapsed": false,
    "slideshow": {
     "slide_type": "slide"
    }
   },
   "outputs": [
    {
     "data": {
      "text/html": [
       "<div>\n",
       "<table border=\"1\" class=\"dataframe\">\n",
       "  <thead>\n",
       "    <tr style=\"text-align: right;\">\n",
       "      <th></th>\n",
       "      <th>user_id</th>\n",
       "      <th>movie_id</th>\n",
       "      <th>rating</th>\n",
       "      <th>timestamp</th>\n",
       "    </tr>\n",
       "  </thead>\n",
       "  <tbody>\n",
       "    <tr>\n",
       "      <th>count</th>\n",
       "      <td>1000209.000000</td>\n",
       "      <td>1000209.000000</td>\n",
       "      <td>1000209.000000</td>\n",
       "      <td>1.000209e+06</td>\n",
       "    </tr>\n",
       "    <tr>\n",
       "      <th>mean</th>\n",
       "      <td>3024.512348</td>\n",
       "      <td>1865.539898</td>\n",
       "      <td>3.581564</td>\n",
       "      <td>9.722437e+08</td>\n",
       "    </tr>\n",
       "    <tr>\n",
       "      <th>std</th>\n",
       "      <td>1728.412695</td>\n",
       "      <td>1096.040689</td>\n",
       "      <td>1.117102</td>\n",
       "      <td>1.215256e+07</td>\n",
       "    </tr>\n",
       "    <tr>\n",
       "      <th>min</th>\n",
       "      <td>1.000000</td>\n",
       "      <td>1.000000</td>\n",
       "      <td>1.000000</td>\n",
       "      <td>9.567039e+08</td>\n",
       "    </tr>\n",
       "    <tr>\n",
       "      <th>25%</th>\n",
       "      <td>1506.000000</td>\n",
       "      <td>1030.000000</td>\n",
       "      <td>3.000000</td>\n",
       "      <td>9.653026e+08</td>\n",
       "    </tr>\n",
       "    <tr>\n",
       "      <th>50%</th>\n",
       "      <td>3070.000000</td>\n",
       "      <td>1835.000000</td>\n",
       "      <td>4.000000</td>\n",
       "      <td>9.730180e+08</td>\n",
       "    </tr>\n",
       "    <tr>\n",
       "      <th>75%</th>\n",
       "      <td>4476.000000</td>\n",
       "      <td>2770.000000</td>\n",
       "      <td>4.000000</td>\n",
       "      <td>9.752209e+08</td>\n",
       "    </tr>\n",
       "    <tr>\n",
       "      <th>max</th>\n",
       "      <td>6040.000000</td>\n",
       "      <td>3952.000000</td>\n",
       "      <td>5.000000</td>\n",
       "      <td>1.046455e+09</td>\n",
       "    </tr>\n",
       "  </tbody>\n",
       "</table>\n",
       "</div>"
      ],
      "text/plain": [
       "              user_id        movie_id          rating     timestamp\n",
       "count  1000209.000000  1000209.000000  1000209.000000  1.000209e+06\n",
       "mean      3024.512348     1865.539898        3.581564  9.722437e+08\n",
       "std       1728.412695     1096.040689        1.117102  1.215256e+07\n",
       "min          1.000000        1.000000        1.000000  9.567039e+08\n",
       "25%       1506.000000     1030.000000        3.000000  9.653026e+08\n",
       "50%       3070.000000     1835.000000        4.000000  9.730180e+08\n",
       "75%       4476.000000     2770.000000        4.000000  9.752209e+08\n",
       "max       6040.000000     3952.000000        5.000000  1.046455e+09"
      ]
     },
     "execution_count": 27,
     "metadata": {},
     "output_type": "execute_result"
    }
   ],
   "source": [
    "ratings.describe()"
   ]
  },
  {
   "cell_type": "markdown",
   "metadata": {
    "slideshow": {
     "slide_type": "slide"
    }
   },
   "source": [
    "# Now merge\n",
    "\n",
    "* `pd.merge?`\n",
    "    * Do a join on the shared column names\n",
    "* Default is SQL's inner join:\n",
    "    * use intersection of join-values from both frames (SQL: inner join) \n"
   ]
  },
  {
   "cell_type": "code",
   "execution_count": 28,
   "metadata": {
    "collapsed": false,
    "slideshow": {
     "slide_type": "fragment"
    }
   },
   "outputs": [
    {
     "data": {
      "text/html": [
       "<div>\n",
       "<table border=\"1\" class=\"dataframe\">\n",
       "  <thead>\n",
       "    <tr style=\"text-align: right;\">\n",
       "      <th></th>\n",
       "      <th>movie_id</th>\n",
       "      <th>title</th>\n",
       "      <th>genres</th>\n",
       "      <th>user_id</th>\n",
       "      <th>rating</th>\n",
       "      <th>timestamp</th>\n",
       "    </tr>\n",
       "  </thead>\n",
       "  <tbody>\n",
       "    <tr>\n",
       "      <th>0</th>\n",
       "      <td>1</td>\n",
       "      <td>Toy Story (1995)</td>\n",
       "      <td>Animation|Children's|Comedy</td>\n",
       "      <td>1</td>\n",
       "      <td>5</td>\n",
       "      <td>978824268</td>\n",
       "    </tr>\n",
       "    <tr>\n",
       "      <th>1</th>\n",
       "      <td>1</td>\n",
       "      <td>Toy Story (1995)</td>\n",
       "      <td>Animation|Children's|Comedy</td>\n",
       "      <td>6</td>\n",
       "      <td>4</td>\n",
       "      <td>978237008</td>\n",
       "    </tr>\n",
       "    <tr>\n",
       "      <th>2</th>\n",
       "      <td>1</td>\n",
       "      <td>Toy Story (1995)</td>\n",
       "      <td>Animation|Children's|Comedy</td>\n",
       "      <td>8</td>\n",
       "      <td>4</td>\n",
       "      <td>978233496</td>\n",
       "    </tr>\n",
       "    <tr>\n",
       "      <th>3</th>\n",
       "      <td>1</td>\n",
       "      <td>Toy Story (1995)</td>\n",
       "      <td>Animation|Children's|Comedy</td>\n",
       "      <td>9</td>\n",
       "      <td>5</td>\n",
       "      <td>978225952</td>\n",
       "    </tr>\n",
       "    <tr>\n",
       "      <th>4</th>\n",
       "      <td>1</td>\n",
       "      <td>Toy Story (1995)</td>\n",
       "      <td>Animation|Children's|Comedy</td>\n",
       "      <td>10</td>\n",
       "      <td>5</td>\n",
       "      <td>978226474</td>\n",
       "    </tr>\n",
       "  </tbody>\n",
       "</table>\n",
       "</div>"
      ],
      "text/plain": [
       "   movie_id             title                       genres  user_id  rating  \\\n",
       "0         1  Toy Story (1995)  Animation|Children's|Comedy        1       5   \n",
       "1         1  Toy Story (1995)  Animation|Children's|Comedy        6       4   \n",
       "2         1  Toy Story (1995)  Animation|Children's|Comedy        8       4   \n",
       "3         1  Toy Story (1995)  Animation|Children's|Comedy        9       5   \n",
       "4         1  Toy Story (1995)  Animation|Children's|Comedy       10       5   \n",
       "\n",
       "   timestamp  \n",
       "0  978824268  \n",
       "1  978237008  \n",
       "2  978233496  \n",
       "3  978225952  \n",
       "4  978226474  "
      ]
     },
     "execution_count": 28,
     "metadata": {},
     "output_type": "execute_result"
    }
   ],
   "source": [
    "pd.merge(movies,ratings).head()"
   ]
  },
  {
   "cell_type": "code",
   "execution_count": 29,
   "metadata": {
    "collapsed": false,
    "slideshow": {
     "slide_type": "slide"
    }
   },
   "outputs": [
    {
     "data": {
      "text/html": [
       "<div>\n",
       "<table border=\"1\" class=\"dataframe\">\n",
       "  <thead>\n",
       "    <tr style=\"text-align: right;\">\n",
       "      <th></th>\n",
       "      <th>movie_id</th>\n",
       "      <th>title</th>\n",
       "      <th>genres</th>\n",
       "      <th>user_id</th>\n",
       "      <th>rating</th>\n",
       "      <th>timestamp</th>\n",
       "      <th>gender</th>\n",
       "      <th>age</th>\n",
       "      <th>occupation</th>\n",
       "      <th>zip</th>\n",
       "    </tr>\n",
       "  </thead>\n",
       "  <tbody>\n",
       "    <tr>\n",
       "      <th>0</th>\n",
       "      <td>1</td>\n",
       "      <td>Toy Story (1995)</td>\n",
       "      <td>Animation|Children's|Comedy</td>\n",
       "      <td>1</td>\n",
       "      <td>5</td>\n",
       "      <td>978824268</td>\n",
       "      <td>F</td>\n",
       "      <td>1</td>\n",
       "      <td>10</td>\n",
       "      <td>48067</td>\n",
       "    </tr>\n",
       "    <tr>\n",
       "      <th>1</th>\n",
       "      <td>48</td>\n",
       "      <td>Pocahontas (1995)</td>\n",
       "      <td>Animation|Children's|Musical|Romance</td>\n",
       "      <td>1</td>\n",
       "      <td>5</td>\n",
       "      <td>978824351</td>\n",
       "      <td>F</td>\n",
       "      <td>1</td>\n",
       "      <td>10</td>\n",
       "      <td>48067</td>\n",
       "    </tr>\n",
       "    <tr>\n",
       "      <th>2</th>\n",
       "      <td>150</td>\n",
       "      <td>Apollo 13 (1995)</td>\n",
       "      <td>Drama</td>\n",
       "      <td>1</td>\n",
       "      <td>5</td>\n",
       "      <td>978301777</td>\n",
       "      <td>F</td>\n",
       "      <td>1</td>\n",
       "      <td>10</td>\n",
       "      <td>48067</td>\n",
       "    </tr>\n",
       "    <tr>\n",
       "      <th>3</th>\n",
       "      <td>260</td>\n",
       "      <td>Star Wars: Episode IV - A New Hope (1977)</td>\n",
       "      <td>Action|Adventure|Fantasy|Sci-Fi</td>\n",
       "      <td>1</td>\n",
       "      <td>4</td>\n",
       "      <td>978300760</td>\n",
       "      <td>F</td>\n",
       "      <td>1</td>\n",
       "      <td>10</td>\n",
       "      <td>48067</td>\n",
       "    </tr>\n",
       "    <tr>\n",
       "      <th>4</th>\n",
       "      <td>527</td>\n",
       "      <td>Schindler's List (1993)</td>\n",
       "      <td>Drama|War</td>\n",
       "      <td>1</td>\n",
       "      <td>5</td>\n",
       "      <td>978824195</td>\n",
       "      <td>F</td>\n",
       "      <td>1</td>\n",
       "      <td>10</td>\n",
       "      <td>48067</td>\n",
       "    </tr>\n",
       "  </tbody>\n",
       "</table>\n",
       "</div>"
      ],
      "text/plain": [
       "   movie_id                                      title  \\\n",
       "0         1                           Toy Story (1995)   \n",
       "1        48                          Pocahontas (1995)   \n",
       "2       150                           Apollo 13 (1995)   \n",
       "3       260  Star Wars: Episode IV - A New Hope (1977)   \n",
       "4       527                    Schindler's List (1993)   \n",
       "\n",
       "                                 genres  user_id  rating  timestamp gender  \\\n",
       "0           Animation|Children's|Comedy        1       5  978824268      F   \n",
       "1  Animation|Children's|Musical|Romance        1       5  978824351      F   \n",
       "2                                 Drama        1       5  978301777      F   \n",
       "3       Action|Adventure|Fantasy|Sci-Fi        1       4  978300760      F   \n",
       "4                             Drama|War        1       5  978824195      F   \n",
       "\n",
       "   age  occupation    zip  \n",
       "0    1          10  48067  \n",
       "1    1          10  48067  \n",
       "2    1          10  48067  \n",
       "3    1          10  48067  \n",
       "4    1          10  48067  "
      ]
     },
     "execution_count": 29,
     "metadata": {},
     "output_type": "execute_result"
    }
   ],
   "source": [
    "data = pd.merge(pd.merge(movies, ratings ), users)\n",
    "data.head()"
   ]
  },
  {
   "cell_type": "code",
   "execution_count": 31,
   "metadata": {
    "collapsed": false,
    "slideshow": {
     "slide_type": "slide"
    }
   },
   "outputs": [
    {
     "name": "stdout",
     "output_type": "stream",
     "text": [
      "-rw-r--r--  1 admin  staff    72M Feb  4 15:52 ../NoteBooks/pydata-book/ch02/movielens/mergeddata.csv\r\n"
     ]
    }
   ],
   "source": [
    "## Write this dataframe to a csv file\n",
    "# http://pandas.pydata.org/pandas-docs/dev/generated/pandas.DataFrame.to_csv.html\n",
    "\n",
    "data.to_csv('../NoteBooks/pydata-book/ch02/movielens/mergeddata.csv', index=False)\n",
    "!ls -lh '../NoteBooks/pydata-book/ch02/movielens/mergeddata.csv';"
   ]
  },
  {
   "cell_type": "code",
   "execution_count": 32,
   "metadata": {
    "collapsed": false,
    "slideshow": {
     "slide_type": "fragment"
    }
   },
   "outputs": [
    {
     "name": "stdout",
     "output_type": "stream",
     "text": [
      "movie_id,title,genres,user_id,rating,timestamp,gender,age,occupation,zip\r\n",
      "1,Toy Story (1995),Animation|Children's|Comedy,1,5,978824268,F,1,10,48067\r\n",
      "48,Pocahontas (1995),Animation|Children's|Musical|Romance,1,5,978824351,F,1,10,48067\r\n",
      "150,Apollo 13 (1995),Drama,1,5,978301777,F,1,10,48067\r\n",
      "260,Star Wars: Episode IV - A New Hope (1977),Action|Adventure|Fantasy|Sci-Fi,1,4,978300760,F,1,10,48067\r\n"
     ]
    }
   ],
   "source": [
    "!head -5 '../NoteBooks/pydata-book/ch02/movielens/mergeddata.csv'"
   ]
  },
  {
   "cell_type": "markdown",
   "metadata": {
    "slideshow": {
     "slide_type": "slide"
    }
   },
   "source": [
    "# Analysis\n",
    "\n",
    "* See <http://nbviewer.ipython.org/url/maartenmarx.nl/teaching/Proefstuderen/NoteBooks/Movielens_data.ipynb>\n",
    "* Notebook: <http://maartenmarx.nl/teaching/Proefstuderen/NoteBooks/Movielens_data.ipynb>"
   ]
  },
  {
   "cell_type": "markdown",
   "metadata": {
    "slideshow": {
     "slide_type": "slide"
    }
   },
   "source": [
    "# Chapter 2: analyse baby names\n",
    "\n",
    "Fantastic diachronic dataset: 1880-2010 \n",
    "```\n",
    "“       name sex  births  year\n",
    "0       Mary   F    7065  1880\n",
    "1       Anna   F    2604  1880\n",
    "2       Emma   F    2003  1880\n",
    "3  Elizabeth   F    1939  1880\n",
    "4     Minnie   F    1746  1880\n",
    "5   Margaret   F    1578  1880\n",
    "6        Ida   F    1472  1880\n",
    "7      Alice   F    1414  1880\n",
    "8     Bertha   F    1320  1880\n",
    "9      Sarah   F    1288  1880”\n",
    "```"
   ]
  },
  {
   "cell_type": "markdown",
   "metadata": {
    "slideshow": {
     "slide_type": "slide"
    }
   },
   "source": [
    "# Chapter 2: analyse baby names\n",
    "\n",
    "1. Import data\n",
    "    * niet zo makkelijk, want verspreid over een csv file voor elk jaar\n",
    "2. Analyse\n",
    "\n",
    "### Voorbeeld vragen\n",
    "\n",
    "* Visualize the proportion of babies given a particular name (your own, or another name) over time.\n",
    "* Determine the relative rank of a name.\n",
    "* Determine the most popular names in each year or the names with largest increases or decreases.\n",
    "* Analyze trends in names: vowels, consonants, length, overall diversity, changes in spelling, first and last letters\n",
    "* Analyze external sources of trends: biblical names, celebrities, demographic changes \n",
    " "
   ]
  },
  {
   "cell_type": "markdown",
   "metadata": {
    "slideshow": {
     "slide_type": "slide"
    }
   },
   "source": [
    "# Import data\n",
    "\n",
    "* Each file has the same 3 columns: `name sex  births `\n",
    "* So, we can add an extra column `year` \n",
    "    * with a constant value for each file\n",
    "* and just concatenate all files\n",
    "    * we could do that at the file level,\n",
    "    * but also in pandas using `pd.concat`"
   ]
  },
  {
   "cell_type": "code",
   "execution_count": null,
   "metadata": {
    "collapsed": false,
    "slideshow": {
     "slide_type": "slide"
    }
   },
   "outputs": [],
   "source": [
    "# Inspect one file\n",
    "import pandas as pd\n",
    "names1880 = pd.read_csv('../NoteBooks/pydata-book/ch02/names/yob1880.txt', names=['name', 'sex', 'births'])\n",
    "names1880.head()"
   ]
  },
  {
   "cell_type": "code",
   "execution_count": null,
   "metadata": {
    "collapsed": false,
    "slideshow": {
     "slide_type": "slide"
    }
   },
   "outputs": [],
   "source": [
    "# Concatenate them all\n",
    "# 2010 is the last available year right now\n",
    "years = range(1880,  2011)\n",
    "\n",
    "pieces = []\n",
    "columns = ['name', 'sex', 'births']\n",
    "\n",
    "for year in years:\n",
    "    path = '../NoteBooks/pydata-book/ch02/names/yob%d.txt' % year\n",
    "    frame = pd.read_csv(path, names=columns)\n",
    "\n",
    "    frame['year'] = year\n",
    "    pieces.append(frame)\n",
    "\n",
    "# Concatenate everything into a single DataFrame\n",
    "names = pd.concat(pieces, ignore_index=True)"
   ]
  },
  {
   "cell_type": "code",
   "execution_count": null,
   "metadata": {
    "collapsed": false,
    "slideshow": {
     "slide_type": "slide"
    }
   },
   "outputs": [],
   "source": [
    "# check\n",
    "names.tail()"
   ]
  },
  {
   "cell_type": "markdown",
   "metadata": {
    "slideshow": {
     "slide_type": "slide"
    }
   },
   "source": [
    "# Exercise\n",
    "\n",
    "> How many unique names are there in this dataset?"
   ]
  },
  {
   "cell_type": "code",
   "execution_count": null,
   "metadata": {
    "collapsed": false,
    "slideshow": {
     "slide_type": "fragment"
    }
   },
   "outputs": [],
   "source": [
    "len(names.name), len(set(names.name))"
   ]
  },
  {
   "cell_type": "markdown",
   "metadata": {
    "slideshow": {
     "slide_type": "slide"
    }
   },
   "source": [
    "# Exercise\n",
    "\n",
    "> Compute and show the number of births per year per gender.\n",
    "\n",
    "### What are the operations you must perform?"
   ]
  },
  {
   "cell_type": "markdown",
   "metadata": {
    "slideshow": {
     "slide_type": "fragment"
    }
   },
   "source": [
    "* pivot table with \n",
    "    * year as index\n",
    "    * gender as column\n",
    "    * sum of all births as value"
   ]
  },
  {
   "cell_type": "code",
   "execution_count": null,
   "metadata": {
    "collapsed": false,
    "slideshow": {
     "slide_type": "slide"
    }
   },
   "outputs": [],
   "source": [
    "# in the book \n",
    "#total_births = names.pivot_table('births', rows='year',cols='sex', aggfunc=sum)\n",
    "\n",
    "# new syntx: see names.pivot_table?\n",
    "total_births = names.pivot_table(values='births', index='year',columns='sex', aggfunc=sum, margins=True)\n",
    "total_births.tail()                                 "
   ]
  },
  {
   "cell_type": "code",
   "execution_count": null,
   "metadata": {
    "collapsed": false,
    "slideshow": {
     "slide_type": "slide"
    }
   },
   "outputs": [],
   "source": [
    "# What went wrong here?\n",
    "total_births.plot();"
   ]
  },
  {
   "cell_type": "code",
   "execution_count": null,
   "metadata": {
    "collapsed": false
   },
   "outputs": [],
   "source": [
    "total_births = names.pivot_table(values='births', index='year',columns='sex', aggfunc=sum)\n",
    "total_births.plot();"
   ]
  },
  {
   "cell_type": "markdown",
   "metadata": {
    "slideshow": {
     "slide_type": "slide"
    }
   },
   "source": [
    "# Exercise\n",
    "\n",
    "* Print the number of Johns per year.\n",
    "* Print two plots John and Mary per year\n"
   ]
  },
  {
   "cell_type": "code",
   "execution_count": null,
   "metadata": {
    "collapsed": false,
    "slideshow": {
     "slide_type": "slide"
    }
   },
   "outputs": [],
   "source": [
    "# What were the names of the columns again?\n",
    "\n",
    "names.head(3)"
   ]
  },
  {
   "cell_type": "code",
   "execution_count": null,
   "metadata": {
    "collapsed": false,
    "slideshow": {
     "slide_type": "slide"
    }
   },
   "outputs": [],
   "source": [
    "# restrict to the rows we want\n",
    "john=names[names.name=='John']\n",
    "\n",
    "# Do what we did before \n",
    "john.pivot_table(values='births', index='year',columns='sex', aggfunc=sum).plot();"
   ]
  },
  {
   "cell_type": "code",
   "execution_count": null,
   "metadata": {
    "collapsed": false,
    "slideshow": {
     "slide_type": "slide"
    }
   },
   "outputs": [],
   "source": [
    "# multiple plots\n",
    "# See http://pandas.pydata.org/pandas-docs/stable/indexing.html#boolean-indexing \n",
    "\n",
    "subset = names[(names.name=='John') |  (  names.name== 'Mary')]  # | = or ; & = and; ~ = not\n",
    "\n",
    "subset.head()"
   ]
  },
  {
   "cell_type": "code",
   "execution_count": null,
   "metadata": {
    "collapsed": false
   },
   "outputs": [],
   "source": [
    "# Now pivot on year and name\n",
    "johnandmary= subset.pivot_table(values='births', columns='name' ,index='year',  aggfunc=sum)\n",
    "johnandmary.head(2)"
   ]
  },
  {
   "cell_type": "code",
   "execution_count": null,
   "metadata": {
    "collapsed": false,
    "slideshow": {
     "slide_type": "slide"
    }
   },
   "outputs": [],
   "source": [
    "johnandmary.plot( figsize=(12, 10), grid=False  , # subplots=True,\n",
    "            title=\"Number of births per year\")"
   ]
  },
  {
   "cell_type": "markdown",
   "metadata": {
    "slideshow": {
     "slide_type": "slide"
    }
   },
   "source": [
    "## Exercise\n",
    "\n",
    "* Plot the percentage of Johns and Maries per year.\n",
    "\n",
    "### Hint\n",
    "* compute the totals for each year\n",
    "* Define a  new column percentage by dividing by the totals."
   ]
  },
  {
   "cell_type": "code",
   "execution_count": null,
   "metadata": {
    "collapsed": false,
    "slideshow": {
     "slide_type": "slide"
    }
   },
   "outputs": [],
   "source": [
    "# Step 1: get the totals \n",
    "p= names.pivot_table(values='births', columns='name' ,index='year',  aggfunc=sum, margins=True)\n",
    "p.head()"
   ]
  },
  {
   "cell_type": "code",
   "execution_count": null,
   "metadata": {
    "collapsed": false,
    "slideshow": {
     "slide_type": "slide"
    }
   },
   "outputs": [],
   "source": [
    "# Step 2: percentages\n",
    "((p.John /p.All)*100).head()"
   ]
  },
  {
   "cell_type": "code",
   "execution_count": null,
   "metadata": {
    "collapsed": false,
    "slideshow": {
     "slide_type": "slide"
    }
   },
   "outputs": [],
   "source": [
    "# nicely round them\n",
    "((p.John /p.All)*100).apply(lambda x:round(x,2)).head()"
   ]
  },
  {
   "cell_type": "code",
   "execution_count": null,
   "metadata": {
    "collapsed": false,
    "slideshow": {
     "slide_type": "slide"
    }
   },
   "outputs": [],
   "source": [
    "# OK , let's do that for all names in place\n",
    "\n",
    "for name in p.columns:\n",
    "    p[name]= ((p[name] /p.All)*100).apply(lambda x:round(x,2))\n"
   ]
  },
  {
   "cell_type": "code",
   "execution_count": null,
   "metadata": {
    "collapsed": false,
    "slideshow": {
     "slide_type": "slide"
    }
   },
   "outputs": [],
   "source": [
    "p.John.head()"
   ]
  },
  {
   "cell_type": "code",
   "execution_count": null,
   "metadata": {
    "collapsed": false,
    "slideshow": {
     "slide_type": "slide"
    }
   },
   "outputs": [],
   "source": [
    "pd.DataFrame(p.John).plot()\n",
    "pd.DataFrame(p.Mary).plot()"
   ]
  },
  {
   "cell_type": "code",
   "execution_count": null,
   "metadata": {
    "collapsed": false
   },
   "outputs": [],
   "source": [
    "(pd.DataFrame(p.John).join(p.Mary)).plot(figsize=(12, 10), grid=False  , # subplots=True,\n",
    "            title=\"Number of births per year\")"
   ]
  },
  {
   "cell_type": "code",
   "execution_count": null,
   "metadata": {
    "collapsed": false
   },
   "outputs": [],
   "source": [
    "# get rid of that anomaly at the right\n",
    "\n",
    "(pd.DataFrame(p.John).join(p.Mary).drop('All')).plot(figsize=(12, 10), grid=False  , # subplots=True,\n",
    "            title=\"Number of births per year\")"
   ]
  },
  {
   "cell_type": "markdown",
   "metadata": {
    "slideshow": {
     "slide_type": "slide"
    }
   },
   "source": [
    "# Female Johns and Male Mary's?\n",
    "\n",
    "* really, let's check that out"
   ]
  },
  {
   "cell_type": "code",
   "execution_count": null,
   "metadata": {
    "collapsed": false,
    "slideshow": {
     "slide_type": "slide"
    }
   },
   "outputs": [],
   "source": [
    "femalejohns= names[(names.name=='John') & (names.sex=='F')]\n",
    "femalejohns.sort('births', ascending=False).head()"
   ]
  },
  {
   "cell_type": "markdown",
   "metadata": {
    "slideshow": {
     "slide_type": "slide"
    }
   },
   "source": [
    "# Store femalejohns\n",
    "\n",
    "* as a csv file"
   ]
  },
  {
   "cell_type": "code",
   "execution_count": null,
   "metadata": {
    "collapsed": true,
    "slideshow": {
     "slide_type": "slide"
    }
   },
   "outputs": [],
   "source": [
    "femalejohns.to_csv('femalejohns.csv', index=False, sep='\\t')"
   ]
  },
  {
   "cell_type": "code",
   "execution_count": null,
   "metadata": {
    "collapsed": false,
    "slideshow": {
     "slide_type": "fragment"
    }
   },
   "outputs": [],
   "source": [
    "! head -10 femalejohns.csv"
   ]
  },
  {
   "cell_type": "markdown",
   "metadata": {
    "slideshow": {
     "slide_type": "slide"
    }
   },
   "source": [
    "# Exercise (huiswerk)\n",
    "\n",
    "* Vind voor elke naam het totaal aantal jongens en het totaal aantal meisjes met die naam\n",
    "* Dit is natuurlijk weer een pivot table\n",
    "* We willen ook de totalen erbij"
   ]
  },
  {
   "cell_type": "code",
   "execution_count": null,
   "metadata": {
    "collapsed": true
   },
   "outputs": [],
   "source": []
  }
 ],
 "metadata": {
  "celltoolbar": "Slideshow",
  "kernelspec": {
   "display_name": "Python 2",
   "language": "python",
   "name": "python2"
  },
  "language_info": {
   "codemirror_mode": {
    "name": "ipython",
    "version": 2
   },
   "file_extension": ".py",
   "mimetype": "text/x-python",
   "name": "python",
   "nbconvert_exporter": "python",
   "pygments_lexer": "ipython2",
   "version": "2.7.11"
  }
 },
 "nbformat": 4,
 "nbformat_minor": 0
}
