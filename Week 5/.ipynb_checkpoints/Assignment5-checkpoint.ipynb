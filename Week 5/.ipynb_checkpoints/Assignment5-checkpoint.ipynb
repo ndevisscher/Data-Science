{
 "cells": [
  {
   "cell_type": "markdown",
   "metadata": {},
   "source": [
    "#  Assignment 5\n",
    "\n",
    "## Notebook made by  \n",
    "\n",
    "|** Name** | **Student id** | **email**|\n",
    "|:- |:-|:-|\n",
    "|. | | |\n",
    "|  | |. |\n",
    "\n",
    "### Pledge (taken from [Coursera's Honor Code](https://www.coursera.org/about/terms/honorcode) )\n",
    "\n",
    "\n",
    "\n",
    "Put here a selfie with your photo where you hold a signed paper with the following text: (if this is team work, put two selfies here). The link must be to some place on the web, not to a local file. \n",
    "\n",
    "> My answers to homework, quizzes and exams will be my own work (except for assignments that explicitly permit collaboration).\n",
    "\n",
    ">I will not make solutions to homework, quizzes or exams available to anyone else. This includes both solutions written by me, as well as any official solutions provided by the course staff.\n",
    "\n",
    ">I will not engage in any other activities that will dishonestly improve my results or dishonestly improve/hurt the results of others.\n",
    "\n",
    "<img src='link to your selfie'/>\n",
    "\n",
    "### Note\n",
    "* **Assignments without the selfies or completely filled in information will not be graded and receive 0 points.**\n"
   ]
  },
  {
   "cell_type": "markdown",
   "metadata": {},
   "source": [
    "We maken de toetsassignment af. We bekijken dus weer het artikel <http://language.media.mit.edu/paper>. In de toets hebben we de netwerkdata gebaseerd op boekvertalingen gemaakt.\n",
    "In dit huiswerk gaan we verder.\n",
    "\n",
    " "
   ]
  },
  {
   "cell_type": "code",
   "execution_count": 43,
   "metadata": {
    "collapsed": false
   },
   "outputs": [],
   "source": [
    "%matplotlib inline\n",
    "import pandas as pd\n",
    "import re\n",
    "from lxml import etree \n",
    "from bz2 import BZ2File\n",
    "import codecs\n",
    "import nltk\n",
    "from collections import defaultdict\n",
    "from  itertools import combinations  # ideal for creating all possible pairs that out can make out of a set\n",
    "from __future__ import division\n",
    "from math import sqrt "
   ]
  },
  {
   "cell_type": "markdown",
   "metadata": {},
   "source": [
    "### Deel  Wikipedia  \n",
    "\n",
    " \n",
    "\n",
    "1. Maak   van de Wikipedia _raw_ dataset de netwerk  datasets die op <http://language.media.mit.edu/data> beschreven staan. \n",
    "2. We bekijken in hoeverre onze resultaten afwijken van die in de geleverde bewerkte datasets.\n",
    "3. We leggen eventuele verschillen uit.\n",
    "\n",
    "#### In Stapjes\n",
    "\n",
    "We doen de opdracht in een aantal stapjes.\n",
    "\n",
    "#### Let op, je notebook moet vanzelf draaien. Alle data moet opgehaald worden."
   ]
  },
  {
   "cell_type": "markdown",
   "metadata": {},
   "source": [
    "# Download \n",
    "\n",
    "1. Download de ruwe dataset als zip file, ontzip hem en sla hem in de directory op waarin dit notebook ook staat.\n",
    "    * Dit mag je met de hand doen. De code **moet niet runbaar** in je notebook staan.\n",
    "    * Maar zorg dat de rest van de code er vanuit gaat dat `wikipedia_userlang_iso639-3.tsv` in dezelfde folder staat als dit notebook\n",
    "2. Lees de 2 bewerkte datasets over Wikipedia _Wikipedia Stats by Language_ en _Edges_ direct in van de urls in  pandas Dataframes, die je respectivelijk `dataset_stats_wikipedia` en `wikipedia_edges` noemt.\n",
    "    1. Maak de Taal code de index in het eerste frame, en hou alleen de Kolommen `['Editors', 'Edits','Multilinguals','Edits by mulitlinguals']`\n",
    "    2. Sorteer het frame op de index\n",
    "    2. Verwijder de kolommen `SourceLanguageName\tTargetLanguageName\tSourcePopulation\tTargetPopulations` uit het tweede frame\n",
    "    3. Sorteer het frame op `SourceLanguageName`\n",
    "    3. Laat steeds met `head()` zien dat het werkt.\n",
    "    \n",
    "### Je antwoord bestaat uit 2 cellen"
   ]
  },
  {
   "cell_type": "code",
   "execution_count": 22,
   "metadata": {
    "collapsed": false
   },
   "outputs": [
    {
     "data": {
      "text/html": [
       "<div>\n",
       "<table border=\"1\" class=\"dataframe\">\n",
       "  <thead>\n",
       "    <tr style=\"text-align: right;\">\n",
       "      <th></th>\n",
       "      <th>Editors</th>\n",
       "      <th>Edits</th>\n",
       "      <th>Multilinguals</th>\n",
       "      <th>Edits by mulitlinguals</th>\n",
       "    </tr>\n",
       "    <tr>\n",
       "      <th>Code</th>\n",
       "      <th></th>\n",
       "      <th></th>\n",
       "      <th></th>\n",
       "      <th></th>\n",
       "    </tr>\n",
       "  </thead>\n",
       "  <tbody>\n",
       "    <tr>\n",
       "      <th>aar</th>\n",
       "      <td>4</td>\n",
       "      <td>46</td>\n",
       "      <td>3</td>\n",
       "      <td>9</td>\n",
       "    </tr>\n",
       "    <tr>\n",
       "      <th>abk</th>\n",
       "      <td>15</td>\n",
       "      <td>2807</td>\n",
       "      <td>7</td>\n",
       "      <td>1494</td>\n",
       "    </tr>\n",
       "    <tr>\n",
       "      <th>afr</th>\n",
       "      <td>511</td>\n",
       "      <td>103652</td>\n",
       "      <td>352</td>\n",
       "      <td>95988</td>\n",
       "    </tr>\n",
       "    <tr>\n",
       "      <th>aka</th>\n",
       "      <td>31</td>\n",
       "      <td>327</td>\n",
       "      <td>24</td>\n",
       "      <td>240</td>\n",
       "    </tr>\n",
       "    <tr>\n",
       "      <th>amh</th>\n",
       "      <td>68</td>\n",
       "      <td>4596</td>\n",
       "      <td>45</td>\n",
       "      <td>4039</td>\n",
       "    </tr>\n",
       "  </tbody>\n",
       "</table>\n",
       "</div>"
      ],
      "text/plain": [
       "      Editors   Edits  Multilinguals  Edits by mulitlinguals\n",
       "Code                                                        \n",
       "aar         4      46              3                       9\n",
       "abk        15    2807              7                    1494\n",
       "afr       511  103652            352                   95988\n",
       "aka        31     327             24                     240\n",
       "amh        68    4596             45                    4039"
      ]
     },
     "execution_count": 22,
     "metadata": {},
     "output_type": "execute_result"
    }
   ],
   "source": [
    "#download the data\n",
    "url = \"http://language.media.mit.edu/data/public/dataset_stats_wikipedia.tsv\"\n",
    "url2 = \"http://language.media.mit.edu/data/public/wikipedia_edges.tsv\"\n",
    "\n",
    "dataset_stats_wikipedia = pd.DataFrame.from_csv(url , sep='\\t')\n",
    "wikipedia_edges = pd.DataFrame.from_csv(url2 , sep='\\t')\n",
    "\n",
    "dataset_stats_wikipedia = dataset_stats_wikipedia.set_index(['Code']).loc[:,['Code','Editors', 'Edits','Multilinguals','Edits by mulitlinguals']]\n",
    "dataset_stats_wikipedia = dataset_stats_wikipedia.drop(['Code'], axis = 1).sort_index()\n",
    "\n",
    "# jouw code hier \n",
    "dataset_stats_wikipedia.head()"
   ]
  },
  {
   "cell_type": "code",
   "execution_count": 3,
   "metadata": {
    "collapsed": false
   },
   "outputs": [
    {
     "data": {
      "text/html": [
       "<div>\n",
       "<table border=\"1\" class=\"dataframe\">\n",
       "  <thead>\n",
       "    <tr style=\"text-align: right;\">\n",
       "      <th></th>\n",
       "      <th>SourceLanguageCode</th>\n",
       "      <th>TargetLanguageCode</th>\n",
       "      <th>SourceLanguageName</th>\n",
       "      <th>Coocurrences</th>\n",
       "      <th>PhiCorrelation</th>\n",
       "      <th>Tstatistic</th>\n",
       "    </tr>\n",
       "  </thead>\n",
       "  <tbody>\n",
       "    <tr>\n",
       "      <th>0</th>\n",
       "      <td>afr</td>\n",
       "      <td>eng</td>\n",
       "      <td>Afrikaans</td>\n",
       "      <td>271</td>\n",
       "      <td>0.013648</td>\n",
       "      <td>17.207148</td>\n",
       "    </tr>\n",
       "    <tr>\n",
       "      <th>1</th>\n",
       "      <td>afr</td>\n",
       "      <td>nld</td>\n",
       "      <td>Afrikaans</td>\n",
       "      <td>78</td>\n",
       "      <td>0.015377</td>\n",
       "      <td>3.332197</td>\n",
       "    </tr>\n",
       "    <tr>\n",
       "      <th>513</th>\n",
       "      <td>sqi</td>\n",
       "      <td>deu</td>\n",
       "      <td>Albanian</td>\n",
       "      <td>396</td>\n",
       "      <td>0.024087</td>\n",
       "      <td>11.408552</td>\n",
       "    </tr>\n",
       "    <tr>\n",
       "      <th>514</th>\n",
       "      <td>sqi</td>\n",
       "      <td>eng</td>\n",
       "      <td>Albanian</td>\n",
       "      <td>598</td>\n",
       "      <td>0.019269</td>\n",
       "      <td>24.295924</td>\n",
       "    </tr>\n",
       "    <tr>\n",
       "      <th>2</th>\n",
       "      <td>amh</td>\n",
       "      <td>eng</td>\n",
       "      <td>Amharic</td>\n",
       "      <td>28</td>\n",
       "      <td>0.004344</td>\n",
       "      <td>5.476711</td>\n",
       "    </tr>\n",
       "  </tbody>\n",
       "</table>\n",
       "</div>"
      ],
      "text/plain": [
       "    SourceLanguageCode TargetLanguageCode SourceLanguageName  Coocurrences  \\\n",
       "0                  afr                eng          Afrikaans           271   \n",
       "1                  afr                nld          Afrikaans            78   \n",
       "513                sqi                deu           Albanian           396   \n",
       "514                sqi                eng           Albanian           598   \n",
       "2                  amh                eng            Amharic            28   \n",
       "\n",
       "     PhiCorrelation  Tstatistic  \n",
       "0          0.013648   17.207148  \n",
       "1          0.015377    3.332197  \n",
       "513        0.024087   11.408552  \n",
       "514        0.019269   24.295924  \n",
       "2          0.004344    5.476711  "
      ]
     },
     "execution_count": 3,
     "metadata": {},
     "output_type": "execute_result"
    }
   ],
   "source": [
    "# jouw code hier \n",
    "wikipedia_edges = wikipedia_edges.drop(['TargetLanguageName','SourcePopulation','TargetPopulations'], axis = 1).reset_index()\n",
    "wikipedia_edges = wikipedia_edges.sort_values(by = 'SourceLanguageName')\n",
    "wikipedia_edges.head()"
   ]
  },
  {
   "cell_type": "markdown",
   "metadata": {},
   "source": [
    "# Haal gegevens uit de ruwe data, deel 1\n",
    "\n",
    "* De file `'wikipedia_userlang_iso639-3.tsv'` lijkt een spreadsheet maar hij heeft niet op elke regel evenveel kolommen.\n",
    "* Processing met pandas is dus ook lastig.\n",
    "* Als alternatief gaan we file zelf regel voor regel  inlezen, en de gewenste gegevens opslaan.\n",
    "* Ons einddoel is om een dataframe te maken dat er precies zo uitziet als `dataset_stats_wikipedia`\n",
    "* We doen dat in 2 stappen:\n",
    "    1. We maken een aantal dicts aan met de gewenste gegevens\n",
    "    2. Van elke dict maken we een dataframe met `pd.DataFrame.from_dict`\n",
    "    3. Die plakken we allemaal aan elkaar met `join` (neem een inner join)\n",
    "    4. Noem het eindresultaat `stats`, sorteer het ook op de index en laat het begin zien met `head`.\n",
    "    5. Check natuurlijk zelf of je op de goede weg zit door je resultaat te vergelijken met `dataset_stats_wikipedia`\n",
    "* Hieronder staat wat code om je op weg te helpen\n",
    "* **Lees het artikel en de supplementary material goed om net als zij de ruwe data te filteren.**\n",
    "\n",
    "\n",
    "# Haal gegevens uit de ruwe data, deel 2\n",
    "\n",
    "* In dezelfde code waarin je de vorige vraag hebt gemaakt, maak je ook een dict `pairs` aan. Hier zijn de sleutels paren van taalcodes, **waarbij de eerste altijd alfabetisch eerder is dan de tweede**, en hun waarde het aantal cooccurences.\n",
    "* Maak van dit dict een Dataframe `edges`, waarbij `edges.columns=['SourceLanguageCode','TargetLanguageCode','Coocurrencesmy']`\n",
    "* Sorteer ook hier op `'SourceLanguageCode'`\n",
    "* **Lees het artikel en de supplementary material goed om net als zij de ruwe data te filteren.**"
   ]
  },
  {
   "cell_type": "code",
<<<<<<< HEAD
   "execution_count": 51,
=======
   "execution_count": 10,
>>>>>>> parent of b85f9de... update
   "metadata": {
    "collapsed": false
   },
   "outputs": [
    {
<<<<<<< HEAD
     "name": "stdout",
     "output_type": "stream",
     "text": [
      "hoi\n",
      "defaultdict(<type 'int'>, {'roh': 6781, 'sco': 11474, 'scn': 24330, 'rom': 368, 'ron': 852536, 'lij': 6943, 'oss': 6179, 'ita': 11923658, 'zea': 4757, 'nld': 6393791, 'nov': 3302, 'oci': 112691, 'tso': 1912, 'szl': 1962, 'ell': 721969, 'jav': 53424, 'bug': 2783, 'nor': 1789110, 'fij': 111, 'fin': 2926115, 'ksh': 7454, 'eus': 221173, 'haw': 2048, 'amh': 4596, 'ceb': 18206, 'fas': 1603849, 'dan': 965082, 'pag': 4418, 'ces': 1697926, 'mon': 40808, 'hif': 13598, 'mol': 3075, 'ava': 602, 'fur': 7472, 'vls': 33952, 'gla': 23463, 'bis': 383, 'hin': 310187, 'bar': 32653, 'hye': 65797, 'eml': 10186, 'tir': 155, 'sin': 124011, 'pan': 3378, 'guj': 75352, 'bpy': 751, 'div': 11788, 'bam': 754, 'bak': 14703, 'tel': 274160, 'pms': 57974, 'tpi': 3756, 'mdf': 742, 'kaa': 1612, 'deu': 33977378, 'ara': 2178719, 'arc': 2152, 'arg': 60924, 'pam': 18819, 'tet': 1533, 'sna': 3043, 'est': 366370, 'mus': 9, 'sun': 27304, 'abk': 2807, 'kur': 45967, 'smo': 1608, 'wol': 7343, 'lug': 529, 'got': 2133, 'sme': 9570, 'dsb': 453, 'aka': 327, 'nep': 32572, 'stq': 145, 'hsb': 12265, 'tsn': 618, 'run': 94, 'iku': 678, 'ast': 21525, 'tur': 2062037, 'cre': 764, 'ndo': 25, 'glv': 340, 'tuk': 4768, 'que': 4034, 'tum': 65, 'lmo': 36978, 'rus': 12445887, 'rup': 72391, 'crh': 1577, 'asm': 11708, 'pus': 19327, 'kik': 47, 'cos': 5861, 'glk': 14441, 'srd': 2704, 'ltz': 98105, 'srn': 1465, 'gle': 83598, 'dzo': 80, 'glg': 246354, 'ido': 46037, 'orm': 1387, 'wln': 14733, 'isl': 179477, 'cha': 556, 'nds': 83466, 'pdc': 5959, 'hbs': 2030039, 'pih': 808, 'vie': 1151775, 'ipk': 339, 'sgs': 6169, 'ori': 6735, 'por': 5168734, 'uzb': 21270, 'ukr': 1839988, 'pol': 6589015, 'ang': 9915, 'sot': 444, 'mah': 34, 'tgk': 13998, 'bre': 121144, 'mzn': 12690, 'aym': 453, 'yid': 145467, 'fra': 23070757, 'mkd': 276542, 'kom': 1463, 'che': 2119, 'kon': 1553, 'swa': 31319, 'swe': 3521224, 'chm': 8214, 'cho': 26, 'chr': 1393, 'frp': 8357, 'xal': 2652, 'chu': 8706, 'heb': 5467149, 'ton': 312, 'chy': 65, 'fry': 111983, 'kor': 2634092, 'war': 16769, 'msa': 969369, 'vec': 23199, 'pli': 44, 'chv': 2746, 'nrm': 6261, 'hun': 2713725, 'pnt': 701, 'ven': 456, 'ile': 801, 'bul': 1130405, 'bua': 262, 'iii': 2, 'hau': 173, 'cym': 70485, 'udm': 2173, 'ben': 147157, 'mlg': 1760, 'bel': 227568, 'ibo': 2412, 'hat': 10057, 'slv': 456115, 'xho': 180, 'aze': 149621, 'cat': 1548366, 'zha': 615, 'fil': 117861, 'mlt': 28794, 'slk': 433865, 'ful': 222, 'zho': 7302770, 'tat': 43570, 'sah': 4406, 'san': 23918, 'uig': 2817, 'jpn': 16149315, 'vol': 670, 'sag': 524, 'myv': 2148, 'lbe': 459, 'khm': 33262, 'tam': 304589, 'mya': 40958, 'spa': 13645596, 'tah': 1668, 'ina': 7971, 'bik': 850, 'pap': 4061, 'aar': 46, 'som': 9329, 'eng': 198361048, 'lim': 38901, 'lin': 3080, 'ewe': 5204, 'csb': 4278, 'lit': 363853, 'nap': 4732, 'nav': 4424, 'nau': 741, 'grn': 1759, 'new': 948, 'nya': 133, 'ssw': 401, 'afr': 103652, 'mri': 946, 'zza': 16711, 'kab': 4323, 'snd': 1271, 'mar': 289103, 'cor': 1053, 'kir': 12798, 'kan': 66924, 'kal': 4395, 'kas': 497, 'ilo': 9242, 'sqi': 196685, 'kin': 179, 'kau': 53, 'kat': 228550, 'lat': 326569, 'kaz': 189318, 'lav': 153766, 'mal': 313554, 'urd': 167269, 'bod': 6650, 'lao': 3646, 'yor': 1393, 'epo': 455591, 'ext': 9161, 'zul': 612, 'jbo': 10878, 'tha': 905118, 'fao': 7425})\n",
      "klaar\n"
     ]
=======
     "data": {
      "text/plain": [
       "0"
      ]
     },
     "execution_count": 10,
     "metadata": {},
     "output_type": "execute_result"
>>>>>>> parent of b85f9de... update
    }
   ],
   "source": [
    "# Your code \n",
    "print 'hoi'\n",
    "with open('wikipedia_userlang_iso639-3.tsv') as f:\n",
    "    c=0\n",
    "    editors=defaultdict(int)\n",
    "    edits=defaultdict(int)\n",
    "    multilingual=defaultdict(int)\n",
    "    Edits_by_multilinguals=defaultdict(int)\n",
    "    pairs= defaultdict(int)\n",
    "    c=0\n",
    "    editorcount = 0\n",
    "    multilingualcount = 0\n",
    "    for l in f:\n",
    "        # your code\n",
<<<<<<< HEAD
    "            c+=1\n",
    "            \n",
    "\n",
    "            #prepare line and variables   \n",
    "            l = l.split('\\t')\n",
    "            languages = l[1:]\n",
    "            count = 0\n",
    "            check = []\n",
    "            updatedlanguages = []\n",
    "            \n",
    "            #count the languages in the line\n",
    "            for language_and_count in languages:\n",
    "                editsperlang = int(language_and_count.split(',')[1])\n",
    "                if editsperlang > 1:\n",
    "                    check.append(int(language_and_count.split(',')[1]))\n",
    "                    count += int(language_and_count.split(',')[1])\n",
    "                    updatedlanguages.append(language_and_count)\n",
    "\n",
    "\n",
    "            #only consider users with 5 languages or less and more than 4 edits\n",
    "            if len(languages) <=5 and 1 not in check and count > 4:\n",
    "                editorcount = editorcount + 1\n",
    "                if len(updatedlanguages) >1:\n",
    "                    multilingualcount = multilingualcount + 1\n",
    "                for language_and_count in languages:\n",
    "                    #a language should have 2 edits or more\n",
    "                    if int(language_and_count.split(',')[1]) > 1:\n",
    "                        count = 0\n",
    "                        totaledits = 0\n",
    "                        language = language_and_count.split(',')[0]\n",
    "                        count = int(language_and_count.split(',')[1])\n",
    "\n",
    "                        if language in edits:\n",
    "                            edits[language] += count\n",
    "                        else:\n",
    "                            edits[language] = count\n",
    "\n",
    "                        if language in editors:\n",
    "                            editors[language] += 1\n",
    "                        else:\n",
    "                            editors[language] = 1\n",
    "\n",
    "                        if len(updatedlanguages) >1:\n",
    "                            if language in multilingual:\n",
    "                                multilingual[language] = multilingual[language] + 1\n",
    "                            else:\n",
    "                                multilingual[language] = 1\n",
    "                                \n",
    "                        if len(updatedlanguages) >1:\n",
    "                            if language in Edits_by_multilinguals:\n",
    "                                 Edits_by_multilinguals[language] += count\n",
    "                            else:\n",
    "                                 Edits_by_multilinguals[language] = count\n",
    "                            \n",
    "\n",
    "                      # om te debuggen doe ik hier 10**5==0: break \n",
    "                        \n",
    "                        \n",
    "                        \n",
    "                        \n",
    "                \n",
    "\n",
    "\n",
    "        \n",
    "len(pairs)\n",
    "print edits\n",
    "print 'klaar'"
=======
    "        split = l.split(\"\\t\")\n",
    "        changes = split[1:]\n",
    "        check = []\n",
    "        count = 0\n",
    "        for x in changes:\n",
    "            test = x.split(\",\")\n",
    "            count += int(test[1])\n",
    "            check.append(test[1])\n",
    "        if count > 4 and len(changes) <=5 and \"1\" not in check:\n",
    "            for edit in changes:\n",
    "                iets = edit\n",
    "                language = edit.split(\",\")\n",
    "\n",
    "                if language[0] in editors:\n",
    "                    editors[language[0]] += 1\n",
    "                else:\n",
    "                    editors[language[0]] = 1\n",
    "                if language[0] in edits:\n",
    "                    edits[language[0]] += int(language[1].replace(\"\\n\",\"\"))\n",
    "                else:\n",
    "                    edits[language[0]] = int(language[1].replace(\"\\n\",\"\"))\n",
    "                if len(changes) > 1:\n",
    "                    multilingual[language[0]] += 1\n",
    "                    Edits_by_mulitlinguals[language[0]] += int(language[1].replace(\"\\n\",\"\"))\n",
    "        c+=1\n",
    "        if c% 10**5==0:  # om te debuggen doe ik hier 10**2==0: break \n",
    "            iets = 1\n",
    "            #print l.split(\" \")   \n",
    "len(pairs)"
>>>>>>> parent of b85f9de... update
   ]
  },
  {
   "cell_type": "code",
<<<<<<< HEAD
   "execution_count": 60,
=======
   "execution_count": 12,
>>>>>>> parent of b85f9de... update
   "metadata": {
    "collapsed": false
   },
   "outputs": [
    {
     "name": "stdout",
     "output_type": "stream",
     "text": [
      "2562860\n",
      "279172\n"
     ]
    },
    {
     "data": {
      "text/html": [
       "<div>\n",
       "<table border=\"1\" class=\"dataframe\">\n",
       "  <thead>\n",
       "    <tr style=\"text-align: right;\">\n",
       "      <th></th>\n",
<<<<<<< HEAD
       "      <th>Code</th>\n",
       "      <th>Edits</th>\n",
       "      <th>Editors</th>\n",
       "      <th>Avg. edits per editor</th>\n",
       "      <th>Edits by multilinguals</th>\n",
=======
       "      <th>Edits</th>\n",
       "      <th>Editors</th>\n",
>>>>>>> parent of b85f9de... update
       "      <th>Multilinguals</th>\n",
       "      <th>Avg. edits per multilingual editor</th>\n",
       "    </tr>\n",
       "  </thead>\n",
       "  <tbody>\n",
       "    <tr>\n",
<<<<<<< HEAD
       "      <th>0</th>\n",
       "      <td>roh</td>\n",
       "      <td>6781</td>\n",
       "      <td>95</td>\n",
       "      <td>71.378947</td>\n",
       "      <td>4928</td>\n",
       "      <td>52</td>\n",
       "      <td>94.769231</td>\n",
       "    </tr>\n",
       "    <tr>\n",
       "      <th>1</th>\n",
       "      <td>sco</td>\n",
       "      <td>11474</td>\n",
       "      <td>228</td>\n",
       "      <td>50.324561</td>\n",
       "      <td>8116</td>\n",
       "      <td>165</td>\n",
       "      <td>49.187879</td>\n",
       "    </tr>\n",
       "    <tr>\n",
       "      <th>2</th>\n",
       "      <td>scn</td>\n",
       "      <td>24330</td>\n",
       "      <td>232</td>\n",
       "      <td>104.870690</td>\n",
       "      <td>20641</td>\n",
       "      <td>151</td>\n",
       "      <td>136.695364</td>\n",
       "    </tr>\n",
       "    <tr>\n",
       "      <th>3</th>\n",
       "      <td>rom</td>\n",
       "      <td>368</td>\n",
       "      <td>18</td>\n",
       "      <td>20.444444</td>\n",
       "      <td>352</td>\n",
       "      <td>16</td>\n",
       "      <td>22.000000</td>\n",
       "    </tr>\n",
       "    <tr>\n",
       "      <th>4</th>\n",
       "      <td>ron</td>\n",
       "      <td>852536</td>\n",
       "      <td>11157</td>\n",
       "      <td>76.412656</td>\n",
       "      <td>563675</td>\n",
       "      <td>4191</td>\n",
       "      <td>134.496540</td>\n",
=======
       "      <th>abk</th>\n",
       "      <td>2766</td>\n",
       "      <td>13</td>\n",
       "      <td>7</td>\n",
       "      <td>1491</td>\n",
       "    </tr>\n",
       "    <tr>\n",
       "      <th>afr</th>\n",
       "      <td>65648</td>\n",
       "      <td>458</td>\n",
       "      <td>328</td>\n",
       "      <td>59697</td>\n",
       "    </tr>\n",
       "    <tr>\n",
       "      <th>aka</th>\n",
       "      <td>313</td>\n",
       "      <td>27</td>\n",
       "      <td>21</td>\n",
       "      <td>246</td>\n",
       "    </tr>\n",
       "    <tr>\n",
       "      <th>amh</th>\n",
       "      <td>1843</td>\n",
       "      <td>56</td>\n",
       "      <td>33</td>\n",
       "      <td>1286</td>\n",
       "    </tr>\n",
       "    <tr>\n",
       "      <th>ang</th>\n",
       "      <td>6815</td>\n",
       "      <td>78</td>\n",
       "      <td>59</td>\n",
       "      <td>6498</td>\n",
>>>>>>> parent of b85f9de... update
       "    </tr>\n",
       "  </tbody>\n",
       "</table>\n",
       "</div>"
      ],
      "text/plain": [
<<<<<<< HEAD
       "  Code   Edits  Editors  Avg. edits per editor  Edits by multilinguals  \\\n",
       "0  roh    6781       95              71.378947                    4928   \n",
       "1  sco   11474      228              50.324561                    8116   \n",
       "2  scn   24330      232             104.870690                   20641   \n",
       "3  rom     368       18              20.444444                     352   \n",
       "4  ron  852536    11157              76.412656                  563675   \n",
       "\n",
       "   Multilinguals  Avg. edits per multilingual editor  \n",
       "0             52                           94.769231  \n",
       "1            165                           49.187879  \n",
       "2            151                          136.695364  \n",
       "3             16                           22.000000  \n",
       "4           4191                          134.496540  "
      ]
     },
     "execution_count": 60,
=======
       "     Edits  Editors  Multilinguals  Edits by mulitlunguals\n",
       "abk   2766       13              7                    1491\n",
       "afr  65648      458            328                   59697\n",
       "aka    313       27             21                     246\n",
       "amh   1843       56             33                    1286\n",
       "ang   6815       78             59                    6498"
      ]
     },
     "execution_count": 12,
>>>>>>> parent of b85f9de... update
     "metadata": {},
     "output_type": "execute_result"
    }
   ],
   "source": [
<<<<<<< HEAD
    "#Deel 1\n",
    "# jouw code hier \n",
    "Avg_edits_editor = {}\n",
    "Avg_edits_multilingual_editor = {}\n",
    "\n",
    "for key in edits:\n",
    "    average = edits[key]/editors[key]\n",
    "    Avg_edits_editor[key] = average\n",
    "    \n",
    "for key in Edits_by_multilinguals:\n",
    "    average = Edits_by_multilinguals[key]/multilingual[key]\n",
    "    Avg_edits_multilingual_editor[key] = average\n",
    "\n",
    "Edits_by_multilingualsDF = pd.DataFrame(list(Edits_by_multilinguals.iteritems()),\n",
    "                      columns=['Code','Edits by multilinguals'])\n",
    "\n",
    "multilingualDF = pd.DataFrame(list(multilingual.iteritems()),\n",
    "                      columns=['Code','Multilinguals'])\n",
    "\n",
    "editsDF = pd.DataFrame(list(edits.iteritems()),\n",
    "                      columns=['Code','Edits'])\n",
    "\n",
    "editorsDF = pd.DataFrame(list(editors.iteritems()),\n",
    "                      columns=['Code','Editors'])\n",
    "\n",
    "Avg_edits_editorDF = pd.DataFrame(list(Avg_edits_editor.iteritems()),\n",
    "                      columns=['Code','Avg. edits per editor'])\n",
    "\n",
    "Avg_edits_multilingual_editorDF = pd.DataFrame(list(Avg_edits_multilingual_editor.iteritems()),\n",
    "                      columns=['Code','Avg. edits per multilingual editor'])\n",
    "\n",
    "editorsDF.head()\n",
    "\n",
    "print editorcount\n",
    "print multilingualcount\n",
    "\n",
    "merged_inner = pd.merge(left=editsDF,right=editorsDF, left_on='Code', right_on='Code')\n",
    "merged_inner = pd.merge(left = merged_inner, right = Avg_edits_editorDF, left_on='Code', right_on='Code')\n",
    "merged_inner = pd.merge(left = merged_inner, right = Edits_by_multilingualsDF, left_on='Code', right_on='Code')\n",
    "merged_inner = pd.merge(left = merged_inner, right = multilingualDF, left_on='Code', right_on='Code')\n",
    "merged_inner = pd.merge(left = merged_inner, right = Avg_edits_multilingual_editorDF, left_on='Code', right_on='Code')\n",
    "merged_inner.head()\n",
    "\n"
=======
    "#Edits dataframe\n",
    "edits_data = pd.DataFrame.from_dict(edits,orient='index')\n",
    "edits_data.columns = [\"Edits\"]\n",
    "#Editors dataframe\n",
    "editors_data = pd.DataFrame.from_dict(editors,orient='index')\n",
    "editors_data.columns = [\"Editors\"]\n",
    "#Multilingual dataframe\n",
    "multilingual_data = pd.DataFrame.from_dict(multilingual,orient='index')\n",
    "multilingual_data.columns = [\"Multilinguals\"]\n",
    "#Edits by multilingual dataframe\n",
    "edits_by_multilingual_data = pd.DataFrame.from_dict(Edits_by_mulitlinguals,orient='index')\n",
    "edits_by_multilingual_data.columns = [\"Edits by mulitlunguals\"]\n",
    "\n",
    "stats = edits_data.join(editors_data,how=\"inner\")\n",
    "stats = stats.join(multilingual_data,how=\"inner\")\n",
    "stats = stats.join(edits_by_multilingual_data,how=\"inner\")\n",
    "stats.sort_index(ascending=True).head()"
   ]
  },
  {
   "cell_type": "code",
   "execution_count": 37,
   "metadata": {
    "collapsed": false
   },
   "outputs": [
    {
     "data": {
      "text/html": [
       "<div>\n",
       "<table border=\"1\" class=\"dataframe\">\n",
       "  <thead>\n",
       "    <tr style=\"text-align: right;\">\n",
       "      <th></th>\n",
       "    </tr>\n",
       "  </thead>\n",
       "  <tbody>\n",
       "  </tbody>\n",
       "</table>\n",
       "</div>"
      ],
      "text/plain": [
       "Empty DataFrame\n",
       "Columns: []\n",
       "Index: []"
      ]
     },
     "execution_count": 37,
     "metadata": {},
     "output_type": "execute_result"
    }
   ],
   "source": [
    "#Deel 1\n",
    "# jouw code hier \n",
    "editors_data = pd.DataFrame.from_dict(editors)\n",
    "edits_data = pd.DataFrame.from_dict(edits)\n",
    "multilingual_data = pd.DataFrame.from_dict(multilingual)\n",
    "Edits_by_mulitlinguals_data = pd.DataFrame.from_dict(Edits_by_mulitlinguals)\n",
    "Edits_by_mulitlinguals_data.head()\n",
    "#stats.head()"
>>>>>>> parent of b85f9de... update
   ]
  },
  {
   "cell_type": "code",
   "execution_count": 182,
   "metadata": {
    "collapsed": false
   },
   "outputs": [
    {
     "name": "stdout",
     "output_type": "stream",
     "text": [
      "1391 130 164\n"
     ]
    },
    {
     "data": {
      "text/html": [
       "<div>\n",
       "<table border=\"1\" class=\"dataframe\">\n",
       "  <thead>\n",
       "    <tr style=\"text-align: right;\">\n",
       "      <th></th>\n",
       "      <th>SourceLanguageCode</th>\n",
       "      <th>TargetLanguageCode</th>\n",
       "      <th>Coocurrencesmy</th>\n",
       "    </tr>\n",
       "  </thead>\n",
       "  <tbody>\n",
       "    <tr>\n",
       "      <th>2327</th>\n",
       "      <td>afr</td>\n",
       "      <td>eng</td>\n",
       "      <td>272</td>\n",
       "    </tr>\n",
       "    <tr>\n",
       "      <th>2775</th>\n",
       "      <td>afr</td>\n",
       "      <td>fra</td>\n",
       "      <td>35</td>\n",
       "    </tr>\n",
       "    <tr>\n",
       "      <th>3964</th>\n",
       "      <td>afr</td>\n",
       "      <td>ita</td>\n",
       "      <td>7</td>\n",
       "    </tr>\n",
       "    <tr>\n",
       "      <th>1046</th>\n",
       "      <td>afr</td>\n",
       "      <td>spa</td>\n",
       "      <td>21</td>\n",
       "    </tr>\n",
       "    <tr>\n",
       "      <th>3012</th>\n",
       "      <td>afr</td>\n",
       "      <td>deu</td>\n",
       "      <td>70</td>\n",
       "    </tr>\n",
       "    <tr>\n",
       "      <th>456</th>\n",
       "      <td>afr</td>\n",
       "      <td>epo</td>\n",
       "      <td>6</td>\n",
       "    </tr>\n",
       "    <tr>\n",
       "      <th>2501</th>\n",
       "      <td>afr</td>\n",
       "      <td>nld</td>\n",
       "      <td>79</td>\n",
       "    </tr>\n",
       "    <tr>\n",
       "      <th>226</th>\n",
       "      <td>afr</td>\n",
       "      <td>rus</td>\n",
       "      <td>11</td>\n",
       "    </tr>\n",
       "    <tr>\n",
       "      <th>2082</th>\n",
       "      <td>afr</td>\n",
       "      <td>pol</td>\n",
       "      <td>6</td>\n",
       "    </tr>\n",
       "    <tr>\n",
       "      <th>3055</th>\n",
       "      <td>afr</td>\n",
       "      <td>lim</td>\n",
       "      <td>5</td>\n",
       "    </tr>\n",
       "  </tbody>\n",
       "</table>\n",
       "</div>"
      ],
      "text/plain": [
       "     SourceLanguageCode TargetLanguageCode  Coocurrencesmy\n",
       "2327                afr                eng             272\n",
       "2775                afr                fra              35\n",
       "3964                afr                ita               7\n",
       "1046                afr                spa              21\n",
       "3012                afr                deu              70\n",
       "456                 afr                epo               6\n",
       "2501                afr                nld              79\n",
       "226                 afr                rus              11\n",
       "2082                afr                pol               6\n",
       "3055                afr                lim               5"
      ]
     },
     "execution_count": 182,
     "metadata": {},
     "output_type": "execute_result"
    }
   ],
   "source": [
    "#Deel2\n",
    "\n",
    "# jouw code hier \n",
    "edges.head(10)"
   ]
  },
  {
   "cell_type": "markdown",
   "metadata": {},
   "source": [
    "# Vergelijk \n",
    "\n",
    "We gaan nu onze dataframes vergelijken met die we hebben opgehaald.\n",
    "\n",
    "We zijn natuurlijk erg benieuwd of er verschillen zijn, en vooral ook groot die dan zijn, als ze er zijn.\n",
    "\n",
    "1. Join `dataset_stats_wikipedia` en `stats` in een nieuwe dataframe `samen`. \n",
    "    * laat met `samen.describe()` zien hoe groot of klein de verschillen zijn\n",
    "2. Maak een functie `fout_percentage` waar je twee kolommen en een dataframe aan geeft en die _het verschil tussen die twee kolommen bepaalt, en omzet naar een \"foutpercentage\"_.\n",
    "3. Bereken dat percentage voor de vier kolommen `['Editors', 'Edits','Multilinguals','Edits by mulitlinguals']` en print het netjes uit.\n",
    "4. Leg in een paar zinnen uit waarom jouw maat voor \"foutpercentage\" echt ergens op slaat, en het een goede indicator geeft. \n",
    "5. Doe tenslotte hetzelfde voor `edges`. \n",
    "    * Hier doe je natuurlijk een `merge`\n",
    "    * Bekijk hier eens het verschil tussen een outer en een inner join.\n",
    "    * Leg uit wat er hier aan de hand is.\n",
    "    * Kan je het verschil verklaren?\n"
   ]
  },
  {
   "cell_type": "code",
   "execution_count": 230,
   "metadata": {
    "collapsed": false
   },
   "outputs": [
    {
     "name": "stdout",
     "output_type": "stream",
     "text": [
      "Editors\t0.518\t4689\n",
      "Edits\t0.014\t17285\n",
      "Multilinguals\t0.349\t503\n",
      "Edits by mulitlinguals\t0.003\t1006\n"
     ]
    }
   ],
   "source": [
    "# vergelijk stats met dataset_stats_wikipedia\n",
    "\n",
    "samen=\n",
    "\n",
    "def fout_percentage(col1,col2,df):\n",
    "     # jouw code hier \n",
    "\n",
    " \n",
    "\n",
    "for col in stats.columns:\n",
    "    print \"%s\\t%s\\t%s\" %(col, fout_percentage(col, col+'my', samen)"
   ]
  },
  {
   "cell_type": "code",
   "execution_count": 231,
   "metadata": {
    "collapsed": false
   },
   "outputs": [
    {
     "data": {
      "text/html": [
       "<div>\n",
       "<table border=\"1\" class=\"dataframe\">\n",
       "  <thead>\n",
       "    <tr style=\"text-align: right;\">\n",
       "      <th></th>\n",
       "      <th>Editors</th>\n",
       "      <th>Edits</th>\n",
       "      <th>Multilinguals</th>\n",
       "      <th>Edits by mulitlinguals</th>\n",
       "      <th>Editorsmy</th>\n",
       "      <th>Editsmy</th>\n",
       "      <th>Multilingualsmy</th>\n",
       "      <th>Edits by mulitlingualsmy</th>\n",
       "    </tr>\n",
       "  </thead>\n",
       "  <tbody>\n",
       "    <tr>\n",
       "      <th>count</th>\n",
       "      <td>238.000000</td>\n",
       "      <td>2.380000e+02</td>\n",
       "      <td>238.000000</td>\n",
       "      <td>238.000000</td>\n",
       "      <td>238.000000</td>\n",
       "      <td>2.380000e+02</td>\n",
       "      <td>238.000000</td>\n",
       "      <td>238.000000</td>\n",
       "    </tr>\n",
       "    <tr>\n",
       "      <th>mean</th>\n",
       "      <td>12243.554622</td>\n",
       "      <td>1.608757e+06</td>\n",
       "      <td>2648.226891</td>\n",
       "      <td>729135.878151</td>\n",
       "      <td>12307.088235</td>\n",
       "      <td>1.608984e+06</td>\n",
       "      <td>2657.487395</td>\n",
       "      <td>729154.399160</td>\n",
       "    </tr>\n",
       "    <tr>\n",
       "      <th>std</th>\n",
       "      <td>105148.317861</td>\n",
       "      <td>1.322120e+07</td>\n",
       "      <td>15606.769464</td>\n",
       "      <td>5342618.270859</td>\n",
       "      <td>105478.073646</td>\n",
       "      <td>1.322242e+07</td>\n",
       "      <td>15647.386691</td>\n",
       "      <td>5342696.119103</td>\n",
       "    </tr>\n",
       "    <tr>\n",
       "      <th>min</th>\n",
       "      <td>1.000000</td>\n",
       "      <td>2.000000e+00</td>\n",
       "      <td>1.000000</td>\n",
       "      <td>2.000000</td>\n",
       "      <td>1.000000</td>\n",
       "      <td>2.000000e+00</td>\n",
       "      <td>1.000000</td>\n",
       "      <td>2.000000</td>\n",
       "    </tr>\n",
       "    <tr>\n",
       "      <th>25%</th>\n",
       "      <td>20.250000</td>\n",
       "      <td>1.410500e+03</td>\n",
       "      <td>13.000000</td>\n",
       "      <td>562.500000</td>\n",
       "      <td>21.000000</td>\n",
       "      <td>1.413500e+03</td>\n",
       "      <td>13.000000</td>\n",
       "      <td>562.500000</td>\n",
       "    </tr>\n",
       "    <tr>\n",
       "      <th>50%</th>\n",
       "      <td>61.500000</td>\n",
       "      <td>8.092500e+03</td>\n",
       "      <td>39.000000</td>\n",
       "      <td>5325.500000</td>\n",
       "      <td>63.500000</td>\n",
       "      <td>8.094500e+03</td>\n",
       "      <td>39.000000</td>\n",
       "      <td>5325.500000</td>\n",
       "    </tr>\n",
       "    <tr>\n",
       "      <th>75%</th>\n",
       "      <td>458.250000</td>\n",
       "      <td>1.099002e+05</td>\n",
       "      <td>238.500000</td>\n",
       "      <td>64802.000000</td>\n",
       "      <td>463.250000</td>\n",
       "      <td>1.099082e+05</td>\n",
       "      <td>240.000000</td>\n",
       "      <td>64802.000000</td>\n",
       "    </tr>\n",
       "    <tr>\n",
       "      <th>max</th>\n",
       "      <td>1589250.000000</td>\n",
       "      <td>1.983610e+08</td>\n",
       "      <td>218320.000000</td>\n",
       "      <td>78341211.000000</td>\n",
       "      <td>1593939.000000</td>\n",
       "      <td>1.983783e+08</td>\n",
       "      <td>218823.000000</td>\n",
       "      <td>78342217.000000</td>\n",
       "    </tr>\n",
       "  </tbody>\n",
       "</table>\n",
       "</div>"
      ],
      "text/plain": [
       "              Editors         Edits  Multilinguals  Edits by mulitlinguals  \\\n",
       "count      238.000000  2.380000e+02     238.000000              238.000000   \n",
       "mean     12243.554622  1.608757e+06    2648.226891           729135.878151   \n",
       "std     105148.317861  1.322120e+07   15606.769464          5342618.270859   \n",
       "min          1.000000  2.000000e+00       1.000000                2.000000   \n",
       "25%         20.250000  1.410500e+03      13.000000              562.500000   \n",
       "50%         61.500000  8.092500e+03      39.000000             5325.500000   \n",
       "75%        458.250000  1.099002e+05     238.500000            64802.000000   \n",
       "max    1589250.000000  1.983610e+08  218320.000000         78341211.000000   \n",
       "\n",
       "            Editorsmy       Editsmy  Multilingualsmy  Edits by mulitlingualsmy  \n",
       "count      238.000000  2.380000e+02       238.000000                238.000000  \n",
       "mean     12307.088235  1.608984e+06      2657.487395             729154.399160  \n",
       "std     105478.073646  1.322242e+07     15647.386691            5342696.119103  \n",
       "min          1.000000  2.000000e+00         1.000000                  2.000000  \n",
       "25%         21.000000  1.413500e+03        13.000000                562.500000  \n",
       "50%         63.500000  8.094500e+03        39.000000               5325.500000  \n",
       "75%        463.250000  1.099082e+05       240.000000              64802.000000  \n",
       "max    1593939.000000  1.983783e+08    218823.000000           78342217.000000  "
      ]
     },
     "execution_count": 231,
     "metadata": {},
     "output_type": "execute_result"
    }
   ],
   "source": [
    "samen.describe()"
   ]
  },
  {
   "cell_type": "code",
   "execution_count": null,
   "metadata": {
    "collapsed": false
   },
   "outputs": [],
   "source": [
    "# vergelijk edges met \"inner join\"\n",
    " "
   ]
  },
  {
   "cell_type": "code",
   "execution_count": null,
   "metadata": {
    "collapsed": false
   },
   "outputs": [],
   "source": [
    "# vergelijk edges met \"outer join\"\n",
    "\n",
    "edges2=pd.merge(edges,wikipedia_edges, how='outer', on=['SourceLanguageCode','TargetLanguageCode'])\n",
    "print fout_percentage('Coocurrencesmy','Coocurrences', edges2)\n",
    "edges2.describe()"
   ]
  },
  {
   "cell_type": "markdown",
   "metadata": {},
   "source": [
    "# Compute our own PhiCorrelation and T-statistic\n",
    "\n",
    "Maak een functie `PhiCorrelation(i,j)` die gegeven 2 talen, de $\\phi$ correlatie en de $t$-statistic uitrekent volgens vergelijkingen [1] en [2] uit het artikel.\n",
    "\n",
    "* Let vooral op hoe je $N$ bepaalt. En beschrijf goed waarom je precies die keuze hebt genomen. Je uitkomsten hangen daar sterk vanaf."
   ]
  },
  {
   "cell_type": "code",
   "execution_count": 213,
   "metadata": {
    "collapsed": false
   },
   "outputs": [
    {
     "data": {
      "text/plain": [
       "(79, 531, 26706, 2929087, 0.019785094309992902, 3.2337861998200852)"
      ]
     },
     "execution_count": 213,
     "metadata": {},
     "output_type": "execute_result"
    }
   ],
   "source": [
    "# Compute our own PhiCorrelation and T-statistic\n",
    "\n",
    "\n",
    "def PhiCorrelation(i,j):\n",
    "     #Your code here\n",
    "    return Mij,Mi, Mj,  N, PhiCorrelation, Tstatistic\n",
    "\n",
    "# test\n",
    "PhiCorrelation('afr','nld')"
   ]
  },
  {
   "cell_type": "markdown",
   "metadata": {},
   "source": [
    "# Reflectie\n",
    "Je hebt getracht een deel van het artikel te reproduceren. Ook hebben we gedacht over het artikel en de mate van herhaalbaarheid van de vermelde gegevens. \n",
    "\n",
    "Geef nu in een half A4 je eigen mening. Behandel deze twee punten:\n",
    "\n",
    "1. Wat was al goed gedaan?\n",
    "2. Wat kon beter en hoe dan?"
   ]
  },
  {
   "cell_type": "code",
   "execution_count": null,
   "metadata": {
    "collapsed": true
   },
   "outputs": [],
   "source": []
  }
 ],
 "metadata": {
  "kernelspec": {
   "display_name": "Python 2",
   "language": "python",
   "name": "python2"
  },
  "language_info": {
   "codemirror_mode": {
    "name": "ipython",
    "version": 2
   },
   "file_extension": ".py",
   "mimetype": "text/x-python",
   "name": "python",
   "nbconvert_exporter": "python",
   "pygments_lexer": "ipython2",
   "version": "2.7.11"
  }
 },
 "nbformat": 4,
 "nbformat_minor": 0
}
