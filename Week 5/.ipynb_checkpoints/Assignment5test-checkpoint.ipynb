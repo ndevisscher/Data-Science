{
 "cells": [
  {
   "cell_type": "markdown",
   "metadata": {},
   "source": [
    "#  Assignment 5\n",
    "\n",
    "## Notebook made by  \n",
    "\n",
    "|** Name** | **Student id** | **email**|\n",
    "|:- |:-|:-|\n",
    "|. | | |\n",
    "|  | |. |\n",
    "\n",
    "### Pledge (taken from [Coursera's Honor Code](https://www.coursera.org/about/terms/honorcode) )\n",
    "\n",
    "\n",
    "\n",
    "Put here a selfie with your photo where you hold a signed paper with the following text: (if this is team work, put two selfies here). The link must be to some place on the web, not to a local file. \n",
    "\n",
    "> My answers to homework, quizzes and exams will be my own work (except for assignments that explicitly permit collaboration).\n",
    "\n",
    ">I will not make solutions to homework, quizzes or exams available to anyone else. This includes both solutions written by me, as well as any official solutions provided by the course staff.\n",
    "\n",
    ">I will not engage in any other activities that will dishonestly improve my results or dishonestly improve/hurt the results of others.\n",
    "\n",
    "<img src='link to your selfie'/>\n",
    "\n",
    "### Note\n",
    "* **Assignments without the selfies or completely filled in information will not be graded and receive 0 points.**\n"
   ]
  },
  {
   "cell_type": "markdown",
   "metadata": {},
   "source": [
    "We maken de toetsassignment af. We bekijken dus weer het artikel <http://language.media.mit.edu/paper>. In de toets hebben we de netwerkdata gebaseerd op boekvertalingen gemaakt.\n",
    "In dit huiswerk gaan we verder.\n",
    "\n",
    " "
   ]
  },
  {
   "cell_type": "code",
   "execution_count": 202,
   "metadata": {
    "collapsed": true
   },
   "outputs": [],
   "source": [
    "%matplotlib inline\n",
    "import pandas as pd\n",
    "import re\n",
    "from lxml import etree \n",
    "from bz2file import BZ2File\n",
    "import codecs\n",
    "import nltk\n",
    "from collections import defaultdict\n",
    "from  itertools import combinations  # ideal for creating all possible pairs that out can make out of a set\n",
    "from __future__ import division\n",
    "from math import sqrt "
   ]
  },
  {
   "cell_type": "markdown",
   "metadata": {},
   "source": [
    "### Deel  Wikipedia  \n",
    "\n",
    " \n",
    "\n",
    "1. Maak   van de Wikipedia _raw_ dataset de netwerk  datasets die op <http://language.media.mit.edu/data> beschreven staan. \n",
    "2. We bekijken in hoeverre onze resultaten afwijken van die in de geleverde bewerkte datasets.\n",
    "3. We leggen eventuele verschillen uit.\n",
    "\n",
    "#### In Stapjes\n",
    "\n",
    "We doen de opdracht in een aantal stapjes.\n",
    "\n",
    "#### Let op, je notebook moet vanzelf draaien. Alle data moet opgehaald worden."
   ]
  },
  {
   "cell_type": "markdown",
   "metadata": {},
   "source": [
    "# Download \n",
    "\n",
    "1. Download de ruwe dataset als zip file, ontzip hem en sla hem in de directory op waarin dit notebook ook staat.\n",
    "    * Dit mag je met de hand doen. De code **moet niet runbaar** in je notebook staan.\n",
    "    * Maar zorg dat de rest van de code er vanuit gaat dat `wikipedia_userlang_iso639-3.tsv` in dezelfde folder staat als dit notebook\n",
    "2. Lees de 2 bewerkte datasets over Wikipedia _Wikipedia Stats by Language_ en _Edges_ direct in van de urls in  pandas Dataframes, die je respectivelijk `dataset_stats_wikipedia` en `wikipedia_edges` noemt.\n",
    "    1. Maak de Taal code de index in het eerste frame, en hou alleen de Kolommen `['Editors', 'Edits','Multilinguals','Edits by mulitlinguals']`\n",
    "    2. Sorteer het frame op de index\n",
    "    2. Verwijder de kolommen `SourceLanguageName\tTargetLanguageName\tSourcePopulation\tTargetPopulations` uit het tweede frame\n",
    "    3. Sorteer het frame op `SourceLanguageName`\n",
    "    3. Laat steeds met `head()` zien dat het werkt.\n",
    "    \n",
    "### Je antwoord bestaat uit 2 cellen"
   ]
  },
  {
   "cell_type": "code",
   "execution_count": 216,
   "metadata": {
    "collapsed": false
   },
   "outputs": [
    {
     "data": {
      "text/html": [
       "<div>\n",
       "<table border=\"1\" class=\"dataframe\">\n",
       "  <thead>\n",
       "    <tr style=\"text-align: right;\">\n",
       "      <th></th>\n",
       "      <th>Editors</th>\n",
       "      <th>Edits</th>\n",
       "      <th>Multilinguals</th>\n",
       "      <th>Edits by mulitlinguals</th>\n",
       "    </tr>\n",
       "    <tr>\n",
       "      <th>Code</th>\n",
       "      <th></th>\n",
       "      <th></th>\n",
       "      <th></th>\n",
       "      <th></th>\n",
       "    </tr>\n",
       "  </thead>\n",
       "  <tbody>\n",
       "    <tr>\n",
       "      <th>aar</th>\n",
       "      <td>4</td>\n",
       "      <td>46</td>\n",
       "      <td>3</td>\n",
       "      <td>9</td>\n",
       "    </tr>\n",
       "    <tr>\n",
       "      <th>abk</th>\n",
       "      <td>15</td>\n",
       "      <td>2807</td>\n",
       "      <td>7</td>\n",
       "      <td>1494</td>\n",
       "    </tr>\n",
       "    <tr>\n",
       "      <th>afr</th>\n",
       "      <td>511</td>\n",
       "      <td>103652</td>\n",
       "      <td>352</td>\n",
       "      <td>95988</td>\n",
       "    </tr>\n",
       "    <tr>\n",
       "      <th>aka</th>\n",
       "      <td>31</td>\n",
       "      <td>327</td>\n",
       "      <td>24</td>\n",
       "      <td>240</td>\n",
       "    </tr>\n",
       "    <tr>\n",
       "      <th>amh</th>\n",
       "      <td>68</td>\n",
       "      <td>4596</td>\n",
       "      <td>45</td>\n",
       "      <td>4039</td>\n",
       "    </tr>\n",
       "  </tbody>\n",
       "</table>\n",
       "</div>"
      ],
      "text/plain": [
       "      Editors   Edits  Multilinguals  Edits by mulitlinguals\n",
       "Code                                                        \n",
       "aar         4      46              3                       9\n",
       "abk        15    2807              7                    1494\n",
       "afr       511  103652            352                   95988\n",
       "aka        31     327             24                     240\n",
       "amh        68    4596             45                    4039"
      ]
     },
     "execution_count": 216,
     "metadata": {},
     "output_type": "execute_result"
    }
   ],
   "source": [
    "#download the data\n",
    "\n",
    "# jouw code hier \n",
    "dataset_stats_wikipedia.head()"
   ]
  },
  {
   "cell_type": "code",
   "execution_count": 225,
   "metadata": {
    "collapsed": false
   },
   "outputs": [
    {
     "data": {
      "text/html": [
       "<div>\n",
       "<table border=\"1\" class=\"dataframe\">\n",
       "  <thead>\n",
       "    <tr style=\"text-align: right;\">\n",
       "      <th></th>\n",
       "      <th>SourceLanguageCode</th>\n",
       "      <th>TargetLanguageCode</th>\n",
       "      <th>Coocurrences</th>\n",
       "      <th>PhiCorrelation</th>\n",
       "      <th>Tstatistic</th>\n",
       "    </tr>\n",
       "  </thead>\n",
       "  <tbody>\n",
       "    <tr>\n",
       "      <th>0</th>\n",
       "      <td>afr</td>\n",
       "      <td>eng</td>\n",
       "      <td>271</td>\n",
       "      <td>0.013648</td>\n",
       "      <td>17.207148</td>\n",
       "    </tr>\n",
       "    <tr>\n",
       "      <th>1</th>\n",
       "      <td>afr</td>\n",
       "      <td>nld</td>\n",
       "      <td>78</td>\n",
       "      <td>0.015377</td>\n",
       "      <td>3.332197</td>\n",
       "    </tr>\n",
       "    <tr>\n",
       "      <th>2</th>\n",
       "      <td>amh</td>\n",
       "      <td>eng</td>\n",
       "      <td>28</td>\n",
       "      <td>0.004344</td>\n",
       "      <td>5.476711</td>\n",
       "    </tr>\n",
       "    <tr>\n",
       "      <th>3</th>\n",
       "      <td>ang</td>\n",
       "      <td>eng</td>\n",
       "      <td>51</td>\n",
       "      <td>0.006363</td>\n",
       "      <td>8.021067</td>\n",
       "    </tr>\n",
       "    <tr>\n",
       "      <th>4</th>\n",
       "      <td>ara</td>\n",
       "      <td>deu</td>\n",
       "      <td>446</td>\n",
       "      <td>0.007497</td>\n",
       "      <td>3.550224</td>\n",
       "    </tr>\n",
       "  </tbody>\n",
       "</table>\n",
       "</div>"
      ],
      "text/plain": [
       "  SourceLanguageCode TargetLanguageCode  Coocurrences  PhiCorrelation  \\\n",
       "0                afr                eng           271        0.013648   \n",
       "1                afr                nld            78        0.015377   \n",
       "2                amh                eng            28        0.004344   \n",
       "3                ang                eng            51        0.006363   \n",
       "4                ara                deu           446        0.007497   \n",
       "\n",
       "   Tstatistic  \n",
       "0   17.207148  \n",
       "1    3.332197  \n",
       "2    5.476711  \n",
       "3    8.021067  \n",
       "4    3.550224  "
      ]
     },
     "execution_count": 225,
     "metadata": {},
     "output_type": "execute_result"
    }
   ],
   "source": [
    "# jouw code hier \n",
    "wikipedia_edges.head()"
   ]
  },
  {
   "cell_type": "markdown",
   "metadata": {},
   "source": [
    "# Haal gegevens uit de ruwe data, deel 1\n",
    "\n",
    "* De file `'wikipedia_userlang_iso639-3.tsv'` lijkt een spreadsheet maar hij heeft niet op elke regel evenveel kolommen.\n",
    "* Processing met pandas is dus ook lastig.\n",
    "* Als alternatief gaan we file zelf regel voor regel  inlezen, en de gewenste gegevens opslaan.\n",
    "* Ons einddoel is om een dataframe te maken dat er precies zo uitziet als `dataset_stats_wikipedia`\n",
    "* We doen dat in 2 stappen:\n",
    "    1. We maken een aantal dicts aan met de gewenste gegevens\n",
    "    2. Van elke dict maken we een dataframe met `pd.DataFrame.from_dict`\n",
    "    3. Die plakken we allemaal aan elkaar met `join` (neem een inner join)\n",
    "    4. Noem het eindresultaat `stats`, sorteer het ook op de index en laat het begin zien met `head`.\n",
    "    5. Check natuurlijk zelf of je op de goede weg zit door je resultaat te vergelijken met `dataset_stats_wikipedia`\n",
    "* Hieronder staat wat code om je op weg te helpen\n",
    "* **Lees het artikel en de supplementary material goed om net als zij de ruwe data te filteren.**\n",
    "\n",
    "\n",
    "# Haal gegevens uit de ruwe data, deel 2\n",
    "\n",
    "* In dezelfde code waarin je de vorige vraag hebt gemaakt, maak je ook een dict `pairs` aan. Hier zijn de sleutels paren van taalcodes, **waarbij de eerste altijd alfabetisch eerder is dan de tweede**, en hun waarde het aantal cooccurences.\n",
    "* Maak van dit dict een Dataframe `edges`, waarbij `edges.columns=['SourceLanguageCode','TargetLanguageCode','Coocurrencesmy']`\n",
    "* Sorteer ook hier op `'SourceLanguageCode'`\n",
    "* **Lees het artikel en de supplementary material goed om net als zij de ruwe data te filteren.**"
   ]
  },
  {
   "cell_type": "code",
   "execution_count": 111,
   "metadata": {
    "collapsed": false
   },
   "outputs": [
    {
     "name": "stdout",
     "output_type": "stream",
     "text": [
      "100000\n",
      "200000\n",
      "300000\n",
      "400000\n",
      "500000\n",
      "600000\n",
      "700000\n",
      "800000\n",
      "900000\n",
      "1000000\n",
      "1100000\n",
      "1200000\n",
      "1300000\n",
      "1400000\n",
      "1500000\n",
      "1600000\n",
      "1700000\n",
      "1800000\n",
      "1900000\n",
      "2000000\n",
      "2100000\n",
      "2200000\n",
      "2300000\n",
      "2400000\n",
      "2500000\n"
     ]
    },
    {
     "data": {
      "text/plain": [
       "4157"
      ]
     },
     "execution_count": 111,
     "metadata": {},
     "output_type": "execute_result"
    }
   ],
   "source": [
    "# Your code \n",
    "with open('wikipedia_userlang_iso639-3.tsv') as f:\n",
    "    c=0\n",
    "    editors=defaultdict(int)\n",
    "    edits=defaultdict(int)\n",
    "    multilingual=defaultdict(int)\n",
    "    Edits_by_mulitlinguals=defaultdict(int)\n",
    "    pairs= defaultdict(int)\n",
    "    c=0\n",
    "    for l in f:\n",
    "        # your code\n",
    "            c+=1\n",
    "            if c% 10**5==0:  # om te debuggen doe ik hier 10**2==0: break \n",
    "                print c\n",
    "        \n",
    "len(pairs)"
   ]
  },
  {
   "cell_type": "code",
   "execution_count": 220,
   "metadata": {
    "collapsed": false
   },
   "outputs": [
    {
     "data": {
      "text/html": [
       "<div>\n",
       "<table border=\"1\" class=\"dataframe\">\n",
       "  <thead>\n",
       "    <tr style=\"text-align: right;\">\n",
       "      <th></th>\n",
       "      <th>Editors</th>\n",
       "      <th>Edits</th>\n",
       "      <th>Multilinguals</th>\n",
       "      <th>Edits by mulitlinguals</th>\n",
       "    </tr>\n",
       "  </thead>\n",
       "  <tbody>\n",
       "    <tr>\n",
       "      <th>aar</th>\n",
       "      <td>5</td>\n",
       "      <td>48</td>\n",
       "      <td>4</td>\n",
       "      <td>11</td>\n",
       "    </tr>\n",
       "    <tr>\n",
       "      <th>abk</th>\n",
       "      <td>15</td>\n",
       "      <td>2807</td>\n",
       "      <td>7</td>\n",
       "      <td>1494</td>\n",
       "    </tr>\n",
       "    <tr>\n",
       "      <th>afr</th>\n",
       "      <td>521</td>\n",
       "      <td>103684</td>\n",
       "      <td>355</td>\n",
       "      <td>95994</td>\n",
       "    </tr>\n",
       "    <tr>\n",
       "      <th>aka</th>\n",
       "      <td>32</td>\n",
       "      <td>329</td>\n",
       "      <td>25</td>\n",
       "      <td>242</td>\n",
       "    </tr>\n",
       "    <tr>\n",
       "      <th>amh</th>\n",
       "      <td>69</td>\n",
       "      <td>4600</td>\n",
       "      <td>45</td>\n",
       "      <td>4039</td>\n",
       "    </tr>\n",
       "  </tbody>\n",
       "</table>\n",
       "</div>"
      ],
      "text/plain": [
       "     Editors   Edits  Multilinguals  Edits by mulitlinguals\n",
       "aar        5      48              4                      11\n",
       "abk       15    2807              7                    1494\n",
       "afr      521  103684            355                   95994\n",
       "aka       32     329             25                     242\n",
       "amh       69    4600             45                    4039"
      ]
     },
     "execution_count": 220,
     "metadata": {},
     "output_type": "execute_result"
    }
   ],
   "source": [
    "#Deel 1\n",
    "# jouw code hier \n",
    "stats.head()"
   ]
  },
  {
   "cell_type": "code",
   "execution_count": 182,
   "metadata": {
    "collapsed": false
   },
   "outputs": [
    {
     "name": "stdout",
     "output_type": "stream",
     "text": [
      "1391 130 164\n"
     ]
    },
    {
     "data": {
      "text/html": [
       "<div>\n",
       "<table border=\"1\" class=\"dataframe\">\n",
       "  <thead>\n",
       "    <tr style=\"text-align: right;\">\n",
       "      <th></th>\n",
       "      <th>SourceLanguageCode</th>\n",
       "      <th>TargetLanguageCode</th>\n",
       "      <th>Coocurrencesmy</th>\n",
       "    </tr>\n",
       "  </thead>\n",
       "  <tbody>\n",
       "    <tr>\n",
       "      <th>2327</th>\n",
       "      <td>afr</td>\n",
       "      <td>eng</td>\n",
       "      <td>272</td>\n",
       "    </tr>\n",
       "    <tr>\n",
       "      <th>2775</th>\n",
       "      <td>afr</td>\n",
       "      <td>fra</td>\n",
       "      <td>35</td>\n",
       "    </tr>\n",
       "    <tr>\n",
       "      <th>3964</th>\n",
       "      <td>afr</td>\n",
       "      <td>ita</td>\n",
       "      <td>7</td>\n",
       "    </tr>\n",
       "    <tr>\n",
       "      <th>1046</th>\n",
       "      <td>afr</td>\n",
       "      <td>spa</td>\n",
       "      <td>21</td>\n",
       "    </tr>\n",
       "    <tr>\n",
       "      <th>3012</th>\n",
       "      <td>afr</td>\n",
       "      <td>deu</td>\n",
       "      <td>70</td>\n",
       "    </tr>\n",
       "    <tr>\n",
       "      <th>456</th>\n",
       "      <td>afr</td>\n",
       "      <td>epo</td>\n",
       "      <td>6</td>\n",
       "    </tr>\n",
       "    <tr>\n",
       "      <th>2501</th>\n",
       "      <td>afr</td>\n",
       "      <td>nld</td>\n",
       "      <td>79</td>\n",
       "    </tr>\n",
       "    <tr>\n",
       "      <th>226</th>\n",
       "      <td>afr</td>\n",
       "      <td>rus</td>\n",
       "      <td>11</td>\n",
       "    </tr>\n",
       "    <tr>\n",
       "      <th>2082</th>\n",
       "      <td>afr</td>\n",
       "      <td>pol</td>\n",
       "      <td>6</td>\n",
       "    </tr>\n",
       "    <tr>\n",
       "      <th>3055</th>\n",
       "      <td>afr</td>\n",
       "      <td>lim</td>\n",
       "      <td>5</td>\n",
       "    </tr>\n",
       "  </tbody>\n",
       "</table>\n",
       "</div>"
      ],
      "text/plain": [
       "     SourceLanguageCode TargetLanguageCode  Coocurrencesmy\n",
       "2327                afr                eng             272\n",
       "2775                afr                fra              35\n",
       "3964                afr                ita               7\n",
       "1046                afr                spa              21\n",
       "3012                afr                deu              70\n",
       "456                 afr                epo               6\n",
       "2501                afr                nld              79\n",
       "226                 afr                rus              11\n",
       "2082                afr                pol               6\n",
       "3055                afr                lim               5"
      ]
     },
     "execution_count": 182,
     "metadata": {},
     "output_type": "execute_result"
    }
   ],
   "source": [
    "#Deel2\n",
    "\n",
    "# jouw code hier \n",
    "edges.head(10)"
   ]
  },
  {
   "cell_type": "markdown",
   "metadata": {},
   "source": [
    "# Vergelijk \n",
    "\n",
    "We gaan nu onze dataframes vergelijken met die we hebben opgehaald.\n",
    "\n",
    "We zijn natuurlijk erg benieuwd of er verschillen zijn, en vooral ook groot die dan zijn, als ze er zijn.\n",
    "\n",
    "1. Join `dataset_stats_wikipedia` en `stats` in een nieuwe dataframe `samen`. \n",
    "    * laat met `samen.describe()` zien hoe groot of klein de verschillen zijn\n",
    "2. Maak een functie `fout_percentage` waar je twee kolommen en een dataframe aan geeft en die _het verschil tussen die twee kolommen bepaalt, en omzet naar een \"foutpercentage\"_.\n",
    "3. Bereken dat percentage voor de vier kolommen `['Editors', 'Edits','Multilinguals','Edits by mulitlinguals']` en print het netjes uit.\n",
    "4. Leg in een paar zinnen uit waarom jouw maat voor \"foutpercentage\" echt ergens op slaat, en het een goede indicator geeft. \n",
    "5. Doe tenslotte hetzelfde voor `edges`. \n",
    "    * Hier doe je natuurlijk een `merge`\n",
    "    * Bekijk hier eens het verschil tussen een outer en een inner join.\n",
    "    * Leg uit wat er hier aan de hand is.\n",
    "    * Kan je het verschil verklaren?\n"
   ]
  },
  {
   "cell_type": "code",
   "execution_count": 230,
   "metadata": {
    "collapsed": false
   },
   "outputs": [
    {
     "name": "stdout",
     "output_type": "stream",
     "text": [
      "Editors\t0.518\t4689\n",
      "Edits\t0.014\t17285\n",
      "Multilinguals\t0.349\t503\n",
      "Edits by mulitlinguals\t0.003\t1006\n"
     ]
    }
   ],
   "source": [
    "# vergelijk stats met dataset_stats_wikipedia\n",
    "\n",
    "samen=\n",
    "\n",
    "def fout_percentage(col1,col2,df):\n",
    "     # jouw code hier \n",
    "\n",
    " \n",
    "\n",
    "for col in stats.columns:\n",
    "    print \"%s\\t%s\\t%s\" %(col, fout_percentage(col, col+'my', samen)"
   ]
  },
  {
   "cell_type": "code",
   "execution_count": 231,
   "metadata": {
    "collapsed": false
   },
   "outputs": [
    {
     "data": {
      "text/html": [
       "<div>\n",
       "<table border=\"1\" class=\"dataframe\">\n",
       "  <thead>\n",
       "    <tr style=\"text-align: right;\">\n",
       "      <th></th>\n",
       "      <th>Editors</th>\n",
       "      <th>Edits</th>\n",
       "      <th>Multilinguals</th>\n",
       "      <th>Edits by mulitlinguals</th>\n",
       "      <th>Editorsmy</th>\n",
       "      <th>Editsmy</th>\n",
       "      <th>Multilingualsmy</th>\n",
       "      <th>Edits by mulitlingualsmy</th>\n",
       "    </tr>\n",
       "  </thead>\n",
       "  <tbody>\n",
       "    <tr>\n",
       "      <th>count</th>\n",
       "      <td>238.000000</td>\n",
       "      <td>2.380000e+02</td>\n",
       "      <td>238.000000</td>\n",
       "      <td>238.000000</td>\n",
       "      <td>238.000000</td>\n",
       "      <td>2.380000e+02</td>\n",
       "      <td>238.000000</td>\n",
       "      <td>238.000000</td>\n",
       "    </tr>\n",
       "    <tr>\n",
       "      <th>mean</th>\n",
       "      <td>12243.554622</td>\n",
       "      <td>1.608757e+06</td>\n",
       "      <td>2648.226891</td>\n",
       "      <td>729135.878151</td>\n",
       "      <td>12307.088235</td>\n",
       "      <td>1.608984e+06</td>\n",
       "      <td>2657.487395</td>\n",
       "      <td>729154.399160</td>\n",
       "    </tr>\n",
       "    <tr>\n",
       "      <th>std</th>\n",
       "      <td>105148.317861</td>\n",
       "      <td>1.322120e+07</td>\n",
       "      <td>15606.769464</td>\n",
       "      <td>5342618.270859</td>\n",
       "      <td>105478.073646</td>\n",
       "      <td>1.322242e+07</td>\n",
       "      <td>15647.386691</td>\n",
       "      <td>5342696.119103</td>\n",
       "    </tr>\n",
       "    <tr>\n",
       "      <th>min</th>\n",
       "      <td>1.000000</td>\n",
       "      <td>2.000000e+00</td>\n",
       "      <td>1.000000</td>\n",
       "      <td>2.000000</td>\n",
       "      <td>1.000000</td>\n",
       "      <td>2.000000e+00</td>\n",
       "      <td>1.000000</td>\n",
       "      <td>2.000000</td>\n",
       "    </tr>\n",
       "    <tr>\n",
       "      <th>25%</th>\n",
       "      <td>20.250000</td>\n",
       "      <td>1.410500e+03</td>\n",
       "      <td>13.000000</td>\n",
       "      <td>562.500000</td>\n",
       "      <td>21.000000</td>\n",
       "      <td>1.413500e+03</td>\n",
       "      <td>13.000000</td>\n",
       "      <td>562.500000</td>\n",
       "    </tr>\n",
       "    <tr>\n",
       "      <th>50%</th>\n",
       "      <td>61.500000</td>\n",
       "      <td>8.092500e+03</td>\n",
       "      <td>39.000000</td>\n",
       "      <td>5325.500000</td>\n",
       "      <td>63.500000</td>\n",
       "      <td>8.094500e+03</td>\n",
       "      <td>39.000000</td>\n",
       "      <td>5325.500000</td>\n",
       "    </tr>\n",
       "    <tr>\n",
       "      <th>75%</th>\n",
       "      <td>458.250000</td>\n",
       "      <td>1.099002e+05</td>\n",
       "      <td>238.500000</td>\n",
       "      <td>64802.000000</td>\n",
       "      <td>463.250000</td>\n",
       "      <td>1.099082e+05</td>\n",
       "      <td>240.000000</td>\n",
       "      <td>64802.000000</td>\n",
       "    </tr>\n",
       "    <tr>\n",
       "      <th>max</th>\n",
       "      <td>1589250.000000</td>\n",
       "      <td>1.983610e+08</td>\n",
       "      <td>218320.000000</td>\n",
       "      <td>78341211.000000</td>\n",
       "      <td>1593939.000000</td>\n",
       "      <td>1.983783e+08</td>\n",
       "      <td>218823.000000</td>\n",
       "      <td>78342217.000000</td>\n",
       "    </tr>\n",
       "  </tbody>\n",
       "</table>\n",
       "</div>"
      ],
      "text/plain": [
       "              Editors         Edits  Multilinguals  Edits by mulitlinguals  \\\n",
       "count      238.000000  2.380000e+02     238.000000              238.000000   \n",
       "mean     12243.554622  1.608757e+06    2648.226891           729135.878151   \n",
       "std     105148.317861  1.322120e+07   15606.769464          5342618.270859   \n",
       "min          1.000000  2.000000e+00       1.000000                2.000000   \n",
       "25%         20.250000  1.410500e+03      13.000000              562.500000   \n",
       "50%         61.500000  8.092500e+03      39.000000             5325.500000   \n",
       "75%        458.250000  1.099002e+05     238.500000            64802.000000   \n",
       "max    1589250.000000  1.983610e+08  218320.000000         78341211.000000   \n",
       "\n",
       "            Editorsmy       Editsmy  Multilingualsmy  Edits by mulitlingualsmy  \n",
       "count      238.000000  2.380000e+02       238.000000                238.000000  \n",
       "mean     12307.088235  1.608984e+06      2657.487395             729154.399160  \n",
       "std     105478.073646  1.322242e+07     15647.386691            5342696.119103  \n",
       "min          1.000000  2.000000e+00         1.000000                  2.000000  \n",
       "25%         21.000000  1.413500e+03        13.000000                562.500000  \n",
       "50%         63.500000  8.094500e+03        39.000000               5325.500000  \n",
       "75%        463.250000  1.099082e+05       240.000000              64802.000000  \n",
       "max    1593939.000000  1.983783e+08    218823.000000           78342217.000000  "
      ]
     },
     "execution_count": 231,
     "metadata": {},
     "output_type": "execute_result"
    }
   ],
   "source": [
    "samen.describe()"
   ]
  },
  {
   "cell_type": "code",
   "execution_count": null,
   "metadata": {
    "collapsed": false
   },
   "outputs": [],
   "source": [
    "# vergelijk edges met \"inner join\"\n",
    " "
   ]
  },
  {
   "cell_type": "code",
   "execution_count": null,
   "metadata": {
    "collapsed": false
   },
   "outputs": [],
   "source": [
    "# vergelijk edges met \"outer join\"\n",
    "\n",
    "edges2=pd.merge(edges,wikipedia_edges, how='outer', on=['SourceLanguageCode','TargetLanguageCode'])\n",
    "print fout_percentage('Coocurrencesmy','Coocurrences', edges2)\n",
    "edges2.describe()"
   ]
  },
  {
   "cell_type": "markdown",
   "metadata": {},
   "source": [
    "# Compute our own PhiCorrelation and T-statistic\n",
    "\n",
    "Maak een functie `PhiCorrelation(i,j)` die gegeven 2 talen, de $\\phi$ correlatie en de $t$-statistic uitrekent volgens vergelijkingen [1] en [2] uit het artikel.\n",
    "\n",
    "* Let vooral op hoe je $N$ bepaalt. En beschrijf goed waarom je precies die keuze hebt genomen. Je uitkomsten hangen daar sterk vanaf."
   ]
  },
  {
   "cell_type": "code",
   "execution_count": 213,
   "metadata": {
    "collapsed": false
   },
   "outputs": [
    {
     "data": {
      "text/plain": [
       "(79, 531, 26706, 2929087, 0.019785094309992902, 3.2337861998200852)"
      ]
     },
     "execution_count": 213,
     "metadata": {},
     "output_type": "execute_result"
    }
   ],
   "source": [
    "# Compute our own PhiCorrelation and T-statistic\n",
    "\n",
    "\n",
    "def PhiCorrelation(i,j):\n",
    "     #Your code here\n",
    "    return Mij,Mi, Mj,  N, PhiCorrelation, Tstatistic\n",
    "\n",
    "# test\n",
    "PhiCorrelation('afr','nld')"
   ]
  },
  {
   "cell_type": "markdown",
   "metadata": {},
   "source": [
    "# Reflectie\n",
    "Je hebt getracht een deel van het artikel te reproduceren. Ook hebben we gedacht over het artikel en de mate van herhaalbaarheid van de vermelde gegevens. \n",
    "\n",
    "Geef nu in een half A4 je eigen mening. Behandel deze twee punten:\n",
    "\n",
    "1. Wat was al goed gedaan?\n",
    "2. Wat kon beter en hoe dan?"
   ]
  },
  {
   "cell_type": "code",
   "execution_count": null,
   "metadata": {
    "collapsed": true
   },
   "outputs": [],
   "source": []
  }
 ],
 "metadata": {
  "kernelspec": {
   "display_name": "Python 2",
   "language": "python",
   "name": "python2"
  },
  "language_info": {
   "codemirror_mode": {
    "name": "ipython",
    "version": 2
   },
   "file_extension": ".py",
   "mimetype": "text/x-python",
   "name": "python",
   "nbconvert_exporter": "python",
   "pygments_lexer": "ipython2",
   "version": "2.7.11"
  }
 },
 "nbformat": 4,
 "nbformat_minor": 0
}
