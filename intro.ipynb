{
 "cells": [
  {
   "cell_type": "markdown",
   "metadata": {
    "slideshow": {
     "slide_type": "slide"
    }
   },
   "source": [
    "# Introductie laptops and IPython Informatiekunde\n",
    "\n",
    "### Inhoud\n",
    "\n",
    "1. Op het internet\n",
    "    * eduroam \n",
    "2. IPython distributie installeren\n",
    "    * Anaconda\n",
    "3. IPython notebook\n",
    "    1. Filosofie achter het notebook\n",
    "    2. Commandos geven aan je eigen computer\n",
    "    2. Programmeren in Python\n",
    "    3. Schrijven in Markdown (je wilt nooit meer werken in Word oid)\n",
    "    4. Prachtige formules maken in LateX\n",
    "    5. Notebook op het web: slideshow of interactief. "
   ]
  },
  {
   "cell_type": "markdown",
   "metadata": {
    "slideshow": {
     "slide_type": "slide"
    }
   },
   "source": [
    "# Doel van deze middag\n",
    "\n",
    "1. Laten zien wat een te gek instrument je eigen laptop is.\n",
    "    * Hopelijk met dingen die nieuw voor jullie zijn ;-)\n",
    "2. Wat ontzettend handige _tools_ te leren die je studie zo veel \n",
    "    * leuker\n",
    "    * makkelijker\n",
    "    * sneller\n",
    "    * gaver\n",
    "        * kunnen maken."
   ]
  },
  {
   "cell_type": "markdown",
   "metadata": {
    "slideshow": {
     "slide_type": "slide"
    }
   },
   "source": [
    "# Stap 0\n",
    "\n",
    "1. Open je browser, bij voorkeur Chrome of Firefox\n",
    "2. Open een nieuwe tab waarin je deze slides hebt. \n",
    "    * Dan kan je makkelijk heen en weer scrollen.\n",
    "    * <http://nbviewer.ipython.org/url/maartenmarx.nl/teaching/IKintroductie/IntroductieIPython.ipynb>\n",
    "    * Druk op het \"kadotje logo\" om dit notebook als slideshow te zien, en op het \"boekje-logo\" om het weer als notebook te zien.\n",
    "3. Over een half uurtje kan je dit notebook ook op je eigen computer _zelf draaien en veranderen_.\n",
    "\n",
    "## Belangrijk: schroom niet om hulp te vragen!\n",
    "* We willen proberen het bij iedereen aan de praat te krijgen."
   ]
  },
  {
   "cell_type": "markdown",
   "metadata": {
    "slideshow": {
     "slide_type": "slide"
    }
   },
   "source": [
    "# Stap 1: Installeer Eduroam\n",
    "\n",
    "* Volg de instructies op <http://student.uva.nl/az/content/draadloos-internet/draadloos-internet.html>\n",
    "* Installeer het op je laptop en dan ook op je smartphone.\n",
    "\n",
    "* Speciaal voor Windows mensen: <https://informatica-byod.innovatievooronderwijs.nl/index.php/Microsoft_Windows/Eduroam>"
   ]
  },
  {
   "cell_type": "markdown",
   "metadata": {
    "slideshow": {
     "slide_type": "slide"
    }
   },
   "source": [
    "# Stap 2: Installeer Ipython\n",
    "\n",
    " \n",
    " \n",
    "\n",
    "**We strongly advice you to install the Anaconda Python Distribution.** This distribution contains almost all the necessary modules and packages needed in your study. It is available for all platforms and provides a simple installation procedure.   More detailed installation instructions can be found here: http://docs.continuum.io/anaconda/install.html \n",
    "\n",
    "* ** Volg de standaard installatie.** \n",
    "\n",
    "### Troubleshooting\n",
    "* See <https://github.com/cs109/content/wiki/Installing-Python>\n",
    "\n",
    "### Running IPython Notebook\n",
    "\n",
    "* For Mac and Linux users, open up your terminal.  (Op Mac: `Cmd Space`, dan type terminal en open terminal)\n",
    "* Windows users need to open up their Command Prompt. \n",
    "* Change directories in the terminal (using the cd command) to the working directory where you want to store your IPython Notebook data.\n",
    "    * _Maak een folder `Informatiekunde` en daaronder een folder `IPython` aan._\n",
    "    * Ga daar heen.\n",
    "* To run IPython Notebook, enter the following command:\n",
    "    * `ipython notebook`\n",
    "* It may take a minute or two to set itself up, but eventually IPython Notebook will open in your default web browser\n",
    " \n"
   ]
  },
  {
   "cell_type": "markdown",
   "metadata": {
    "slideshow": {
     "slide_type": "slide"
    }
   },
   "source": [
    "# Stap 2a test of alles werkt\n",
    "\n",
    "1. Download deze file en stop hem in je `Informatiekunde/IPython` folder: <http://maartenmarx.nl/teaching/IKintroductie/IntroductieIPython.ipynb>\n",
    "2. Nu zie je in je IPython scherm die file staan: open hem.\n",
    "3. Zoek deze cell, en run de volgende cell om te zien of je alle pakketten hebt. (Run doe je met `Shift-Return`)\n",
    "    * Het geeft niet als je ze niet allemaal hebt. "
   ]
  },
  {
   "cell_type": "code",
   "execution_count": 2,
   "metadata": {
    "collapsed": false,
    "slideshow": {
     "slide_type": "slide"
    }
   },
   "outputs": [
    {
     "name": "stdout",
     "output_type": "stream",
     "text": [
      "IPython version:       4.0.0 (need at least 1.0)\n",
      "Numpy version:         1.9.2 (need at least 1.7.1)\n",
      "SciPy version:        0.15.1 (need at least 0.12.0)\n",
      "Pandas version:       0.16.2 (need at least 0.11.0)\n",
      "Mapltolib version:     1.4.3 (need at least 1.2.1)\n",
      "Scikit-Learn version: 0.16.1 (need at least 0.13.1)\n",
      "requests version:      2.7.0 (need at least 1.2.3)\n",
      "NetworkX version:      1.9.1 (need at least 1.7)\n",
      "BeautifulSoup version: 4.3.2 (need at least 4.0)\n"
     ]
    },
    {
     "ename": "ImportError",
     "evalue": "No module named seaborn",
     "output_type": "error",
     "traceback": [
      "\u001b[0;31m---------------------------------------------------------------------------\u001b[0m",
      "\u001b[0;31mImportError\u001b[0m                               Traceback (most recent call last)",
      "\u001b[0;32m<ipython-input-2-d59fb3f5be3d>\u001b[0m in \u001b[0;36m<module>\u001b[0;34m()\u001b[0m\n\u001b[1;32m     38\u001b[0m \u001b[0;34m\u001b[0m\u001b[0m\n\u001b[1;32m     39\u001b[0m \u001b[0;31m#Seaborn is a nice library for visualizations\u001b[0m\u001b[0;34m\u001b[0m\u001b[0;34m\u001b[0m\u001b[0m\n\u001b[0;32m---> 40\u001b[0;31m \u001b[0;32mimport\u001b[0m \u001b[0mseaborn\u001b[0m\u001b[0;34m\u001b[0m\u001b[0m\n\u001b[0m\u001b[1;32m     41\u001b[0m \u001b[0;32mprint\u001b[0m \u001b[0;34m\"Seaborn version:      %6.6s (need at least 0.3.1)\"\u001b[0m \u001b[0;34m%\u001b[0m \u001b[0mseaborn\u001b[0m\u001b[0;34m.\u001b[0m\u001b[0m__version__\u001b[0m\u001b[0;34m\u001b[0m\u001b[0m\n\u001b[1;32m     42\u001b[0m \u001b[0;34m\u001b[0m\u001b[0m\n",
      "\u001b[0;31mImportError\u001b[0m: No module named seaborn"
     ]
    }
   ],
   "source": [
    "#IPython is what you are using now to run the notebook\n",
    "import IPython\n",
    "print \"IPython version:      %6.6s (need at least 1.0)\" % IPython.__version__\n",
    "\n",
    "# Numpy is a library for working with Arrays\n",
    "import numpy as np\n",
    "print \"Numpy version:        %6.6s (need at least 1.7.1)\" % np.__version__\n",
    "\n",
    "# SciPy implements many different numerical algorithms\n",
    "import scipy as sp\n",
    "print \"SciPy version:        %6.6s (need at least 0.12.0)\" % sp.__version__\n",
    "\n",
    "# Pandas makes working with data tables easier\n",
    "import pandas as pd\n",
    "print \"Pandas version:       %6.6s (need at least 0.11.0)\" % pd.__version__\n",
    "\n",
    "# Module for plotting\n",
    "import matplotlib\n",
    "print \"Mapltolib version:    %6.6s (need at least 1.2.1)\" % matplotlib.__version__\n",
    "\n",
    "# SciKit Learn implements several Machine Learning algorithms\n",
    "import sklearn\n",
    "print \"Scikit-Learn version: %6.6s (need at least 0.13.1)\" % sklearn.__version__\n",
    "\n",
    "# Requests is a library for getting data from the Web\n",
    "import requests\n",
    "print \"requests version:     %6.6s (need at least 1.2.3)\" % requests.__version__\n",
    "\n",
    "# Networkx is a library for working with networks\n",
    "import networkx as nx\n",
    "print \"NetworkX version:     %6.6s (need at least 1.7)\" % nx.__version__\n",
    "\n",
    "#BeautifulSoup is a library to parse HTML and XML documents\n",
    "import bs4\n",
    "print \"BeautifulSoup version:%6.6s (need at least 4.0)\" % bs4.__version__\n",
    "\n",
    "#Seaborn is a nice library for visualizations\n",
    "import seaborn\n",
    "print \"Seaborn version:      %6.6s (need at least 0.3.1)\" % seaborn.__version__\n",
    "\n",
    "#Pattern has lots of tools for working with data from the internet\n",
    "import pattern\n",
    "print \"Pattern version:      %6.6s (need at least 2.6)\" % pattern.__version__\n"
   ]
  },
  {
   "cell_type": "markdown",
   "metadata": {
    "collapsed": true,
    "slideshow": {
     "slide_type": "slide"
    }
   },
   "source": [
    "## Gelukt? Tijd over?\n",
    "\n",
    "\n",
    "### Vertel ons wat over jezelf.\n",
    "* Later gaan we het analyseren en leer je dus je cohort kennen.\n",
    "* Vul de vragen in op <http://goo.gl/forms/nVMrnWKGjL>\n",
    "\n",
    "### Leer meer over de IPython notebooks\n",
    "\n",
    "* Download het notebook <http://maartenmarx.nl/teaching/ISatWork/NoteBooks/pandas-cookbook/cookbook/A%20quick%20tour%20of%20IPython%20Notebook.ipynb>\n",
    "* verplaats de file naar je map met je notebooks\n",
    "* open het notebook (vraag een begeleider hoe dat moet) en ga er rustig doorheen.\n",
    "\n",
    "### Alternatief als je ook de plaatjes wilt zien:\n",
    "1. Lokaal\n",
    "    * download en open deze zipfile: <https://github.com/jvns/pandas-cookbook/archive/master.zip>\n",
    "    * De tour staat in de cookbook folder\n",
    "    * Het origineel staat op <https://github.com/jvns/pandas-cookbook>\n",
    "2. Via het web.\n",
    "    * Open [A quick tour](http://nbviewer.ipython.org/github/jvns/pandas-cookbook/blob/master/cookbook/A%20quick%20tour%20of%20IPython%20Notebook.ipynb) in een aparte tab in je browser.\n",
    "    * en open de lokale versie ook.\n",
    "    * Alleen in die lokale versie kan je zelf ook dingen doen. \n",
    "\n",
    "\n"
   ]
  },
  {
   "cell_type": "markdown",
   "metadata": {
    "slideshow": {
     "slide_type": "slide"
    }
   },
   "source": [
    "# IPython notebook\n",
    "\n",
    "* Is het installeren niet gelukt, geen nood, doe vandaag samen met een ander.\n",
    "* We helpen je een andere keer."
   ]
  },
  {
   "cell_type": "markdown",
   "metadata": {
    "slideshow": {
     "slide_type": "slide"
    }
   },
   "source": [
    "# IPython notebook \n",
    "\n",
    "## Inhoud vandaag\n",
    "\n",
    "1. Filosofie achter het notebook\n",
    "2. Commandos geven aan je eigen computer\n",
    "2. Programmeren in Python\n",
    "3. Schrijven in Markdown (je wilt nooit meer werken in Word oid)\n",
    "4. Prachtige formules maken in LateX\n",
    "5. Notebook op het web: slideshow of interactief. \n",
    "\n",
    "### Pas op: je leert 3 programmeertalen! "
   ]
  },
  {
   "cell_type": "markdown",
   "metadata": {
    "slideshow": {
     "slide_type": "slide"
    }
   },
   "source": [
    "# Organisatie van je computer\n",
    "\n",
    "### Mappen en folders\n",
    "* Je gegevens op je computer staan in _files_, en die zitten weer in _mappen_ (ook wel _folders_) genoemd.\n",
    "* Folders kunnen ook weer in folders zitten.\n",
    "* Het geheel kan je zien als een **boom**.\n",
    "\n",
    "![Alt](http://www.linux4windows.com/articles/linux_directory_structure.png)"
   ]
  },
  {
   "cell_type": "markdown",
   "metadata": {
    "slideshow": {
     "slide_type": "subslide"
    }
   },
   "source": [
    "### Mappen en folders bekijken\n",
    "* Je kunt je files en folders vanuit een scherm bekijken. \n",
    "* Maar ook vanuit een terminal.\n",
    "* En zelfs vanuit een IPython cel.\n",
    "\n",
    " "
   ]
  },
  {
   "cell_type": "code",
   "execution_count": null,
   "metadata": {
    "collapsed": false,
    "slideshow": {
     "slide_type": "slide"
    }
   },
   "outputs": [],
   "source": [
    "## Waar ben ik nu \n",
    "!pwd"
   ]
  },
  {
   "cell_type": "code",
   "execution_count": null,
   "metadata": {
    "collapsed": false,
    "slideshow": {
     "slide_type": "fragment"
    }
   },
   "outputs": [],
   "source": [
    "## Welke files zitten er in deze folder?\n",
    "!ls # dir onder windows"
   ]
  },
  {
   "cell_type": "code",
   "execution_count": null,
   "metadata": {
    "collapsed": false,
    "slideshow": {
     "slide_type": "slide"
    }
   },
   "outputs": [],
   "source": [
    "## ga een stapje omhoog in de folder-boom, en laat zien wat erin zit\n",
    "%cd ..\n",
    "!ls -l"
   ]
  },
  {
   "cell_type": "markdown",
   "metadata": {
    "slideshow": {
     "slide_type": "slide"
    }
   },
   "source": [
    "# Organiseer jezelf\n",
    "\n",
    "* Zet niet al je files zomaar ergens op je computer (in Downloads folder bijvoorbeeld)\n",
    "* Maak een map _Studie_ aan\n",
    "    * Maak daar voor elk vak een aparte map onder aan.\n",
    "        * Maak daarin steeds dezelfde mapjes, bijvoorbeeld\n",
    "            * literatuur\n",
    "            * opdrachten\n",
    "            * NoteBooks (;-))\n",
    "            \n",
    "## Zorg voor dagelijkse backup!\n",
    "\n",
    "* Gebruik Google Drive, DropBox, of iets anders in de cloud \n",
    "* Maak elke avond een backup\n",
    "* Mac users: gebruik Timemachine"
   ]
  },
  {
   "cell_type": "markdown",
   "metadata": {
    "slideshow": {
     "slide_type": "slide"
    }
   },
   "source": [
    "![!Alt](https://ptechhackbook.files.wordpress.com/2015/04/dead-computer.jpg)"
   ]
  },
  {
   "cell_type": "markdown",
   "metadata": {
    "slideshow": {
     "slide_type": "slide"
    }
   },
   "source": [
    "# Filosofie achter het notebook\n",
    "\n",
    "* Programmeren is een _interactieve_ bezigheid.\n",
    "* Net als krabbelen op een papiertje.\n",
    "* Je wilt _alles bij elkaar hebben en houden_.\n",
    "* En wat je gedaan hebt, _nog eens kunnen overdoen_.\n",
    "* Je wilt commentaar, commandos, en uitkomsten op een natuurlijke manier afwisselen.\n",
    "\n",
    "## Voorbeeld: onze net ingevulde enquete"
   ]
  },
  {
   "cell_type": "code",
   "execution_count": null,
   "metadata": {
    "collapsed": false,
    "slideshow": {
     "slide_type": "slide"
    }
   },
   "outputs": [],
   "source": [
    "# Download eerst met de hand\n",
    "# dan verplaats naar deze map\n",
    "! cp /Users/admin/Downloads/Informatiekunde\\ 2015\\ \\(Responses\\)\\ -\\ Form\\ Responses\\ 1.csv responses.csv"
   ]
  },
  {
   "cell_type": "code",
   "execution_count": null,
   "metadata": {
    "collapsed": true,
    "slideshow": {
     "slide_type": "fragment"
    }
   },
   "outputs": [],
   "source": [
    "# laat de programmas in \n",
    "\n",
    "# Render our plots inline\n",
    "%matplotlib inline\n",
    "\n",
    "import numpy as np\n",
    "import pandas as pd\n",
    "import matplotlib.pyplot as plt"
   ]
  },
  {
   "cell_type": "markdown",
   "metadata": {
    "slideshow": {
     "slide_type": "slide"
    }
   },
   "source": [
    "# Lees het spreadsheet in en laat het begin zien"
   ]
  },
  {
   "cell_type": "code",
   "execution_count": null,
   "metadata": {
    "collapsed": false,
    "slideshow": {
     "slide_type": "fragment"
    }
   },
   "outputs": [],
   "source": [
    "# Lees het spreadsheet in en laat het begin zien\n",
    "\n",
    "IK2015=pd.read_csv('responses.csv')\n",
    "IK2015.head()"
   ]
  },
  {
   "cell_type": "markdown",
   "metadata": {
    "slideshow": {
     "slide_type": "slide"
    }
   },
   "source": [
    "# Verdeling jongens/meisjes"
   ]
  },
  {
   "cell_type": "code",
   "execution_count": null,
   "metadata": {
    "collapsed": false,
    "slideshow": {
     "slide_type": "fragment"
    }
   },
   "outputs": [],
   "source": [
    "sex= IK2015['Wat is je geslacht?'].value_counts()\n",
    "print sex\n",
    "sex.plot(kind='pie');"
   ]
  },
  {
   "cell_type": "markdown",
   "metadata": {
    "slideshow": {
     "slide_type": "slide"
    }
   },
   "source": [
    "# Waar wonen jullie en hoe lang duurt het hier te komen?\n",
    "\n"
   ]
  },
  {
   "cell_type": "code",
   "execution_count": null,
   "metadata": {
    "collapsed": false,
    "slideshow": {
     "slide_type": "slide"
    }
   },
   "outputs": [],
   "source": [
    "woon= IK2015['Waar woon je?'] \n",
    "tijd=IK2015['Hoe lang doe je erover om hier op het Science Park te komen?'] \n",
    " \n",
    "pd.crosstab(woon,tijd, margins=True)"
   ]
  },
  {
   "cell_type": "markdown",
   "metadata": {
    "slideshow": {
     "slide_type": "slide"
    }
   },
   "source": [
    "# Wie heeft wat voor soort computer?\n",
    "\n",
    "**Onderzoeksvraag** We willen weten hoe de verschillende soorten computers verdeeld zijn over de geslachten. \n",
    "\n",
    "We zijn ook benieuwd of bepaalde vooroordelen (jongens zijn nerds en gebruiken Linux) ook kloppen."
   ]
  },
  {
   "cell_type": "code",
   "execution_count": null,
   "metadata": {
    "collapsed": false,
    "slideshow": {
     "slide_type": "fragment"
    }
   },
   "outputs": [],
   "source": [
    "# Wie heeft wat voor soort computer?\n",
    "\n",
    "pd.crosstab(IK2015['Wat is je geslacht?'],IK2015['Wat voor besturingssysteem heb je op je laptop?'], margins=True) "
   ]
  },
  {
   "cell_type": "markdown",
   "metadata": {
    "slideshow": {
     "slide_type": "slide"
    }
   },
   "source": [
    "# IPython notebook : waar zijn we?\n",
    "\n",
    "## Inhoud vandaag\n",
    "\n",
    "1. <strike>Filosofie achter het notebook</strike>\n",
    "2. **Commandos geven aan je eigen computer**\n",
    "2. Programmeren in Python\n",
    "3. Schrijven in Markdown (je wilt nooit meer werken in Word oid)\n",
    "4. Prachtige formules maken in LateX\n",
    "5. Notebook op het web: slideshow of interactief. \n"
   ]
  },
  {
   "cell_type": "markdown",
   "metadata": {
    "slideshow": {
     "slide_type": "slide"
    }
   },
   "source": [
    "# Commandos geven aan je eigen computer\n",
    "\n",
    "* Dit doe je in een **terminal**.\n",
    "\n",
    "### Linux, Mac\n",
    "* Open een terminal \n",
    "    * Mac: Cmd-space en type `term`, en kies terminal.\n",
    "    * Windows: <http://windows.microsoft.com/en-us/windows-vista/open-a-command-prompt-window>\n",
    "    * Linux: double click on screen and choose terminal\n",
    "    "
   ]
  },
  {
   "cell_type": "markdown",
   "metadata": {
    "slideshow": {
     "slide_type": "slide"
    }
   },
   "source": [
    "# Opstarten IPython notebook\n",
    "1. Open een terminal\n",
    "2. Ga naar de folder met al je studie zaken (met het commando `cd`)\n",
    "3. Check dat je in de juiste folder zit (met commando `pwd`) (Windows: `chdir`)\n",
    "4. Type `ipython notebook` en druk op return\n",
    "5. Je notebook folder start in je browser.\n",
    "6. **Afsluiten:** met Ctrl C in je terminal."
   ]
  },
  {
   "cell_type": "markdown",
   "metadata": {
    "slideshow": {
     "slide_type": "slide"
    }
   },
   "source": [
    "# Jullie beurt\n",
    "\n",
    "* Download  dit notebook: <http://maartenmarx.nl/teaching/IKintroductie/IntroductieIPython.ipynb>\n",
    "    * Verplaats het naar je studie folder\n",
    "* Start Ipython notebook op in je studie folder\n",
    "* Open een nieuw notebook\n",
    "    * Kies **New** in het menu rechts boven, en kies dan **Python 2**\n",
    "    * Ga maar wat rekenen in die terminal. Als je een antwoord wilt druk je op _enter_.\n",
    "* Ga nu weer terug en open het notebook dat je het gedonwload. Gewoon klikken.\n",
    "    * Zet je muis in de eerste cel\n",
    "    * dubbel klik\n",
    "    * Wat zie je nou?\n",
    "    * Doe _Shift enter_, of druk op het play knopje in het menu bovenaan.\n",
    "    * Je hebt een computerprogrammam uitgevoerd! \n",
    "        * Doe nogmaals hetzelfde, maar verander wat en kijk wat er gebeurt.\n",
    "        * Wees niet bang om iets te verpesten.\n"
   ]
  },
  {
   "cell_type": "markdown",
   "metadata": {
    "slideshow": {
     "slide_type": "slide"
    }
   },
   "source": [
    "# Commandos kan je ook via het notebook geven (Mac en Linux)\n",
    "\n",
    "* Alle shell commandos kan je ook direct in een notebook cell geven.\n",
    "* Je zet er dan een `!` voor.\n",
    "* Hier wat voorbeelden.\n",
    "* Zie <https://access.redhat.com/documentation/en-US/Red_Hat_Enterprise_Linux/4/html/Step_by_Step_Guide/ap-doslinux.html> voor een handig overzicht."
   ]
  },
  {
   "cell_type": "code",
   "execution_count": null,
   "metadata": {
    "collapsed": false,
    "slideshow": {
     "slide_type": "slide"
    }
   },
   "outputs": [],
   "source": [
    "# In welke folder zit ik?\n",
    "!pwd"
   ]
  },
  {
   "cell_type": "code",
   "execution_count": null,
   "metadata": {
    "collapsed": false,
    "slideshow": {
     "slide_type": "fragment"
    }
   },
   "outputs": [],
   "source": [
    "# Welke folders en files zitten hierin?\n",
    "!ls"
   ]
  },
  {
   "cell_type": "code",
   "execution_count": null,
   "metadata": {
    "collapsed": false,
    "slideshow": {
     "slide_type": "slide"
    }
   },
   "outputs": [],
   "source": [
    "# Ik wil naar IKintroductie. Let op ik gebruik nu % ipv !\n",
    "%cd IKintroductie\n"
   ]
  },
  {
   "cell_type": "code",
   "execution_count": null,
   "metadata": {
    "collapsed": false,
    "slideshow": {
     "slide_type": "fragment"
    }
   },
   "outputs": [],
   "source": [
    "# Ik wil een stapje omhoog\n",
    "% cd .."
   ]
  },
  {
   "cell_type": "code",
   "execution_count": null,
   "metadata": {
    "collapsed": false,
    "scrolled": true,
    "slideshow": {
     "slide_type": "slide"
    }
   },
   "outputs": [],
   "source": [
    "!ls"
   ]
  },
  {
   "cell_type": "code",
   "execution_count": null,
   "metadata": {
    "collapsed": true,
    "slideshow": {
     "slide_type": "slide"
    }
   },
   "outputs": [],
   "source": [
    "# Ik copieer iets uit Downloads naar de huidige directory\n",
    "# Let op mijn gebruik van de TAB!! Ik hou b=niet van typen, en nog minder van typefouten.\n",
    "\n",
    "! cp /Users/admin/Downloads/"
   ]
  },
  {
   "cell_type": "code",
   "execution_count": null,
   "metadata": {
    "collapsed": true,
    "slideshow": {
     "slide_type": "fragment"
    }
   },
   "outputs": [],
   "source": [
    "# Gooi iets weg uit Downloads\n",
    "\n",
    "! rm /Users/admin/Downloads/  # gebruik TAB"
   ]
  },
  {
   "cell_type": "markdown",
   "metadata": {
    "slideshow": {
     "slide_type": "slide"
    }
   },
   "source": [
    "# Meer leren?\n",
    "\n",
    "* <https://www.codecademy.com/en/courses/learn-the-command-line>\n",
    "* Investering: 1 uurtje\n",
    "* Je hele leven plezier van\n",
    "* Echt!\n",
    "\n",
    "![alt](https://cdn-production.codecademy.com/assets/logo/logo--dark-blue-bf11002ce1caecdfb9fec8d3286b8a8d.svg)\n",
    "\n",
    "### Alternatief op UvA\n",
    "\n",
    "* Gebruik de introductie voor informatiewetenschappen studenten:\n",
    "* <https://staff.fnwi.uva.nl/a.visser/education/workstations/linux_introduction/>"
   ]
  },
  {
   "cell_type": "markdown",
   "metadata": {
    "slideshow": {
     "slide_type": "slide"
    }
   },
   "source": [
    "# TAB is je beste vriend in IPython notebook\n",
    "\n",
    "* TAB helpt je met alles\n",
    "* Gebruik het de hele tijd.\n",
    "\n",
    "## Vraagteken is je een na beste vriend"
   ]
  },
  {
   "cell_type": "code",
   "execution_count": 3,
   "metadata": {
    "collapsed": false,
    "slideshow": {
     "slide_type": "fragment"
    }
   },
   "outputs": [
    {
     "data": {
      "text/plain": [
       "'IK BEN EEN NOTEBOOK'"
      ]
     },
     "execution_count": 3,
     "metadata": {},
     "output_type": "execute_result"
    }
   ],
   "source": [
    "woord='ik ben een notebook'\n",
    "woord?\n",
    "woord. # TAB"
   ]
  },
  {
   "cell_type": "markdown",
   "metadata": {
    "slideshow": {
     "slide_type": "slide"
    }
   },
   "source": [
    "# IPython notebook : waar zijn we?\n",
    "\n",
    "## Inhoud vandaag\n",
    "\n",
    "1. <strike>Filosofie achter het notebook</strike>\n",
    "2. <strike>Commandos geven aan je eigen computer</strike>\n",
    "2. **Programmeren in Python**\n",
    "3. Schrijven in Markdown (je wilt nooit meer werken in Word oid)\n",
    "4. Prachtige formules maken in LateX\n",
    "5. Notebook op het web: slideshow of interactief. "
   ]
  },
  {
   "cell_type": "markdown",
   "metadata": {
    "slideshow": {
     "slide_type": "slide"
    }
   },
   "source": [
    "# Programmeren in Python\n",
    "\n",
    "* In een ander notebook: [Introductie Python](IntroductiePython.ipynb)\n",
    "* Download dit notebook op je eigen computer en open het en volg de commandos mee.\n",
    "* <http://maartenmarx.nl/teaching/IKintroductie/IntroductiePython.ipynb>\n",
    "* Je kan het notebook hier zien. <http://nbviewer.ipython.org/url/maartenmarx.nl/teaching/IKintroductie/IntroductiePython.ipynb>\n",
    "* Als je op het \"cadeautje\" klikt, kan je het als slideshow zien.\n"
   ]
  },
  {
   "cell_type": "markdown",
   "metadata": {
    "slideshow": {
     "slide_type": "slide"
    }
   },
   "source": [
    "# IPython notebook : waar zijn we?\n",
    "\n",
    "## Inhoud vandaag\n",
    "\n",
    "1. <strike>Filosofie achter het notebook</strike>\n",
    "2. <strike>Commandos geven aan je eigen computer</strike>\n",
    "2. <strike>Programmeren in Python</strike>\n",
    "3. Schrijven in Markdown (je wilt nooit meer werken in Word oid)\n",
    "4. Prachtige formules maken in LateX\n",
    "5. Notebook op het web: slideshow of interactief. "
   ]
  },
  {
   "cell_type": "markdown",
   "metadata": {
    "slideshow": {
     "slide_type": "slide"
    }
   },
   "source": [
    "# Maar nu eerst"
   ]
  },
  {
   "cell_type": "markdown",
   "metadata": {
    "slideshow": {
     "slide_type": "fragment"
    }
   },
   "source": [
    "![Pauze](http://www.ffpauzeindeklas.nl/images/logo.png)"
   ]
  },
  {
   "cell_type": "markdown",
   "metadata": {
    "slideshow": {
     "slide_type": "slide"
    }
   },
   "source": [
    "# IPython notebook : waar zijn we?\n",
    "\n",
    "## Inhoud vandaag\n",
    "\n",
    "1. <strike>Filosofie achter het notebook</strike>\n",
    "2. <strike>Commandos geven aan je eigen computer</strike>\n",
    "2. <strike>Programmeren in Python</strike>\n",
    "3. **Schrijven in Markdown (je wilt nooit meer werken in Word oid)**\n",
    "4. Prachtige formules maken in LateX\n",
    "5. Notebook op het web: slideshow of interactief. "
   ]
  },
  {
   "cell_type": "markdown",
   "metadata": {
    "slideshow": {
     "slide_type": "slide"
    }
   },
   "source": [
    "# MarkDown\n",
    "\n",
    "* Elke cel in een notebook kan een Python _code_ cell zijn.\n",
    "* Om een \"comemntaar\" cel: dit zijn **Markdown** cellen.\n",
    "\n",
    "#### Markdown is een hele makkelijke programmeer taal om snel mooie paginas mee te maken.\n",
    "\n",
    "* <http://daringfireball.net/projects/markdown/>\n",
    "* Syntax (de regeltjes): <http://daringfireball.net/projects/markdown/syntax>\n",
    "* Cheatsheet: <https://github.com/adam-p/markdown-here/wiki/Markdown-Cheatsheet>"
   ]
  },
  {
   "cell_type": "markdown",
   "metadata": {},
   "source": [
    " kopje\n"
   ]
  },
  {
   "cell_type": "markdown",
   "metadata": {
    "slideshow": {
     "slide_type": "slide"
    }
   },
   "source": [
    "# Markdown: wat kan je ermee?\n",
    "\n",
    "* Alles wat je ook met HTML kan.\n",
    "* Veel dingen kunnen heel simpel."
   ]
  },
  {
   "cell_type": "markdown",
   "metadata": {
    "slideshow": {
     "slide_type": "slide"
    }
   },
   "source": [
    " \n",
    "##### Table of Contents  \n",
    "[Headers](#headers)  \n",
    "[Emphasis](#emphasis)  \n",
    "[Lists](#lists)  \n",
    "[Links](#links)  \n",
    "[Images](#images)  \n",
    "[Code and Syntax Highlighting](#code)  \n",
    "[Tables](#tables)  \n",
    "[Blockquotes](#blockquotes)  \n",
    "[Inline HTML](#html)  \n",
    "[Horizontal Rule](#hr)  \n",
    "[Line Breaks](#lines)  \n",
    "[Youtube videos](#videos)  "
   ]
  },
  {
   "cell_type": "markdown",
   "metadata": {
    "slideshow": {
     "slide_type": "slide"
    }
   },
   "source": [
    "# Headers\n",
    "\n",
    " \n",
    "\n",
    "# H1\n",
    "## H2\n",
    "### H3\n",
    "#### H4\n",
    "##### H5\n",
    "###### H6"
   ]
  },
  {
   "cell_type": "markdown",
   "metadata": {
    "slideshow": {
     "slide_type": "slide"
    }
   },
   "source": [
    " \n",
    "## Emphasis\n",
    "\n",
    " \n",
    "\n",
    "Emphasis, aka italics, with *asterisks* or _underscores_.\n",
    "\n",
    "Strong emphasis, aka bold, with **asterisks** or __underscores__.\n",
    "\n",
    "Combined emphasis with **asterisks and _underscores_**.\n",
    "\n",
    "Strikethrough uses two tildes. ~~Scratch this.~~"
   ]
  },
  {
   "cell_type": "markdown",
   "metadata": {
    "slideshow": {
     "slide_type": "slide"
    }
   },
   "source": [
    " \n",
    "## Lists\n",
    "\n",
    " \n",
    "\n",
    "1. First ordered list item\n",
    "2. Another item\n",
    "  * Unordered sub-list. \n",
    "1. Actual numbers don't matter, just that it's a number\n",
    "  1. Ordered sub-list\n",
    "4. And another item.\n",
    "\n",
    "   You can have properly indented paragraphs within list items. Notice the blank line above, and the leading spaces (at least one, but we'll use three here to also align the raw Markdown).\n",
    "\n",
    "   To have a line break without a paragraph, you will need to use two trailing spaces.  \n",
    "   Note that this line is separate, but within the same paragraph.  \n",
    "   (This is contrary to the typical GFM line break behaviour, where trailing spaces are not required.)\n",
    "\n",
    "* Unordered list can use asterisks\n",
    "- Or minuses\n",
    "+ Or pluses"
   ]
  },
  {
   "cell_type": "markdown",
   "metadata": {
    "slideshow": {
     "slide_type": "slide"
    }
   },
   "source": [
    " \n",
    "## Links\n",
    "\n",
    "There are two ways to create links.\n",
    " \n",
    "\n",
    "[I'm an inline-style link](https://www.google.com)\n",
    "\n",
    "[I'm an inline-style link with title](https://www.google.com \"Google's Homepage\")\n",
    "\n",
    " \n",
    "\n",
    "[I'm a relative reference to a repository file](../../responses.csv)\n",
    "\n",
    " \n",
    "URLs and URLs in angle brackets will automatically get turned into links. \n",
    "http://www.example.com or <http://www.example.com> and sometimes \n",
    "example.com (but not on Github, for example).\n",
    "\n",
    " "
   ]
  },
  {
   "cell_type": "markdown",
   "metadata": {
    "slideshow": {
     "slide_type": "slide"
    }
   },
   "source": [
    " \n",
    "## Images\n",
    "\n",
    " \n",
    "\n",
    "Here's our logo (hover to see the title text):\n",
    "\n",
    " \n",
    "![alt text](https://github.com/adam-p/markdown-here/raw/master/src/common/images/icon48.png \"Logo Title Text 1\")\n",
    "\n",
    "and without title text\n",
    "\n",
    "![alt](https://github.com/adam-p/markdown-here/raw/master/src/common/images/icon48.png  )"
   ]
  },
  {
   "cell_type": "markdown",
   "metadata": {
    "slideshow": {
     "slide_type": "slide"
    }
   },
   "source": [
    "## Code and Syntax Highlighting\n",
    "\n",
    "Code blocks are part of the Markdown spec, but syntax highlighting isn't.  \n",
    "\n",
    "```no-highlight\n",
    "Inline `code` has `back-ticks around` it.\n",
    "```\n",
    "\n",
    "Inline `code` has `back-ticks around` it.\n",
    " "
   ]
  },
  {
   "cell_type": "markdown",
   "metadata": {
    "slideshow": {
     "slide_type": "slide"
    }
   },
   "source": [
    " \n",
    "## Tables\n",
    "\n",
    "Tables aren't part of the core Markdown spec, but they are part of GFM and *Markdown Here* supports them. They are an easy way of adding tables to your email -- a task that would otherwise require copy-pasting from another application.\n",
    "\n",
    " \n",
    "\n",
    "Colons can be used to align columns.\n",
    "\n",
    "| **Tables **       | **Are**           | **Cool ** |\n",
    "| ------------- |:-------------:| -----:|\n",
    "| col 3 is      | right-aligned | 1600 |\n",
    "| col 2 is      | centered      |   12 |\n",
    "| zebra stripes | are neat      |    1 |\n",
    "\n",
    "The outer pipes (|) are optional, and you don't need to make the raw Markdown line up prettily. You can also use inline Markdown.\n",
    "\n",
    "Markdown | Less | Pretty\n",
    "--- | --- | ---\n",
    "*Still* | `renders` | **nicely**\n",
    "1 | 2 | 3"
   ]
  },
  {
   "cell_type": "markdown",
   "metadata": {
    "slideshow": {
     "slide_type": "slide"
    }
   },
   "source": [
    "# Blockquotes\n",
    "\n",
    "> Blockquotes are very handy in email to emulate reply text.\n",
    "> This line is part of the same quote.\n",
    "\n",
    "Quote break.\n",
    "\n",
    "> This is a very long line that will still be quoted properly when it wraps. Oh boy let's keep writing to make sure this is long enough to actually wrap for everyone. Oh, you can *put* **Markdown** into a blockquote. "
   ]
  },
  {
   "cell_type": "markdown",
   "metadata": {
    "slideshow": {
     "slide_type": "slide"
    }
   },
   "source": [
    " \n",
    "## Inline HTML\n",
    "\n",
    "You can also use raw HTML in your Markdown, and it'll mostly work pretty well. \n",
    "\n",
    "```no-highlight\n",
    "<dl>\n",
    "  <dt>Definition list</dt>\n",
    "  <dd>Is something people use sometimes.</dd>\n",
    "\n",
    "  <dt>Markdown in HTML</dt>\n",
    "  <dd>Does *not* work **very** well. Use HTML <em>tags</em>.</dd>\n",
    "</dl>\n",
    "```\n",
    "\n",
    "<dl>\n",
    "  <dt>Definition list</dt>\n",
    "  <dd>Is something people use sometimes.</dd>\n",
    "\n",
    "  <dt>Markdown in HTML</dt>\n",
    "  <dd>Does *not* work **very** well. Use HTML <em>tags</em>.</dd>\n",
    "</dl>"
   ]
  },
  {
   "cell_type": "markdown",
   "metadata": {
    "slideshow": {
     "slide_type": "slide"
    }
   },
   "source": [
    " \n",
    "## Horizontal Rule\n",
    "\n",
    " \n",
    "\n",
    "Three or more...\n",
    "\n",
    "---\n",
    "\n",
    "Hyphens\n",
    "\n",
    "***\n",
    "\n",
    "Asterisks\n",
    "\n",
    "___\n",
    "\n",
    "Underscores\n",
    "\n",
    " "
   ]
  },
  {
   "cell_type": "markdown",
   "metadata": {
    "slideshow": {
     "slide_type": "slide"
    }
   },
   "source": [
    "## Line Breaks\n",
    "\n",
    "My basic recommendation for learning how line breaks work is to experiment and discover -- hit &lt;Enter&gt; once (i.e., insert one newline), then hit it twice (i.e., insert two newlines), see what happens. You'll soon learn to get what you want. \"Markdown Toggle\" is your friend. \n",
    "\n",
    "Here are some things to try                                    out:\n",
    "\n",
    " \n",
    "Here's a line for us to start with.\n",
    "\n",
    "This line is separated from the one above by two newlines, so it will be a *separate paragraph*.\n",
    "\n",
    "This line is also begins a separate paragraph, but...  \n",
    "This line is only separated by a single newline, so it's a separate line in the *same paragraph*.\n",
    "\n",
    " "
   ]
  },
  {
   "cell_type": "markdown",
   "metadata": {
    "slideshow": {
     "slide_type": "slide"
    }
   },
   "source": [
    " \n",
    "## Youtube videos\n",
    "\n",
    "They can't be added directly but you can add an image with a link to the video like this:\n",
    "\n",
    " \n",
    "<a href=\"http://www.youtube.com/watch?feature=player_embedded&v=YOUTUBE_VIDEO_ID_HERE\n",
    "\" target=\"_blank\"><img src=\"http://img.youtube.com/vi/YOUTUBE_VIDEO_ID_HERE/0.jpg\" \n",
    "alt=\"IMAGE ALT TEXT HERE\" width=\"240\" height=\"180\" border=\"10\" /></a>\n",
    " \n",
    "\n",
    "Or, in pure Markdown, but losing the image sizing and border:\n",
    "\n",
    " \n",
    "[![IMAGE ALT TEXT HERE](http://img.youtube.com/vi/YOUTUBE_VIDEO_ID_HERE/0.jpg)](http://www.youtube.com/watch? )"
   ]
  },
  {
   "cell_type": "markdown",
   "metadata": {
    "slideshow": {
     "slide_type": "slide"
    }
   },
   "source": [
    "## Jullie beurt\n",
    "\n",
    "#### Maak in deze cel een MarkDown versie van dit document: <http://maartenmarx.nl/teaching/IKintroductie/ToetsbeleidBSc2014.pdf>\n",
    "\n",
    "* Gebruik natuurlijk Copy-Paste\n",
    "* Wees creatief, en als je denkt dat je het beter of mooier kunt opmaken, doe dat dan.\n",
    "* De bladzijden   hoeven vanzelfsprekend niet.\n",
    "* De plaatjes vind je snel met [Google afbeeldingen op 'uva logo](https://www.google.nl/search?q=uva+logo&espv=2&biw=1164&bih=576&source=lnms&tbm=isch&sa=X&ved=0CAYQ_AUoAWoVChMI7ZiIjKCFxwIVClkUCh1mgA0Y)\n",
    "* Stop er ook eens een mooi tabel in\n"
   ]
  },
  {
   "cell_type": "markdown",
   "metadata": {},
   "source": [
    "# TOETSBELEID � BACHELOROPLEIDING INFORMATIEKUNDE\n",
    "\n",
    "**Versie:** 12 mei 2014\n",
    "\n",
    "Dit document geeft een opsomming van reglementen die horen bij het toetsbeleid zoals dit\n",
    "geldt binnen de opleiding Bachelor Informatiekunde (BSc IK). Het doel van dit document is\n",
    "om deze reglementen expliciet te maken en te communiceren met belanghebbenden\n",
    "teneinde misverstanden, problemen en fouten te voorkomen, evenals vereenvoudiging te\n",
    "bewerkstelligen door meer uniformiteit.\n",
    "\n",
    "## Omvang vakken\n",
    "Vakken binnen de BSc IK hebben een omvang van 6 EC, duren 8 of 4 weken, en worden\n",
    "respectievelijk half- of voltijds gegeven. Een uitzondering vormt het derdejaars\n",
    "Afstudeerproject BSc IK, wat gedurende de tweede helft van het derde jaar wordt gegeven\n",
    "(gedeeltelijk op individuele basis met een vaste supervisor), en een omvang heeft van 12 EC.\n",
    "\n",
    "Acht weken durende vakken noemen we regulier en vier weken durende vakken noemen\n",
    "we blokvakken of projecten.\n",
    "\n",
    "\n",
    "Daarnaast zijn vakken die acht weken duren opgedeeld in twee typen:\n",
    "\n",
    "* A - vakken met een deeltoets in week 4 en week 8, waarbij deze toetsweken onderwijsvrij\n",
    "zijn. Naast de deeltoetsen kan er ook sprake zijn van deelcijfers op basis van werkgroepen/of\n",
    "practicumopdrachten.\n",
    "* B - vakken waarbij meer dan twee toetsmomenten plaats vinden en waarbij het onderwijs in\n",
    "week 4 en/of week 8 door loopt.\n",
    "\n",
    "Een regulier vak heeft een omvang van 6 EC, hetgeen per week een ruimte van 21 uur\n",
    "impliceert (6 EC * 28 uren / 8 weken). De onderwijsbelasting voor studenten moet hierop\n",
    "nauwkeurig zijn afgestemd. "
   ]
  },
  {
   "cell_type": "markdown",
   "metadata": {
    "slideshow": {
     "slide_type": "slide"
    }
   },
   "source": [
    "# IPython notebook : waar zijn we?\n",
    "\n",
    "## Inhoud vandaag\n",
    "\n",
    "1. <strike>Filosofie achter het notebook</strike>\n",
    "2. <strike>Commandos geven aan je eigen computer</strike>\n",
    "2. <strike>Programmeren in Python</strike>\n",
    "3. ~~Schrijven in Markdown (je wilt nooit meer werken in Word oid)~~\n",
    "4. **Prachtige formules maken in LateX**\n",
    "5. Notebook op het web: slideshow of interactief. "
   ]
  },
  {
   "cell_type": "markdown",
   "metadata": {
    "slideshow": {
     "slide_type": "slide"
    }
   },
   "source": [
    "# Prachtige formules maken in LateX\n",
    "\n",
    "* Markdown is prachtig, maar je kan er niet alles mee.\n",
    "    * formules\n",
    "    * wiskunde\n",
    "    * gekke symbolen\n",
    "    \n",
    "* Hiervoor gebruiken we d&eacute; taal waarin wetenschappers publiceren:\n",
    "    * niet niet _Word_\n",
    "    * ook niet _HTML_,\n",
    "    * Maar $\\LaTeX$"
   ]
  },
  {
   "cell_type": "markdown",
   "metadata": {
    "slideshow": {
     "slide_type": "slide"
    }
   },
   "source": [
    "# Latex\n",
    "\n",
    "* Wikipedia: <https://en.wikipedia.org/wiki/LaTeX>\n",
    "* Formula cheat sheet: <http://users.dickinson.edu/~richesod/latex/latexcheatsheet.pdf>\n",
    "\n",
    "## Hier doen we alleen formules\n",
    "\n",
    "* Vertel MarkDown dat je Latex gaat gebruiken:\n",
    "    * zet iets tussen \\$-tekens of tussen dubbele \\$ tekens\n",
    "    * Inline formule zet je tussen enkele dollars: $2^3 \\leq 3^2 $, maar een uitgelichte formule tussen dubbele: \n",
    "    \n",
    "$$ \\{ n \\in \\mathbb{N} \\mid \\mbox{$n$ is even} \\} $$\n",
    "    \n",
    "$$ \\frac{\\Sigma_{i \\in I} a_i}{N} $$\n",
    "\n",
    "$$ \\{m\\in \\mbox{eerstejaars IK} \\mid m \\mbox{ wil nu graag naar de BBQ.}\\}  \\neq \\emptyset$$"
   ]
  },
  {
   "cell_type": "markdown",
   "metadata": {
    "slideshow": {
     "slide_type": "slide"
    }
   },
   "source": [
    "## Jullie beurt\n",
    "* Pak het cheat sheet erbij, en schrijf de paragraaf <https://nl.wikipedia.org/wiki/Verzameling_(wiskunde)#Eigenschappen_van_en_stellingen_over_verzamelingen> netjes in MarkDown en $\\LaTeX$.\n",
    "\n"
   ]
  },
  {
   "cell_type": "markdown",
   "metadata": {
    "slideshow": {
     "slide_type": "slide"
    }
   },
   "source": []
  },
  {
   "cell_type": "markdown",
   "metadata": {
    "slideshow": {
     "slide_type": "slide"
    }
   },
   "source": [
    "# IPython notebook : waar zijn we?\n",
    "\n",
    "## Inhoud vandaag\n",
    "\n",
    "1. <strike>Filosofie achter het notebook</strike>\n",
    "2. <strike>Commandos geven aan je eigen computer</strike>\n",
    "2. <strike>Programmeren in Python</strike>\n",
    "3. ~~Schrijven in Markdown (je wilt nooit meer werken in Word oid)~~\n",
    "4. ~~Prachtige formules maken in LateX~~\n",
    "5. **Notebook op het web: slideshow of interactief.**"
   ]
  },
  {
   "cell_type": "markdown",
   "metadata": {
    "slideshow": {
     "slide_type": "slide"
    }
   },
   "source": [
    "# Notebook op het web: slideshow of interactief\n",
    "\n",
    "* Je kunt notebooks op minstens drie manieren bekijken:\n",
    "    1. \"Draaien\" op je eigen computer.\n",
    "        * Voordeel: je kunt de cellen echt runnen en veranderen\n",
    "    1. Als notebook getoond in je browser\n",
    "    1. Als slideshow getoond in je browser\n",
    "        * Voordeel: het ziet er goed uit, het werkt overal\n",
    "        * Nadeel: het is _statisch_, je kunt niks zelf doen."
   ]
  },
  {
   "cell_type": "markdown",
   "metadata": {
    "slideshow": {
     "slide_type": "slide"
    }
   },
   "source": [
    "# Hoe zet je een notebook op het web?\n",
    "\n",
    "* Gebruik GitHub, of een andere plek.\n",
    "    * **DropBox en Google Drive werkt niet**\n",
    "* Zet je eigen notebook daarop.\n",
    "* Ga dan naar <http://nbviewer.ipython.org/>\n",
    "* En plak de URL van jouw notebook op DropBox in de \"zoekbox\".\n",
    "* Dan wordt het netjes getoond.\n",
    "* Je kunt nu de uitgebreide URL aan andere geven.\n",
    "    * Bijvoorbeeld [dit notebook](http://nbviewer.ipython.org/url/maartenmarx.nl/teaching/IKintroductie/IntroductieIPython.ipynb)\n",
    "    * <http://nbviewer.ipython.org/url/maartenmarx.nl/teaching/IKintroductie/IntroductieIPython.ipynb>\n",
    "    "
   ]
  },
  {
   "cell_type": "markdown",
   "metadata": {
    "slideshow": {
     "slide_type": "slide"
    }
   },
   "source": [
    "# Hoe maak je een slideshow van je notebook?\n",
    "\n",
    "* Kies in het menu `Cell Toolbar` boven in je nodebook `SlideShow`.\n",
    "* Kies dan voor elke cel wat voor soort slide het moet zijn:\n",
    "    * _Slide_ : een slide\n",
    "    * _fragment_: volgend stukje op dezelfde slide\n",
    "    * _sub_slide_: je gaat \"omlaag\" in je verhaal (met pijltje omlaag)\n",
    "* Bewaar net als eerder.\n",
    "* Bekijk je notebook op <http://nbviewer.ipython.org/>\n",
    "* Kies het \"kadotje\" symbool.\n",
    "* Nu zie je het als slideshow.\n",
    "    * [dit notebook](http://nbviewer.ipython.org/url/maartenmarx.nl/teaching/IKintroductie/IntroductieIPython.ipynb)"
   ]
  },
  {
   "cell_type": "markdown",
   "metadata": {
    "slideshow": {
     "slide_type": "slide"
    }
   },
   "source": [
    "# Einde\n",
    "\n",
    "* Gebruik je notebooks voor alles!\n",
    "* In ieder geval ga je ze gebruiken in de vakken\n",
    "    * netwerkanalyse\n",
    "    * collectieve intelligentie\n",
    "    * data science\n",
    "* Maak ook je werkstukken en slides in MarkDown en Latex.\n",
    "* Het is handig, makkelijk te delen, en opnieuw te gebruiken. \n",
    "* Het is ook veel _cooler_ dan Word, powerpoint, etc.\n",
    "* Lever **nooit meer een .doc(x) bestand in**: maak er altijd een PDF van."
   ]
  },
  {
   "cell_type": "markdown",
   "metadata": {
    "slideshow": {
     "slide_type": "slide"
    }
   },
   "source": [
    "![Alt](http://www.vvkwiek.nl/wp-content/uploads/2015/07/bbq.21.jpg)"
   ]
  }
 ],
 "metadata": {
  "celltoolbar": "Slideshow",
  "kernelspec": {
   "display_name": "Python 2",
   "language": "python",
   "name": "python2"
  },
  "language_info": {
   "codemirror_mode": {
    "name": "ipython",
    "version": 2
   },
   "file_extension": ".py",
   "mimetype": "text/x-python",
   "name": "python",
   "nbconvert_exporter": "python",
   "pygments_lexer": "ipython2",
   "version": "2.7.10"
  }
 },
 "nbformat": 4,
 "nbformat_minor": 0
}