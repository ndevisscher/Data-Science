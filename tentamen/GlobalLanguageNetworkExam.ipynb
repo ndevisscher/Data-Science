{
 "cells": [
  {
   "cell_type": "markdown",
   "metadata": {},
   "source": [
    "# Examen DataScience \n",
    "\n",
    "* Je maakt het examen op je eigen laptop, en rekent daar alles uit.\n",
    "* Je mag het internet op, maar je mag **niet communiceren**. Het plaatsen van je antwoorden ergens is natuurlijk ook verboden.\n",
    "* Je levert dit notebook met jouw antwoorden op de juiste plek in via Blackboards assignments, met de naam GlobalLanguageNetwork.\n",
    "\n",
    "* Veel succes! "
   ]
  },
  {
   "cell_type": "code",
   "execution_count": 65,
   "metadata": {
    "collapsed": false
   },
   "outputs": [],
   "source": [
    "import pandas as pd\n",
    "import numpy as np\n",
    "import matplotlib.pyplot as plt\n",
    "%matplotlib inline"
   ]
  },
  {
   "cell_type": "markdown",
   "metadata": {},
   "source": [
    "# 1\n",
    "\n",
    "Read the spreadsheet on `http://language.media.mit.edu/data/public/unesco_langlang_20120722_iso639-3.txt` directly in in pandas in a dataframe called `raw`, and show the first 5 lines of the dataframe `raw`.\n",
    "\n",
    "* this must be done in 2 lines"
   ]
  },
  {
   "cell_type": "code",
   "execution_count": 16,
   "metadata": {
    "collapsed": false
   },
   "outputs": [
    {
     "data": {
      "text/html": [
       "<div>\n",
       "<table border=\"1\" class=\"dataframe\">\n",
       "  <thead>\n",
       "    <tr style=\"text-align: right;\">\n",
       "      <th></th>\n",
       "      <th>original_language</th>\n",
       "      <th>target_language</th>\n",
       "      <th>num_translations</th>\n",
       "    </tr>\n",
       "  </thead>\n",
       "  <tbody>\n",
       "    <tr>\n",
       "      <th>0</th>\n",
       "      <td>abk</td>\n",
       "      <td>aze</td>\n",
       "      <td>1</td>\n",
       "    </tr>\n",
       "    <tr>\n",
       "      <th>1</th>\n",
       "      <td>abk</td>\n",
       "      <td>bul</td>\n",
       "      <td>1</td>\n",
       "    </tr>\n",
       "    <tr>\n",
       "      <th>2</th>\n",
       "      <td>abk</td>\n",
       "      <td>deu</td>\n",
       "      <td>1</td>\n",
       "    </tr>\n",
       "    <tr>\n",
       "      <th>3</th>\n",
       "      <td>abk</td>\n",
       "      <td>eng</td>\n",
       "      <td>2</td>\n",
       "    </tr>\n",
       "    <tr>\n",
       "      <th>4</th>\n",
       "      <td>abk</td>\n",
       "      <td>est</td>\n",
       "      <td>2</td>\n",
       "    </tr>\n",
       "  </tbody>\n",
       "</table>\n",
       "</div>"
      ],
      "text/plain": [
       "  original_language target_language  num_translations\n",
       "0               abk             aze                 1\n",
       "1               abk             bul                 1\n",
       "2               abk             deu                 1\n",
       "3               abk             eng                 2\n",
       "4               abk             est                 2"
      ]
     },
     "execution_count": 16,
     "metadata": {},
     "output_type": "execute_result"
    }
   ],
   "source": [
    "raw = pd.read_table(\"http://language.media.mit.edu/data/public/unesco_langlang_20120722_iso639-3.txt\")\n",
    "raw[:5]"
   ]
  },
  {
   "cell_type": "markdown",
   "metadata": {},
   "source": [
    "# 2 \n",
    "We zijn natuurlijk in de Nederlandse taal geinterreseerd. Die heeft code `nld`.\n",
    "\n",
    "1. Hoeveel regels zijn er in `raw` met `nld` in de kolom `original_language`\n",
    "2. En hoeveel in de kolom `target_language`\n",
    "3. Naar welke taal zijn er de meeste vertalingen vanuit het Nederlands?  Geef een one liner die de top 5 laat zien. Je laat alleen de kolommen `['target_language','num_translations']` zien, en eventueel de index kolom.\n",
    "4. Maak een plotje met op de x-as de namen van talen omgekeerd geordend op het aantal vertalingen, en op de y-as hoe veel vertalingen er vanuit het Nederlands naar die taal is. Zorg dat de y-as in een log schaal geplot wordt.  \n",
    "    * Je krijgt een wiebelige bijna rechte dalende curve. De x-as  begint met `deu`."
   ]
  },
  {
   "cell_type": "code",
   "execution_count": 45,
   "metadata": {
    "collapsed": false
   },
   "outputs": [
    {
     "name": "stdout",
     "output_type": "stream",
     "text": [
      "er zijn: 68 regels met nld als original language\n"
     ]
    }
   ],
   "source": [
    "#1\n",
    "rawnld = raw[raw[\"original_language\"]==\"nld\"]\n",
    "print \"er zijn:\",rawnld[\"original_language\"].count(),\"regels met nld als original language\""
   ]
  },
  {
   "cell_type": "code",
   "execution_count": 47,
   "metadata": {
    "collapsed": false
   },
   "outputs": [
    {
     "name": "stdout",
     "output_type": "stream",
     "text": [
      "er zijn: 116 regels met nld als target language\n"
     ]
    }
   ],
   "source": [
    "#2\n",
    "rawnld = raw[raw[\"target_language\"]==\"nld\"]\n",
    "print \"er zijn:\",rawnld[\"target_language\"].count(),\"regels met nld als target language\""
   ]
  },
  {
   "cell_type": "code",
   "execution_count": 59,
   "metadata": {
    "collapsed": false
   },
   "outputs": [
    {
     "data": {
      "text/html": [
       "<div>\n",
       "<table border=\"1\" class=\"dataframe\">\n",
       "  <thead>\n",
       "    <tr style=\"text-align: right;\">\n",
       "      <th></th>\n",
       "      <th>target_language</th>\n",
       "      <th>num_translations</th>\n",
       "    </tr>\n",
       "  </thead>\n",
       "  <tbody>\n",
       "    <tr>\n",
       "      <th>4657</th>\n",
       "      <td>deu</td>\n",
       "      <td>6238</td>\n",
       "    </tr>\n",
       "    <tr>\n",
       "      <th>4666</th>\n",
       "      <td>fra</td>\n",
       "      <td>3304</td>\n",
       "    </tr>\n",
       "    <tr>\n",
       "      <th>4659</th>\n",
       "      <td>eng</td>\n",
       "      <td>2855</td>\n",
       "    </tr>\n",
       "    <tr>\n",
       "      <th>4703</th>\n",
       "      <td>spa</td>\n",
       "      <td>990</td>\n",
       "    </tr>\n",
       "    <tr>\n",
       "      <th>4656</th>\n",
       "      <td>dan</td>\n",
       "      <td>810</td>\n",
       "    </tr>\n",
       "  </tbody>\n",
       "</table>\n",
       "</div>"
      ],
      "text/plain": [
       "     target_language  num_translations\n",
       "4657             deu              6238\n",
       "4666             fra              3304\n",
       "4659             eng              2855\n",
       "4703             spa               990\n",
       "4656             dan               810"
      ]
     },
     "execution_count": 59,
     "metadata": {},
     "output_type": "execute_result"
    }
   ],
   "source": [
    "#3\n",
    "raw[raw[\"original_language\"]==\"nld\"].sort_values(by='num_translations',ascending=False).loc[:,[\"target_language\",\"num_translations\"]][:5]"
   ]
  },
  {
   "cell_type": "code",
   "execution_count": 90,
   "metadata": {
    "collapsed": false
   },
   "outputs": [
    {
     "data": {
      "image/png": "[encoded data removed]",
      "text/plain": [
       "<matplotlib.figure.Figure at 0xed2e128>"
      ]
     },
     "metadata": {},
     "output_type": "display_data"
    }
   ],
   "source": [
    "#4\n",
    "ordered_data = raw[raw[\"original_language\"]==\"nld\"].sort_values(by='num_translations',ascending=False)\n",
    "xaxis = ordered_data[\"target_language\"].values\n",
    "yaxis = ordered_data[\"num_translations\"].values\n",
    "plt.rcParams['figure.figsize']=(30,10)\n",
    "plt.scatter(range(0,len(xaxis)),yaxis)\n",
    "plt.xlabel(\"Languages translated too\")\n",
    "plt.xticks(np.arange(len(ordered_data)),xaxis)\n",
    "plt.ylabel(\"number of translations\")\n",
    "plt.title(\"Number of translations to a given language from nld\")\n",
    "plt.show()"
   ]
  },
  {
   "cell_type": "markdown",
   "metadata": {},
   "source": [
    "# 3 \n",
    "\n",
    "Bekijk eens de output van `spannend= raw.original_language.value_counts()`. Gebruik `?` om uit te vogelen wat `value_counts` eigenlijk doet.\n",
    "\n",
    "1. Beschrijf, gebruikmakend van terminologie uit de theorie van sociale netwerken, wat `spannend` betekent.\n",
    "2. Wat betekent `raw.target_language.value_counts()` dan?\n",
    "3. Maak een pandas Series object genaamd `total_translations` (een Dataframe met maar 1 kolom) met de taalcode als index en met voor elke taal het totaal aantal vertalingen vanuit die taal als waarde. Sorteer weer omgekeerd. De top 5 ziet er dan als volgt uit:\n",
    "```\n",
    "eng    1225237\n",
    "fra     216624\n",
    "deu     201718\n",
    "rus     101395\n",
    "ita      66453\n",
    "```\n",
    "    1. Plot `total_translations` in loglog schaal. \n",
    "    2. Wat is de waarde in `total_translations` voor het Nederlands?"
   ]
  },
  {
   "cell_type": "markdown",
   "metadata": {},
   "source": [
    "### 3.1\n",
    "Dit geeft weer naar hoeveel verschillende talen de talen zijn vertaald. Dus hoe hoger de count, naar hoe meer talen is vertaald. voor grieks betekent dit bijvoorbeeld dat het naar 378 andere talen is vertaald.\n",
    "\n",
    "### 3.2\n",
    "Dit geeft aan hoevaak er is vertaald naar die taal. Dus vanuit hoeveel talen er vertalingen zijn naar die taal. Voor engels betekent dit dat er vanuit 427 verschillende talen vertaald is naar het engels."
   ]
  },
  {
   "cell_type": "code",
   "execution_count": 115,
   "metadata": {
    "collapsed": false
   },
   "outputs": [
    {
     "data": {
      "text/html": [
       "<div>\n",
       "<table border=\"1\" class=\"dataframe\">\n",
       "  <thead>\n",
       "    <tr style=\"text-align: right;\">\n",
       "      <th></th>\n",
       "      <th>num_translations</th>\n",
       "    </tr>\n",
       "    <tr>\n",
       "      <th>original_language</th>\n",
       "      <th></th>\n",
       "    </tr>\n",
       "  </thead>\n",
       "  <tbody>\n",
       "    <tr>\n",
       "      <th>eng</th>\n",
       "      <td>1225237</td>\n",
       "    </tr>\n",
       "    <tr>\n",
       "      <th>fra</th>\n",
       "      <td>216624</td>\n",
       "    </tr>\n",
       "    <tr>\n",
       "      <th>deu</th>\n",
       "      <td>201718</td>\n",
       "    </tr>\n",
       "    <tr>\n",
       "      <th>rus</th>\n",
       "      <td>101395</td>\n",
       "    </tr>\n",
       "    <tr>\n",
       "      <th>ita</th>\n",
       "      <td>66453</td>\n",
       "    </tr>\n",
       "  </tbody>\n",
       "</table>\n",
       "</div>"
      ],
      "text/plain": [
       "                   num_translations\n",
       "original_language                  \n",
       "eng                         1225237\n",
       "fra                          216624\n",
       "deu                          201718\n",
       "rus                          101395\n",
       "ita                           66453"
      ]
     },
     "execution_count": 115,
     "metadata": {},
     "output_type": "execute_result"
    }
   ],
   "source": [
    "#3\n",
    "total_translations = raw.groupby([\"original_language\"]).sum().sort_values(by=\"num_translations\",ascending=False)\n",
    "total_translations.head()"
   ]
  },
  {
   "cell_type": "code",
   "execution_count": null,
   "metadata": {
    "collapsed": true
   },
   "outputs": [],
   "source": [
    "total_translations = Series"
   ]
  },
  {
   "cell_type": "code",
   "execution_count": 181,
   "metadata": {
    "collapsed": false
   },
   "outputs": [
    {
     "data": {
      "text/plain": [
       "<matplotlib.axes._subplots.AxesSubplot at 0xe31f978>"
      ]
     },
     "execution_count": 181,
     "metadata": {},
     "output_type": "execute_result"
    },
    {
     "data": {
      "image/png": "[encoded data removed]",
      "text/plain": [
       "<matplotlib.figure.Figure at 0xe773128>"
      ]
     },
     "metadata": {},
     "output_type": "display_data"
    }
   ],
   "source": [
    "#3A\n",
    "total_translations.plot(color=\"red\")"
   ]
  },
  {
   "cell_type": "code",
   "execution_count": 123,
   "metadata": {
    "collapsed": false
   },
   "outputs": [
    {
     "data": {
      "text/html": [
       "<div>\n",
       "<table border=\"1\" class=\"dataframe\">\n",
       "  <thead>\n",
       "    <tr style=\"text-align: right;\">\n",
       "      <th></th>\n",
       "      <th>num_translations</th>\n",
       "    </tr>\n",
       "    <tr>\n",
       "      <th>original_language</th>\n",
       "      <th></th>\n",
       "    </tr>\n",
       "  </thead>\n",
       "  <tbody>\n",
       "    <tr>\n",
       "      <th>nld</th>\n",
       "      <td>18978</td>\n",
       "    </tr>\n",
       "  </tbody>\n",
       "</table>\n",
       "</div>"
      ],
      "text/plain": [
       "                   num_translations\n",
       "original_language                  \n",
       "nld                           18978"
      ]
     },
     "execution_count": 123,
     "metadata": {},
     "output_type": "execute_result"
    }
   ],
   "source": [
    "#3B\n",
    "total_translations[total_translations.index==\"nld\"]"
   ]
  },
  {
   "cell_type": "markdown",
   "metadata": {},
   "source": [
    "# 4\n",
    "\n",
    "1. Geef de mediaan en het gemiddelde van het aantal vertalingen.\n",
    "2. Hoeveel taal-paren hebben meer vertalingen dan de mediaan?"
   ]
  },
  {
   "cell_type": "code",
   "execution_count": 179,
   "metadata": {
    "collapsed": false
   },
   "outputs": [
    {
     "name": "stdout",
     "output_type": "stream",
     "text": [
      "De mediaan van de dataset is: 3\n",
      "Er zijn gemiddeld: 3449 vertalingen per taal\n"
     ]
    }
   ],
   "source": [
    "#4.1\n",
    "length = len(total_translations)\n",
    "mediaan = int(total_translations.values[(len(total_translations)/2)])\n",
    "gemiddelde = total_translations[\"num_translations\"].sum()/len(total_translations)\n",
    "print \"De mediaan van de dataset is:\",mediaan\n",
    "print \"Er zijn gemiddeld:\",gemiddelde,\"vertalingen per taal\"\n"
   ]
  },
  {
   "cell_type": "code",
   "execution_count": 180,
   "metadata": {
    "collapsed": false
   },
   "outputs": [
    {
     "name": "stdout",
     "output_type": "stream",
     "text": [
      "Er zijn: 3289 talen paren die meer vertalingen hebben dan de mediaan\n"
     ]
    }
   ],
   "source": [
    "#4.2\n",
    "print \"Er zijn:\",raw[raw[\"num_translations\"]>mediaan][\"num_translations\"].count(), \"talen paren die meer vertalingen hebben dan de mediaan\""
   ]
  }
 ],
 "metadata": {
  "kernelspec": {
   "display_name": "Python 2",
   "language": "python",
   "name": "python2"
  },
  "language_info": {
   "codemirror_mode": {
    "name": "ipython",
    "version": 2
   },
   "file_extension": ".py",
   "mimetype": "text/x-python",
   "name": "python",
   "nbconvert_exporter": "python",
   "pygments_lexer": "ipython2",
   "version": "2.7.11"
  }
 },
 "nbformat": 4,
 "nbformat_minor": 0
}
